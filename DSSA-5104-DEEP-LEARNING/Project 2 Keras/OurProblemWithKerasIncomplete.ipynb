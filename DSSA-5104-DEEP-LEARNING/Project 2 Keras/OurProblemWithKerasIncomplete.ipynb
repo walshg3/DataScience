{
 "cells": [
  {
   "cell_type": "code",
   "execution_count": null,
   "metadata": {},
   "outputs": [],
   "source": [
    "import numpy as np\n",
    "from keras.models import Sequential\n",
    "from keras.layers import Dense\n",
    "# This code is not complete\n",
    "# You will need to \"fill in the blanks\"\n",
    "features_and_targets = np.loadtxt('features_and_targets.csv',delimiter=',')\n",
    "np.random.shuffle(features_and_targets)\n",
    "\n",
    "X = \n",
    "Y = \n",
    "\n",
    "np.random.seed(7)\n",
    "\n",
    "model = \n",
    "model.add( )\n",
    "model.add( )\n",
    "model.add( )\n",
    "model.compile( )\n",
    "model.fit( )\n",
    "\n",
    "#If you call the model.fit() and assign it to a variable\n",
    "#it will run and create a history object\n",
    "#history = model.fit( )\n",
    "\n",
    "scores = model.evaluate(X,Y)\n",
    "\n",
    "#print('\\n%s: %.2f%%' % (model.metrics_names[1], scores[1]*100))\n",
    "\n",
    "predicted_targets = model.predict(X)\n",
    "\n",
    "for i in range(22):\n",
    "    print('Predicted: ',predicted_targets[i,:],'Observed: ',Y[i,:])"
   ]
  },
  {
   "cell_type": "code",
   "execution_count": null,
   "metadata": {},
   "outputs": [],
   "source": [
    "type(history)\n",
    "print(history)\n",
    "type(history.history)\n",
    "print(history.history)\n",
    "accuracy = history.history['acc']\n",
    "loss = history.history['loss']\n",
    "print(accuracy)\n",
    "print(loss)"
   ]
  },
  {
   "cell_type": "code",
   "execution_count": null,
   "metadata": {},
   "outputs": [],
   "source": [
    "import matplotlib.pyplot as plt\n",
    "accuracy = history.history['acc']\n",
    "loss = history.history['loss']\n",
    "plt.plot( )\n",
    "plt.plot( )\n",
    "plt.xlabel( )\n",
    "plt.ylabel( )\n",
    "plt.legend()\n",
    "plt.show()"
   ]
  },
  {
   "cell_type": "code",
   "execution_count": null,
   "metadata": {},
   "outputs": [],
   "source": [
    "plt.scatter(predicted_targets[:,0],predicted_targets[:,1])\n",
    "plt.scatter(Y[:,0],Y[:,1])\n",
    "plt.show()"
   ]
  },
  {
   "cell_type": "code",
   "execution_count": 1,
   "metadata": {},
   "outputs": [
    {
     "name": "stdout",
     "output_type": "stream",
     "text": [
      "[name: \"/device:CPU:0\"\n",
      "device_type: \"CPU\"\n",
      "memory_limit: 268435456\n",
      "locality {\n",
      "}\n",
      "incarnation: 6417953903102890968\n",
      ", name: \"/device:XLA_CPU:0\"\n",
      "device_type: \"XLA_CPU\"\n",
      "memory_limit: 17179869184\n",
      "locality {\n",
      "}\n",
      "incarnation: 244701622275817108\n",
      "physical_device_desc: \"device: XLA_CPU device\"\n",
      "]\n"
     ]
    }
   ],
   "source": [
    "# Run this command to see if Tensorflow has detected a GPU to use\n",
    "from tensorflow.python.client import device_lib\n",
    "print(device_lib.list_local_devices())"
   ]
  },
  {
   "cell_type": "code",
   "execution_count": 1,
   "metadata": {},
   "outputs": [
    {
     "output_type": "error",
     "ename": "ModuleNotFoundError",
     "evalue": "No module named 'theano'",
     "traceback": [
      "\u001b[1;31m---------------------------------------------------------------------------\u001b[0m",
      "\u001b[1;31mModuleNotFoundError\u001b[0m                       Traceback (most recent call last)",
      "\u001b[1;32m<ipython-input-1-53f8cb2c4f32>\u001b[0m in \u001b[0;36m<module>\u001b[1;34m\u001b[0m\n\u001b[0;32m      1\u001b[0m \u001b[1;31m#Run this - if Theano finds a GPU to use it will tell you\u001b[0m\u001b[1;33m\u001b[0m\u001b[1;33m\u001b[0m\u001b[1;33m\u001b[0m\u001b[0m\n\u001b[1;32m----> 2\u001b[1;33m \u001b[1;32mimport\u001b[0m \u001b[0mtheano\u001b[0m\u001b[1;33m\u001b[0m\u001b[1;33m\u001b[0m\u001b[0m\n\u001b[0m",
      "\u001b[1;31mModuleNotFoundError\u001b[0m: No module named 'theano'"
     ]
    }
   ],
   "source": [
    "#Run this - if Theano finds a GPU to use it will tell you\n",
    "import theano"
   ]
  },
  {
   "cell_type": "code",
   "execution_count": null,
   "metadata": {},
   "outputs": [],
   "source": []
  }
 ],
 "metadata": {
  "kernelspec": {
   "display_name": "Python 3",
   "language": "python",
   "name": "python3"
  },
  "language_info": {
   "codemirror_mode": {
    "name": "ipython",
    "version": 3
   },
   "file_extension": ".py",
   "mimetype": "text/x-python",
   "name": "python",
   "nbconvert_exporter": "python",
   "pygments_lexer": "ipython3",
   "version": "3.7.7-final"
  }
 },
 "nbformat": 4,
 "nbformat_minor": 2
}