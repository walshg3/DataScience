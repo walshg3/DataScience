{
 "cells": [
  {
   "cell_type": "markdown",
   "metadata": {},
   "source": [
    "Greg Walsh \n",
    "\n",
    "DSSA-5104-091 - DEEP LEARNING\n",
    "\n",
    "Spring 2020\n",
    "\n",
    "Linear Regression Notebook \n"
   ]
  },
  {
   "cell_type": "code",
   "execution_count": 2,
   "metadata": {},
   "outputs": [],
   "source": [
    "import autograd.numpy as np\n",
    "from autograd import grad # used for the loss function using gradient value\n",
    "import matplotlib.pyplot as plt"
   ]
  },
  {
   "cell_type": "code",
   "execution_count": 3,
   "metadata": {
    "scrolled": true
   },
   "outputs": [
    {
     "name": "stdout",
     "output_type": "stream",
     "text": [
      "First guess at a and b are  2.0 1.0\n",
      "First loss function is  500.15\n",
      "Best a and b are  0.9390198950485866 0.47419724324276397\n",
      "Best loss function is  1.3416095642628225\n"
     ]
    },
    {
     "data": {
      "image/png": "[encoded data removed]",
      "text/plain": [
       "<Figure size 432x288 with 2 Axes>"
      ]
     },
     "metadata": {
      "needs_background": "light"
     },
     "output_type": "display_data"
    }
   ],
   "source": [
    "# linear function returns continuous ranged value\n",
    "def linear(x,a,b):\n",
    "    return a*x+b\n",
    "# loss function return SSR\n",
    "def loss(x,y_obs,a,b):\n",
    "    y_model = linear(x,a,b)\n",
    "    return np.sum( (y_model-y_obs)**2 )\n",
    "\n",
    "# create x and y arrays to test with \n",
    "x = np.array( [0,1,2,3,4,5,6,7,8,9,10] )\n",
    "y_obs = np.array( [0,1.1,1.9,3.2,3.8,5.1,6.3,6.9,8.5,8.5,10.2] )\n",
    "\n",
    "# assign weights for prediction randomly \n",
    "a,b = 2.0, 1.0\n",
    "y_model = linear(x,a,b)\n",
    "\n",
    "print('First guess at a and b are ',a,b)\n",
    "print('First loss function is ',loss(x,y_obs,a,b))\n",
    "\n",
    "# autograd is used here to get the derivative of the gradiant \n",
    "d_by_da = grad(loss,2)\n",
    "d_by_db = grad(loss,3)\n",
    "\n",
    "# learning rate is how much the algorithm will move through testing\n",
    "# smaller value is more accurate but will take more attempts\n",
    "# larger value is faster but you might miss local min \n",
    "learning_rate = 0.0001\n",
    "# same as epochs how many time to run algorithm\n",
    "maximum_number_of_iterations = 1000\n",
    "\n",
    "ssr = []\n",
    "\n",
    "# iter through data and calculate the loss function with the learning rate at the time \n",
    "for iter in range(maximum_number_of_iterations):\n",
    "    a -= learning_rate*d_by_da(x,y_obs,a,b)\n",
    "    b -= learning_rate*d_by_db(x,y_obs,a,b)\n",
    "    y_model = linear(x,a,b)\n",
    "    ssr.append(loss(x,y_obs,a,b))\n",
    "    \n",
    "print('Best a and b are ',a,b)\n",
    "print('Best loss function is ',loss(x,y_obs,a,b))\n",
    "\n",
    "plt.subplot(1,2,1)\n",
    "plt.scatter(x,y_obs)\n",
    "plt.plot(x,y_model)\n",
    "\n",
    "plt.subplot(1,2,2)\n",
    "plt.plot(ssr)\n",
    "\n",
    "plt.show()"
   ]
  },
  {
   "cell_type": "code",
   "execution_count": null,
   "metadata": {},
   "outputs": [],
   "source": []
  }
 ],
 "metadata": {
  "kernelspec": {
   "display_name": "Python 3",
   "language": "python",
   "name": "python3"
  },
  "language_info": {
   "codemirror_mode": {
    "name": "ipython",
    "version": 3
   },
   "file_extension": ".py",
   "mimetype": "text/x-python",
   "name": "python",
   "nbconvert_exporter": "python",
   "pygments_lexer": "ipython3",
   "version": "3.7.7"
  }
 },
 "nbformat": 4,
 "nbformat_minor": 2
}
