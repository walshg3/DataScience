{
 "cells": [
  {
   "cell_type": "markdown",
   "metadata": {},
   "source": [
    "## A demonstration of overfitting\n",
    "## with a simple polynomial fit\n",
    "## (not a neural network!!)"
   ]
  },
  {
   "cell_type": "code",
   "execution_count": 27,
   "metadata": {},
   "outputs": [
    {
     "name": "stdout",
     "output_type": "stream",
     "text": [
      "Total dataset has  4177  data points\n",
      "Will use a random sample of only  10  data points\n"
     ]
    },
    {
     "data": {
      "image/png": "[encoded data removed]",
      "text/plain": [
       "<Figure size 432x288 with 1 Axes>"
      ]
     },
     "metadata": {},
     "output_type": "display_data"
    },
    {
     "name": "stdout",
     "output_type": "stream",
     "text": [
      "Fitted model is  1 st order\n",
      "y = \n",
      " \n",
      "5.411 x - 1.368\n"
     ]
    }
   ],
   "source": [
    "# import libraries that are required\n",
    "import numpy as np\n",
    "import sys\n",
    "import matplotlib.pyplot as plt\n",
    "\n",
    "# Load data from file into N by 2 numpy array\n",
    "filename = \"abalone.data.txt\"\n",
    "X = np.loadtxt( filename, delimiter=',', usecols=(2,4) )\n",
    "\n",
    "# Put first column into N by 1 array called diameter\n",
    "# and second column into N by 1 array called mass_observed\n",
    "diameter = X[:,0]\n",
    "mass_observed = X[:,1]\n",
    "\n",
    "# I don't want to use all the data so I use the numpy function\n",
    "# called random.choice to generate 10 random indices out of a total\n",
    "# of diameter.size indices. Then I create smaller sample vectors that\n",
    "# are just 10 in size from the complete dataset\n",
    "np.random.seed(10)\n",
    "print('Total dataset has ',diameter.size,' data points')\n",
    "sample_size = 10\n",
    "print('Will use a random sample of only ',sample_size,' data points')\n",
    "sample_indices = np.random.choice(diameter.size,sample_size)\n",
    "diameter_sample = diameter[sample_indices]\n",
    "mass_observed_sample = mass_observed[sample_indices]\n",
    "\n",
    "# Set the degree of the polynomial you wish for your model\n",
    "# degree_of_polynomial_to_fit = 1 is a linear model y = a x + b\n",
    "# degree_of_polynomial_to_fit = 2 is a quadratic model y = a x^2 + b x + c\n",
    "# degree_of_polynomial_to_fit = 3 is a cubic model y = a x^3 + b x^2 + c x + d\n",
    "# etc.\n",
    "degree_of_polynomial_to_fit = 1\n",
    "\n",
    "# Fit the polynomial model using the numpy polyfit function\n",
    "# It returns the coefficients of an n-th degree polynomial\n",
    "# that fits your data. A very useful numpy function to know!!\n",
    "coefficients = np.polyfit(diameter_sample, mass_observed_sample, degree_of_polynomial_to_fit)\n",
    "\n",
    "# I want to plot the model as a line plot so I generate a large \n",
    "# set of ordered diameter values for which I can find corresponding\n",
    "# model mass predictions using the polynomial function I just fitted\n",
    "diameter_sample_for_plot = np.linspace(diameter_sample.min(),diameter_sample.max(),100)\n",
    "\n",
    "# Use the fitted model coefficients to create the model function\n",
    "model_for_mass = np.poly1d(coefficients)\n",
    "\n",
    "# Make predictions for mass using the model function and the diameter values I generated earlier\n",
    "mass_prediction = model_for_mass(diameter_sample_for_plot)\n",
    "\n",
    "# Now I can do the plots\n",
    "plt.scatter(diameter_sample,mass_observed_sample, marker = 'o', s=150, alpha = 0.5,label='Observed')\n",
    "plt.plot(diameter_sample_for_plot,mass_prediction,color='red',label='Model')\n",
    "\n",
    "#plt.text(0.05,2.2,str(loss))\n",
    "plt.xlabel('Diameter')\n",
    "plt.ylabel('Mass')\n",
    "plt.title('Mass versus diameter of abalone - observed and predicted')\n",
    "plt.legend(loc='best')\n",
    "\n",
    "#plt.savefig(\"abalone.png\")\n",
    "plt.show()\n",
    "\n",
    "if degree_of_polynomial_to_fit == 1:\n",
    "    s='st order'\n",
    "elif degree_of_polynomial_to_fit == 2:\n",
    "    s='nd order'\n",
    "else:\n",
    "    s='th order'\n",
    "    \n",
    "print('Fitted model is ',degree_of_polynomial_to_fit,s)\n",
    "print('y = ')\n",
    "print(model_for_mass)"
   ]
  },
  {
   "cell_type": "code",
   "execution_count": null,
   "metadata": {},
   "outputs": [],
   "source": []
  }
 ],
 "metadata": {
  "kernelspec": {
   "display_name": "Python 3",
   "language": "python",
   "name": "python3"
  },
  "language_info": {
   "codemirror_mode": {
    "name": "ipython",
    "version": 3
   },
   "file_extension": ".py",
   "mimetype": "text/x-python",
   "name": "python",
   "nbconvert_exporter": "python",
   "pygments_lexer": "ipython3",
   "version": "3.6.5"
  }
 },
 "nbformat": 4,
 "nbformat_minor": 2
}
