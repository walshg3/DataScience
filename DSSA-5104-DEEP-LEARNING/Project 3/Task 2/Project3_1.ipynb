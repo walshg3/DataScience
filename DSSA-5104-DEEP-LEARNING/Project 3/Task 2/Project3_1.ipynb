{
 "cells": [
  {
   "cell_type": "markdown",
   "metadata": {},
   "source": [
    "#### Greg Walsh\n",
    "#### Pima Indians - diabetes prediction\n",
    "#### Neural Network for binary classification"
   ]
  },
  {
   "cell_type": "code",
   "execution_count": 32,
   "metadata": {},
   "outputs": [
    {
     "name": "stdout",
     "output_type": "stream",
     "text": [
      "768/768 [==============================] - 0s 22us/step\n",
      "\n",
      "acc: 66.02%\n",
      "Saved model to disk\n",
      "Confusion Matrix\n",
      "================\n",
      "True negatives:  499\n",
      "False negatives:  260\n",
      "False positives:  1\n",
      "True positives:  8\n"
     ]
    }
   ],
   "source": [
    "# Import necessary libraries\n",
    "from keras.models import Sequential\n",
    "from keras.layers import Dense\n",
    "from keras.layers import Dropout\n",
    "from keras.constraints import maxnorm\n",
    "from keras.models import model_from_json\n",
    "from keras import optimizers\n",
    "import numpy as np\n",
    "from sklearn.metrics import classification_report, confusion_matrix\n",
    "\n",
    "# set random seed for reproducibility\n",
    "np.random.seed(7)\n",
    "\n",
    "# load pima indians dataset\n",
    "dataset = np.loadtxt(\"pima-indians-diabetes.csv\", delimiter=\",\")\n",
    "\n",
    "# split into input (X) and output (Y) variables\n",
    "X = dataset[:,0:8]\n",
    "Y = dataset[:,8] \n",
    "\n",
    "# create model (requires completion)\n",
    "model = Sequential()\n",
    "# Input layer (with dropout)\n",
    "model.add(Dropout(0.5,input_shape=(8,)))\n",
    "# First hidden layer 10 neurons with a relu activation. \n",
    "# normal distribution will be used to initialise weights, \n",
    "# which is why \"kernel_initializer='normal'\n",
    "# \"kernel_constraint=maxnorm(3)\" weights are restricted to >=3\n",
    "model.add(Dense(10,  kernel_initializer='normal', activation='relu',kernel_constraint=maxnorm(3)))\n",
    "# Second hidden layer 8 neurons this time \n",
    "model.add(Dense(8,  kernel_initializer='normal', activation='relu',kernel_constraint=maxnorm(3)))\n",
    "# Output (target) layer 1 neuron this time. This is our output so we want to use sigmoid. \n",
    "model.add(Dense(1, kernel_initializer='normal', activation='sigmoid'))\n",
    "\n",
    "# after all layers a created we compile the model with a loss function optomizer and look at\n",
    "# speicific metrics to know how the training it going\n",
    "# we use:  \n",
    "# loss: \"binary_crossentropy\" the predicted observations \n",
    "# from the sigmoid activation function will be used to compute \n",
    "# loss = -{(y\\log(p) + (1 - y)\\log(1 - p))}, where log is the natural log, \n",
    "# y is binary indicator (0 or 1) and p is predicted probability.\n",
    "# optimizer='adam'\n",
    "# metrics=['accuracy']\n",
    "model.compile(loss='binary_crossentropy', optimizer='adam', metrics=['accuracy'])\n",
    "# we then need to fit our model the loss should be going down \n",
    "# and here is where a validation split is used\n",
    "# 67% and a 33 % split  \n",
    "# Note verbose=0 is important so that a bunch of stuff doesnt output\n",
    "history=model.fit(X,Y,validation_split=0.333,epochs=1000,verbose=0)\n",
    "\n",
    "# evaluate() is for evaluating the already trained model using \n",
    "# the validation data.\n",
    "scores = model.evaluate(X, Y)\n",
    "# predict() generates output predictions for the input samples.\n",
    "Y_predict = model.predict(X)\n",
    "\n",
    "print(\"\\n%s: %.2f%%\" % (model.metrics_names[1], scores[1]*100))\n",
    "\n",
    "\n",
    "# Main reason for this is to be able to use our model again in the future without\n",
    "# Having to use the resources to retrain and test the model\n",
    "# saves so a json file which can be reread at a later date\n",
    "model_json = model.to_json()\n",
    "with open('model.json', 'w') as json_file:\n",
    "    json_file.write(model_json)\n",
    "# Save weights and biases to HD5 file\n",
    "# the model exists in an h5 file that keras can look at again to properly\n",
    "# assign weights and bias with our model again\n",
    "model.save_weights('model.h5')\n",
    "\n",
    "print('===================')\n",
    "print('Saved model to disk')\n",
    "print('===================')\n",
    "\n",
    "# Confusion Matrix will look at the quality of our outputs from the NN. 0,0 and 1,1 are what we strive for.\n",
    "rounded = [round(i[0]) for i in Y_predict]\n",
    "y_pred = np.array(rounded,dtype='int64')\n",
    "print('Confusion Matrix')\n",
    "print('================')\n",
    "CM = confusion_matrix(Y, y_pred)\n",
    "print('True negatives: ',CM[0,0]) # No and predicted No | we like this\n",
    "print('False negatives: ',CM[1,0]) # Yes but predicted No | This is horrible. We want least amount of these.\n",
    "print('False positives: ',CM[0,1]) # No but predicted Yes | This is okay for this use case.\n",
    "print('True positives: ',CM[1,1]) # Yes and predicted Yes | we like this"
   ]
  },
  {
   "cell_type": "code",
   "execution_count": 30,
   "metadata": {},
   "outputs": [
    {
     "data": {
      "image/png": "[encoded data removed]",
      "text/plain": [
       "<Figure size 432x288 with 1 Axes>"
      ]
     },
     "metadata": {},
     "output_type": "display_data"
    }
   ],
   "source": [
    "# Plot our data\n",
    "import matplotlib.pyplot as plt\n",
    "accuracy_training = history.history['accuracy']\n",
    "loss = history.history['loss']\n",
    "accuracy_testing = history.history['val_accuracy']\n",
    "#plt.semilogy(loss,label='loss')\n",
    "plt.semilogy(accuracy_training,label='accuracy - training')\n",
    "plt.semilogy(accuracy_testing,label='accuracy - testing')\n",
    "plt.xlabel('Epoch' )\n",
    "plt.ylabel('Accuracy')\n",
    "plt.legend()\n",
    "#plt.grid()\n",
    "plt.show()"
   ]
  },
  {
   "cell_type": "code",
   "execution_count": null,
   "metadata": {},
   "outputs": [],
   "source": []
  }
 ],
 "metadata": {
  "kernelspec": {
   "display_name": "Python 3",
   "language": "python",
   "name": "python3"
  },
  "language_info": {
   "codemirror_mode": {
    "name": "ipython",
    "version": 3
   },
   "file_extension": ".py",
   "mimetype": "text/x-python",
   "name": "python",
   "nbconvert_exporter": "python",
   "pygments_lexer": "ipython3",
   "version": "3.7.7"
  }
 },
 "nbformat": 4,
 "nbformat_minor": 2
}
