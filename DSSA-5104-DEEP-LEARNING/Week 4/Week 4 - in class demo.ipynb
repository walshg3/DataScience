{
 "cells": [
  {
   "cell_type": "markdown",
   "metadata": {},
   "source": [
    "## Using the Pillow library"
   ]
  },
  {
   "cell_type": "code",
   "execution_count": 2,
   "metadata": {},
   "outputs": [],
   "source": [
    "# First import the necessary libraries:\n",
    "# pillow (only import the most used module)\n",
    "# and numpy (import whole library and rename it np)\n",
    "\n",
    "from PIL import Image\n",
    "import numpy as np"
   ]
  },
  {
   "cell_type": "code",
   "execution_count": 5,
   "metadata": {},
   "outputs": [
    {
     "name": "stdout",
     "output_type": "stream",
     "text": [
      " code1.pdf   DC.png\t\t\t photos\r\n",
      " code2.pdf   DN1.png\t\t\t photos.zip\r\n",
      " code3.pdf   face_recognition.ipynb\t small_spy.jpg\r\n",
      " code4.pdf   FindtheSpy.ipynb\t\t'Week 4 - in class demo.ipynb'\r\n",
      " code5.pdf   groupphoto.jpg\t\t WithPillow2.ipynb\r\n",
      " dc1.png     JamesBond.ipynb\t\t WithPillow.ipynb\r\n",
      " dc2.jpeg   'Linear systems 3x3.ipynb'\r\n"
     ]
    }
   ],
   "source": [
    "# Checking what files are in your working directory\n",
    "# (maybe different command if Windows is your underlying OS)\n",
    "\n",
    "!ls"
   ]
  },
  {
   "cell_type": "code",
   "execution_count": 3,
   "metadata": {},
   "outputs": [],
   "source": [
    "# Create a string variable containing your filename\n",
    "# (Mine was called DC.png)\n",
    "\n",
    "filename = 'DC.png'\n",
    "\n",
    "# Create a PIL Image object by opening an image file\n",
    "# (Note if you wish to load as only grey scale use the second command)\n",
    "\n",
    "spy_colour = Image.open(filename)\n",
    "spy_grey = Image.open(filename).convert('L')"
   ]
  },
  {
   "cell_type": "code",
   "execution_count": 4,
   "metadata": {},
   "outputs": [
    {
     "output_type": "execute_result",
     "data": {
      "text/plain": "PIL.PngImagePlugin.PngImageFile"
     },
     "metadata": {},
     "execution_count": 4
    }
   ],
   "source": [
    "# Whenever you create an object check its type\n",
    "\n",
    "type(spy_colour)"
   ]
  },
  {
   "cell_type": "code",
   "execution_count": 5,
   "metadata": {},
   "outputs": [],
   "source": [
    "# Show (or view the image)\n",
    "\n",
    "spy_colour.show()"
   ]
  },
  {
   "cell_type": "code",
   "execution_count": 6,
   "metadata": {},
   "outputs": [],
   "source": [
    "# Resize the image to the width and height (in pixels) that you wish\n",
    "\n",
    "small_spy_colour = spy_colour.resize((32,32))"
   ]
  },
  {
   "cell_type": "code",
   "execution_count": 7,
   "metadata": {},
   "outputs": [],
   "source": [
    "# Show (or view the image)\n",
    "\n",
    "small_spy_colour.show()"
   ]
  },
  {
   "cell_type": "code",
   "execution_count": 12,
   "metadata": {},
   "outputs": [],
   "source": [
    "# Save the new image as jpg\n",
    "\n",
    "small_spy_colour.save('small_spy.jpg')\n",
    "\n",
    "# Save the new image as png\n",
    "\n",
    "small_spy_colour.save('small_spy.png')"
   ]
  },
  {
   "cell_type": "code",
   "execution_count": 13,
   "metadata": {},
   "outputs": [
    {
     "name": "stdout",
     "output_type": "stream",
     "text": [
      " code1.pdf   DC.png\t\t\t photos\r\n",
      " code2.pdf   DN1.png\t\t\t photos.zip\r\n",
      " code3.pdf   face_recognition.ipynb\t small_spy.jpg\r\n",
      " code4.pdf   FindtheSpy.ipynb\t\t small_spy.png\r\n",
      " code5.pdf   groupphoto.jpg\t\t'Week 4 - in class demo.ipynb'\r\n",
      " dc1.png     JamesBond.ipynb\t\t WithPillow2.ipynb\r\n",
      " dc2.jpeg   'Linear systems 3x3.ipynb'\t WithPillow.ipynb\r\n"
     ]
    }
   ],
   "source": [
    "# Check the files were created\n",
    "\n",
    "!ls"
   ]
  },
  {
   "cell_type": "code",
   "execution_count": 8,
   "metadata": {},
   "outputs": [],
   "source": [
    "# Convert the images to numpy arrays\n",
    "\n",
    "spy_numpy = np.array(small_spy_colour)\n",
    "spy_numpy_colour = np.array(spy_colour)\n",
    "spy_numpy_grey = np.array(spy_grey)"
   ]
  },
  {
   "cell_type": "code",
   "execution_count": 9,
   "metadata": {},
   "outputs": [
    {
     "output_type": "stream",
     "name": "stdout",
     "text": "<class 'numpy.ndarray'>\n<class 'numpy.ndarray'>\n<class 'numpy.ndarray'>\n"
    }
   ],
   "source": [
    "# Check the types of the new objects\n",
    "\n",
    "print(type(spy_numpy_colour))\n",
    "print(type(spy_numpy))\n",
    "print(type(spy_numpy_grey))"
   ]
  },
  {
   "cell_type": "code",
   "execution_count": 10,
   "metadata": {},
   "outputs": [
    {
     "output_type": "stream",
     "name": "stdout",
     "text": "(64, 64, 3)\n(64, 64)\n"
    }
   ],
   "source": [
    "# Find the shape of the numpy arrays\n",
    "# Note the grey scale is only two dimensional\n",
    "# The colour image requires a third dimension\n",
    "# to store three separate colour channels: red, green and blue.\n",
    "\n",
    "print(spy_numpy_colour.shape)\n",
    "\n",
    "print(spy_numpy_grey.shape)"
   ]
  },
  {
   "cell_type": "code",
   "execution_count": 24,
   "metadata": {},
   "outputs": [
    {
     "name": "stdout",
     "output_type": "stream",
     "text": [
      "(64, 64)\n",
      "(64, 64, 3)\n"
     ]
    }
   ],
   "source": [
    "# Other way - convert a numpy array to an image\n",
    "\n",
    "# Create a two dimensional and a three dimensional numpy array\n",
    "# that are 64 by 64 filled with random integers between 0 and 255\n",
    "\n",
    "greydata = np.random.randint(0,255,size=(64, 64), dtype=np.uint8) \n",
    "print(greydata.shape)\n",
    "\n",
    "colourdata = np.random.randint(0,255,size=(64, 64, 3), dtype=np.uint8) \n",
    "print(colourdata.shape)"
   ]
  },
  {
   "cell_type": "code",
   "execution_count": 30,
   "metadata": {},
   "outputs": [],
   "source": [
    "# Put a red square in the middle of the colour array\n",
    "colourdata[16:48, 16:48] = [255, 0, 0] # red square in middle\n",
    "# Put a black square in the middle of the grey scale array\n",
    "greydata[16:48, 16:48] = [0]"
   ]
  },
  {
   "cell_type": "code",
   "execution_count": 31,
   "metadata": {},
   "outputs": [],
   "source": [
    "# Convert numpy arrays to Image objects\n",
    "\n",
    "colour_with_redsquare = Image.fromarray(colourdata) \n",
    "\n",
    "grey_with_blacksquare = Image.fromarray(greydata) "
   ]
  },
  {
   "cell_type": "code",
   "execution_count": 32,
   "metadata": {},
   "outputs": [],
   "source": [
    "# View the images\n",
    "\n",
    "colour_with_redsquare.show()\n",
    "grey_with_blacksquare.show()"
   ]
  },
  {
   "cell_type": "code",
   "execution_count": 34,
   "metadata": {},
   "outputs": [
    {
     "name": "stdout",
     "output_type": "stream",
     "text": [
      "[[128 156 237 253 223   1 171  27 216 127]\n",
      " [ 51  28 190 183 199  87 182  87  87 135]\n",
      " [234  82 169 106 189 234 205  93   4 212]\n",
      " [ 88  41  89  84 250  39   5 189 200 144]\n",
      " [107 172  76 237  63  64 167 195 225 143]\n",
      " [240  28 121  22 116  36  69  32 210 117]\n",
      " [ 24  58 149 208 239 101  70 177 215 195]\n",
      " [153 188 171 244 172 195 159  10 112 172]\n",
      " [ 79 221  84  54  63  14  79 102  13  78]\n",
      " [245 214 205 212  97 116  76  37  88 229]]\n",
      "[[149  40  52 107 154 111 190 111 192  33]\n",
      " [ 34  82  16 193  18 228  62 214 242  31]\n",
      " [ 82 209 228 191 182  53  76 237 168  42]\n",
      " [211 167  19 122 246 189 230  79 208  19]\n",
      " [ 62  67 226 222 169   3 126  85 250 199]\n",
      " [149  76  71 143  76 210 151 137  82 133]\n",
      " [110 217 204  26 203  87  68 168 148  81]\n",
      " [ 67 228  45 122 127 183 189 250 157 235]\n",
      " [ 97   7 117  41 180 102 102  62 244 199]\n",
      " [144   2 118  34 130 203 135 129 117   8]]\n"
     ]
    }
   ],
   "source": [
    "# Create two 64 by 64 numppy arrays\n",
    "\n",
    "x = np.random.randint(0,255,size=(10, 10), dtype=np.uint8)\n",
    "y = np.random.randint(0,255,size=(10, 10), dtype=np.uint8)\n",
    "print(x)\n",
    "print(y)"
   ]
  },
  {
   "cell_type": "code",
   "execution_count": 35,
   "metadata": {},
   "outputs": [
    {
     "name": "stdout",
     "output_type": "stream",
     "text": [
      "10815\n"
     ]
    }
   ],
   "source": [
    "# Print the SSR between the two arrays\n",
    "# If the SSR is zero then arrays are identical\n",
    "\n",
    "print ( np.sum((x-y)**2))"
   ]
  }
 ],
 "metadata": {
  "kernelspec": {
   "display_name": "Python 3",
   "language": "python",
   "name": "python3"
  },
  "language_info": {
   "codemirror_mode": {
    "name": "ipython",
    "version": 3
   },
   "file_extension": ".py",
   "mimetype": "text/x-python",
   "name": "python",
   "nbconvert_exporter": "python",
   "pygments_lexer": "ipython3",
   "version": "3.7.7-final"
  }
 },
 "nbformat": 4,
 "nbformat_minor": 2
}