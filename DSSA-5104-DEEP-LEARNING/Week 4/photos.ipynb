{
 "cells": [
  {
   "cell_type": "markdown",
   "metadata": {},
   "source": [
    "Greg Walsh\n",
    "\n",
    "DSSA-5104-091 - DEEP LEARNING\n",
    "\n",
    "Week 4 Spy Assignment "
   ]
  },
  {
   "cell_type": "code",
   "execution_count": null,
   "metadata": {},
   "outputs": [],
   "source": [
    "from PIL import Image, ImageFilter\n",
    "import numpy as np\n",
    "\n",
    "#Read image\n",
    "spy = Image.open('DC.png')\n",
    "spy.show()\n",
    "\n"
   ]
  },
  {
   "cell_type": "code",
   "execution_count": null,
   "metadata": {},
   "outputs": [],
   "source": [
    "# Convert to numpy array\n",
    "pix1 = np.array(spy)\n",
    "\n",
    "from os import listdir  # import function for listing all files\n",
    "\n",
    "# Get listing of all files\n",
    "listing = listdir()"
   ]
  },
  {
   "cell_type": "code",
   "execution_count": null,
   "metadata": {},
   "outputs": [],
   "source": [
    "listing"
   ]
  },
  {
   "cell_type": "code",
   "execution_count": 86,
   "metadata": {},
   "outputs": [],
   "source": [
    "photo1new = Image.open('photo21.png')\n",
    "photo1new = np.array(photo1new)"
   ]
  },
  {
   "cell_type": "code",
   "execution_count": 91,
   "metadata": {},
   "outputs": [],
   "source": [
    "spyguy = Image.open('DC.png')\n",
    "spyguy = np.array(spyguy)"
   ]
  },
  {
   "cell_type": "code",
   "execution_count": 92,
   "metadata": {},
   "outputs": [
    {
     "data": {
      "text/plain": [
       "1533790"
      ]
     },
     "execution_count": 92,
     "metadata": {},
     "output_type": "execute_result"
    }
   ],
   "source": [
    "SSR(spyguy,photo1new)"
   ]
  },
  {
   "cell_type": "code",
   "execution_count": null,
   "metadata": {},
   "outputs": [],
   "source": [
    "smallphoto1 = photo1new.resize((32,32))"
   ]
  },
  {
   "cell_type": "code",
   "execution_count": null,
   "metadata": {},
   "outputs": [],
   "source": [
    "smallphoto1.show()"
   ]
  },
  {
   "cell_type": "code",
   "execution_count": null,
   "metadata": {},
   "outputs": [],
   "source": [
    "smallphotonumpy = np.array(photo1new)"
   ]
  },
  {
   "cell_type": "code",
   "execution_count": null,
   "metadata": {},
   "outputs": [],
   "source": [
    "smallphotonumpy"
   ]
  },
  {
   "cell_type": "code",
   "execution_count": null,
   "metadata": {},
   "outputs": [],
   "source": [
    "#Now loop through all files that end in png - you will need to open each file as image, convert to numpy array\n",
    "spec = []\n",
    "for file in listing:\n",
    "    if file.endswith('.png') :\n",
    "        im = Image.open(file)\n",
    "        im = np.array(im)\n",
    "        spec.append(im)"
   ]
  },
  {
   "cell_type": "code",
   "execution_count": null,
   "metadata": {},
   "outputs": [],
   "source": [
    "# then compare the two arrays by computing the SSR between them - you should have that in a function\n",
    "def SSR(ar1, ar2):\n",
    "    return(np.sum((ar1-ar2**2)))"
   ]
  },
  {
   "cell_type": "code",
   "execution_count": 181,
   "metadata": {},
   "outputs": [],
   "source": [
    "def find_spy(spy,listing):\n",
    "    spec = []\n",
    "    print('Looking through Image Database for Matches....')\n",
    "    for file in listing:\n",
    "        if file.endswith(spy):\n",
    "            print('found file.... comparing')\n",
    "            spyar = Image.open(spy)\n",
    "            spyar = np.array(spyar)\n",
    "    for file in listing:\n",
    "        if file.endswith('.png') and file != spy:\n",
    "            im = Image.open(file)\n",
    "            im = np.array(im)\n",
    "            spec.append(im)\n",
    "\n",
    "    finalar = []\n",
    "    k = 0 \n",
    "    for i in spec:\n",
    "        k += 1\n",
    "        finalar.append(SSR(spyar, i))\n",
    "        # finalar.append([k,SSR(spyar, i)])\n",
    "    print()\n",
    "    print('SPY FOUND AT POSITION:', finalar.index(min(finalar)), 'WITH SSR', min(finalar))\n",
    "    print('Rendering Image...')\n",
    "    spy = finalar.index(min(finalar))\n",
    "    spypic = Image.fromarray(spec[spy]) \n",
    "    spypic.show()\n",
    "    return (\"SSR for all pictures:\",finalar)\n",
    "\n",
    "\n",
    "\n",
    "\n"
   ]
  },
  {
   "cell_type": "code",
   "execution_count": 182,
   "metadata": {},
   "outputs": [
    {
     "name": "stdout",
     "output_type": "stream",
     "text": [
      "Looking through Image Database for Matches....\n",
      "found file.... comparing\n",
      "\n",
      "SPY FOUND AT POSITION: 13 WITH SSR 1533790\n",
      "Rendering Image...\n"
     ]
    },
    {
     "data": {
      "text/plain": [
       "('SSR for all pictures:',\n",
       " [1676582,\n",
       "  1724254,\n",
       "  1595978,\n",
       "  1597099,\n",
       "  1585288,\n",
       "  1603683,\n",
       "  1599659,\n",
       "  1539561,\n",
       "  1583616,\n",
       "  1654171,\n",
       "  1608413,\n",
       "  1605913,\n",
       "  1657640,\n",
       "  1533790,\n",
       "  1710566,\n",
       "  1561153,\n",
       "  1663401,\n",
       "  1663596,\n",
       "  1628352,\n",
       "  1711560,\n",
       "  1562363,\n",
       "  1625268,\n",
       "  1624851,\n",
       "  1755003])"
      ]
     },
     "execution_count": 182,
     "metadata": {},
     "output_type": "execute_result"
    }
   ],
   "source": [
    "spy = 'DC.png'\n",
    "find_spy(spy,listing)"
   ]
  },
  {
   "cell_type": "code",
   "execution_count": null,
   "metadata": {},
   "outputs": [],
   "source": []
  }
 ],
 "metadata": {
  "kernelspec": {
   "display_name": "Python 3.7.7 64-bit (conda)",
   "language": "python",
   "name": "python37764bitconda642ec79e99cc40a8aae98ee5cd5934c5"
  },
  "language_info": {
   "codemirror_mode": {
    "name": "ipython",
    "version": 3
   },
   "file_extension": ".py",
   "mimetype": "text/x-python",
   "name": "python",
   "nbconvert_exporter": "python",
   "pygments_lexer": "ipython3",
   "version": "3.7.7"
  }
 },
 "nbformat": 4,
 "nbformat_minor": 2
}
