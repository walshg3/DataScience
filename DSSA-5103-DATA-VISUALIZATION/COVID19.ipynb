{
 "cells": [
  {
   "cell_type": "code",
   "execution_count": 1,
   "metadata": {},
   "outputs": [],
   "source": [
    "import pandas as pd\n",
    "from datetime import datetime"
   ]
  },
  {
   "cell_type": "code",
   "execution_count": 2,
   "metadata": {},
   "outputs": [],
   "source": [
    "df_states_daily = pd.read_json(\"https://covidtracking.com/api/us/daily\")\n",
    "df_states_daily['dateChecked'] = df_states_daily['dateChecked'].astype('datetime64[ns]')"
   ]
  },
  {
   "cell_type": "code",
   "execution_count": 3,
   "metadata": {},
   "outputs": [
    {
     "name": "stdout",
     "output_type": "stream",
     "text": [
      "<class 'pandas.core.frame.DataFrame'>\n",
      "RangeIndex: 31 entries, 0 to 30\n",
      "Data columns (total 24 columns):\n",
      " #   Column                    Non-Null Count  Dtype         \n",
      "---  ------                    --------------  -----         \n",
      " 0   date                      31 non-null     int64         \n",
      " 1   states                    31 non-null     int64         \n",
      " 2   positive                  31 non-null     int64         \n",
      " 3   negative                  31 non-null     int64         \n",
      " 4   pending                   31 non-null     int64         \n",
      " 5   hospitalizedCurrently     10 non-null     float64       \n",
      " 6   hospitalizedCumulative    14 non-null     float64       \n",
      " 7   inIcuCurrently            9 non-null      float64       \n",
      " 8   inIcuCumulative           10 non-null     float64       \n",
      " 9   onVentilatorCurrently     10 non-null     float64       \n",
      " 10  onVentilatorCumulative    10 non-null     float64       \n",
      " 11  recovered                 10 non-null     float64       \n",
      " 12  hash                      31 non-null     object        \n",
      " 13  dateChecked               31 non-null     datetime64[ns]\n",
      " 14  death                     31 non-null     int64         \n",
      " 15  hospitalized              14 non-null     float64       \n",
      " 16  total                     31 non-null     int64         \n",
      " 17  totalTestResults          31 non-null     int64         \n",
      " 18  posNeg                    31 non-null     int64         \n",
      " 19  deathIncrease             30 non-null     float64       \n",
      " 20  hospitalizedIncrease      30 non-null     float64       \n",
      " 21  negativeIncrease          30 non-null     float64       \n",
      " 22  positiveIncrease          30 non-null     float64       \n",
      " 23  totalTestResultsIncrease  30 non-null     float64       \n",
      "dtypes: datetime64[ns](1), float64(13), int64(9), object(1)\n",
      "memory usage: 5.9+ KB\n"
     ]
    }
   ],
   "source": [
    "df_states_daily.info()"
   ]
  },
  {
   "cell_type": "code",
   "execution_count": 4,
   "metadata": {},
   "outputs": [
    {
     "data": {
      "text/html": [
       "<div>\n",
       "<style scoped>\n",
       "    .dataframe tbody tr th:only-of-type {\n",
       "        vertical-align: middle;\n",
       "    }\n",
       "\n",
       "    .dataframe tbody tr th {\n",
       "        vertical-align: top;\n",
       "    }\n",
       "\n",
       "    .dataframe thead th {\n",
       "        text-align: right;\n",
       "    }\n",
       "</style>\n",
       "<table border=\"1\" class=\"dataframe\">\n",
       "  <thead>\n",
       "    <tr style=\"text-align: right;\">\n",
       "      <th></th>\n",
       "      <th>date</th>\n",
       "      <th>states</th>\n",
       "      <th>positive</th>\n",
       "      <th>negative</th>\n",
       "      <th>pending</th>\n",
       "      <th>hospitalizedCurrently</th>\n",
       "      <th>hospitalizedCumulative</th>\n",
       "      <th>inIcuCurrently</th>\n",
       "      <th>inIcuCumulative</th>\n",
       "      <th>onVentilatorCurrently</th>\n",
       "      <th>...</th>\n",
       "      <th>death</th>\n",
       "      <th>hospitalized</th>\n",
       "      <th>total</th>\n",
       "      <th>totalTestResults</th>\n",
       "      <th>posNeg</th>\n",
       "      <th>deathIncrease</th>\n",
       "      <th>hospitalizedIncrease</th>\n",
       "      <th>negativeIncrease</th>\n",
       "      <th>positiveIncrease</th>\n",
       "      <th>totalTestResultsIncrease</th>\n",
       "    </tr>\n",
       "  </thead>\n",
       "  <tbody>\n",
       "    <tr>\n",
       "      <th>0</th>\n",
       "      <td>20200403</td>\n",
       "      <td>56</td>\n",
       "      <td>271915</td>\n",
       "      <td>1135356</td>\n",
       "      <td>61980</td>\n",
       "      <td>19926.0</td>\n",
       "      <td>35991.0</td>\n",
       "      <td>4686.0</td>\n",
       "      <td>593.0</td>\n",
       "      <td>70.0</td>\n",
       "      <td>...</td>\n",
       "      <td>6962</td>\n",
       "      <td>35991.0</td>\n",
       "      <td>1469251</td>\n",
       "      <td>1407271</td>\n",
       "      <td>1407271</td>\n",
       "      <td>1178.0</td>\n",
       "      <td>3342.0</td>\n",
       "      <td>106707.0</td>\n",
       "      <td>32906.0</td>\n",
       "      <td>139613.0</td>\n",
       "    </tr>\n",
       "    <tr>\n",
       "      <th>1</th>\n",
       "      <td>20200402</td>\n",
       "      <td>56</td>\n",
       "      <td>239009</td>\n",
       "      <td>1028649</td>\n",
       "      <td>62101</td>\n",
       "      <td>17157.0</td>\n",
       "      <td>32649.0</td>\n",
       "      <td>4264.0</td>\n",
       "      <td>541.0</td>\n",
       "      <td>67.0</td>\n",
       "      <td>...</td>\n",
       "      <td>5784</td>\n",
       "      <td>32649.0</td>\n",
       "      <td>1329759</td>\n",
       "      <td>1267658</td>\n",
       "      <td>1267658</td>\n",
       "      <td>1084.0</td>\n",
       "      <td>1507.0</td>\n",
       "      <td>89459.0</td>\n",
       "      <td>28239.0</td>\n",
       "      <td>117698.0</td>\n",
       "    </tr>\n",
       "    <tr>\n",
       "      <th>2</th>\n",
       "      <td>20200401</td>\n",
       "      <td>56</td>\n",
       "      <td>210770</td>\n",
       "      <td>939190</td>\n",
       "      <td>59669</td>\n",
       "      <td>16223.0</td>\n",
       "      <td>31142.0</td>\n",
       "      <td>3837.0</td>\n",
       "      <td>4270.0</td>\n",
       "      <td>71.0</td>\n",
       "      <td>...</td>\n",
       "      <td>4700</td>\n",
       "      <td>31142.0</td>\n",
       "      <td>1209629</td>\n",
       "      <td>1149960</td>\n",
       "      <td>1149960</td>\n",
       "      <td>954.0</td>\n",
       "      <td>4482.0</td>\n",
       "      <td>74989.0</td>\n",
       "      <td>26087.0</td>\n",
       "      <td>101076.0</td>\n",
       "    </tr>\n",
       "    <tr>\n",
       "      <th>3</th>\n",
       "      <td>20200331</td>\n",
       "      <td>56</td>\n",
       "      <td>184683</td>\n",
       "      <td>864201</td>\n",
       "      <td>59518</td>\n",
       "      <td>14236.0</td>\n",
       "      <td>26660.0</td>\n",
       "      <td>3402.0</td>\n",
       "      <td>3644.0</td>\n",
       "      <td>69.0</td>\n",
       "      <td>...</td>\n",
       "      <td>3746</td>\n",
       "      <td>26660.0</td>\n",
       "      <td>1108402</td>\n",
       "      <td>1048884</td>\n",
       "      <td>1048884</td>\n",
       "      <td>807.0</td>\n",
       "      <td>4357.0</td>\n",
       "      <td>79877.0</td>\n",
       "      <td>24153.0</td>\n",
       "      <td>104030.0</td>\n",
       "    </tr>\n",
       "    <tr>\n",
       "      <th>4</th>\n",
       "      <td>20200330</td>\n",
       "      <td>56</td>\n",
       "      <td>160530</td>\n",
       "      <td>784324</td>\n",
       "      <td>65369</td>\n",
       "      <td>12147.0</td>\n",
       "      <td>22303.0</td>\n",
       "      <td>2982.0</td>\n",
       "      <td>3177.0</td>\n",
       "      <td>259.0</td>\n",
       "      <td>...</td>\n",
       "      <td>2939</td>\n",
       "      <td>22303.0</td>\n",
       "      <td>1010223</td>\n",
       "      <td>944854</td>\n",
       "      <td>944854</td>\n",
       "      <td>511.0</td>\n",
       "      <td>2902.0</td>\n",
       "      <td>92034.0</td>\n",
       "      <td>21469.0</td>\n",
       "      <td>113503.0</td>\n",
       "    </tr>\n",
       "  </tbody>\n",
       "</table>\n",
       "<p>5 rows × 24 columns</p>\n",
       "</div>"
      ],
      "text/plain": [
       "       date  states  positive  negative  pending  hospitalizedCurrently  \\\n",
       "0  20200403      56    271915   1135356    61980                19926.0   \n",
       "1  20200402      56    239009   1028649    62101                17157.0   \n",
       "2  20200401      56    210770    939190    59669                16223.0   \n",
       "3  20200331      56    184683    864201    59518                14236.0   \n",
       "4  20200330      56    160530    784324    65369                12147.0   \n",
       "\n",
       "   hospitalizedCumulative  inIcuCurrently  inIcuCumulative  \\\n",
       "0                 35991.0          4686.0            593.0   \n",
       "1                 32649.0          4264.0            541.0   \n",
       "2                 31142.0          3837.0           4270.0   \n",
       "3                 26660.0          3402.0           3644.0   \n",
       "4                 22303.0          2982.0           3177.0   \n",
       "\n",
       "   onVentilatorCurrently  ...  death  hospitalized    total totalTestResults  \\\n",
       "0                   70.0  ...   6962       35991.0  1469251          1407271   \n",
       "1                   67.0  ...   5784       32649.0  1329759          1267658   \n",
       "2                   71.0  ...   4700       31142.0  1209629          1149960   \n",
       "3                   69.0  ...   3746       26660.0  1108402          1048884   \n",
       "4                  259.0  ...   2939       22303.0  1010223           944854   \n",
       "\n",
       "    posNeg  deathIncrease  hospitalizedIncrease  negativeIncrease  \\\n",
       "0  1407271         1178.0                3342.0          106707.0   \n",
       "1  1267658         1084.0                1507.0           89459.0   \n",
       "2  1149960          954.0                4482.0           74989.0   \n",
       "3  1048884          807.0                4357.0           79877.0   \n",
       "4   944854          511.0                2902.0           92034.0   \n",
       "\n",
       "   positiveIncrease  totalTestResultsIncrease  \n",
       "0           32906.0                  139613.0  \n",
       "1           28239.0                  117698.0  \n",
       "2           26087.0                  101076.0  \n",
       "3           24153.0                  104030.0  \n",
       "4           21469.0                  113503.0  \n",
       "\n",
       "[5 rows x 24 columns]"
      ]
     },
     "execution_count": 4,
     "metadata": {},
     "output_type": "execute_result"
    }
   ],
   "source": [
    "df_states_daily.head(5)"
   ]
  },
  {
   "cell_type": "code",
   "execution_count": 5,
   "metadata": {},
   "outputs": [],
   "source": [
    "min_date = (df_states_daily.dateChecked.min()).date()\n",
    "max_date = (df_states_daily.dateChecked.max()).date()\n",
    "\n",
    "max_states = df_states_daily.states.max()"
   ]
  },
  {
   "cell_type": "code",
   "execution_count": 6,
   "metadata": {},
   "outputs": [],
   "source": [
    "import yfinance as yf"
   ]
  },
  {
   "cell_type": "code",
   "execution_count": 25,
   "metadata": {},
   "outputs": [
    {
     "name": "stdout",
     "output_type": "stream",
     "text": [
      "              Open    High     Low   Close    Volume  Dividends  Stock Splits\n",
      "Date                                                                         \n",
      "2020-03-04  168.49  170.70  165.62  170.55  49814400          0             0\n",
      "2020-03-05  166.05  170.87  165.69  166.27  47817300          0             0\n",
      "2020-03-06  162.61  163.11  156.00  161.57  72821100          0             0\n",
      "2020-03-09  151.00  157.75  150.00  150.62  70419300          0             0\n",
      "2020-03-10  158.16  161.03  152.58  160.92  65354400          0             0\n",
      "Date\n",
      "2020-03-04         NaN\n",
      "2020-03-05   -0.069699\n",
      "2020-03-06    0.085261\n",
      "2020-03-09   -0.122440\n",
      "2020-03-10    0.083810\n",
      "2020-03-11   -0.047364\n",
      "2020-03-12   -0.019924\n",
      "2020-03-13    0.063529\n",
      "2020-03-16   -0.070796\n",
      "2020-03-17    0.022190\n",
      "2020-03-18    0.034194\n",
      "2020-03-19    0.107658\n",
      "2020-03-20    0.049207\n",
      "2020-03-23    0.100775\n",
      "2020-03-24    0.084507\n",
      "2020-03-25   -0.090260\n",
      "2020-03-26    0.002926\n",
      "2020-03-27    0.036937\n",
      "2020-03-30    0.103363\n",
      "2020-03-31   -0.085469\n",
      "2020-04-01   -0.017141\n",
      "2020-04-02   -0.132872\n",
      "Name: Open, dtype: float64\n"
     ]
    }
   ],
   "source": [
    "# Microsoft\n",
    "tick_msft = yf.Ticker(\"MSFT\")\n",
    "df_msft = tick_msft.history(\n",
    "    start=min_date,\n",
    "    end=max_date)\n",
    "msft_pct = df_msft.Open.pct_change()\n",
    "\n",
    "print(df_msft.head(5))\n",
    "\n",
    "# df_msft.info()\n",
    "# print(df_msft.index)\n",
    "\n",
    "\n",
    "# Zoom\n",
    "tick_zm = yf.Ticker(\"ZM\")\n",
    "df_zm = tick_zm.history(\n",
    "    start=min_date,\n",
    "    end=max_date)\n",
    "\n",
    "zm_pct = df_zm.Open.pct_change()\n",
    "\n",
    "print( zm_pct )\n",
    "\n",
    "\n",
    "# Dow Jones Industrial Average\n",
    "df_dji = yf.Ticker(\"DJI\").history(\n",
    "    start=min_date,\n",
    "    end=max_date)\n",
    "\n",
    "dji_pct = df_dji.Open.pct_change()"
   ]
  },
  {
   "cell_type": "code",
   "execution_count": 13,
   "metadata": {},
   "outputs": [],
   "source": [
    "import plotly.graph_objects as go\n",
    "from plotly.subplots import make_subplots"
   ]
  },
  {
   "cell_type": "code",
   "execution_count": 68,
   "metadata": {},
   "outputs": [
    {
     "data": {
      "application/vnd.plotly.v1+json": {
       "config": {
        "plotlyServerURL": "https://plot.ly"
       },
       "data": [
        {
         "mode": "lines",
         "name": "Positive",
         "type": "scatter",
         "x": [
          "2020-04-01T20:00:00",
          "2020-03-31T20:00:00",
          "2020-03-30T20:00:00",
          "2020-03-29T20:00:00",
          "2020-03-28T20:00:00",
          "2020-03-27T20:00:00",
          "2020-03-26T20:00:00",
          "2020-03-25T20:00:00",
          "2020-03-24T20:00:00",
          "2020-03-23T20:00:00",
          "2020-03-22T20:00:00",
          "2020-03-21T20:00:00",
          "2020-03-20T20:00:00",
          "2020-03-19T20:00:00",
          "2020-03-18T20:00:00",
          "2020-03-17T20:00:00",
          "2020-03-16T20:00:00",
          "2020-03-15T20:00:00",
          "2020-03-14T20:00:00",
          "2020-03-13T20:00:00",
          "2020-03-12T20:00:00",
          "2020-03-11T20:00:00",
          "2020-03-10T20:00:00",
          "2020-03-09T20:00:00",
          "2020-03-08T20:00:00",
          "2020-03-07T21:00:00",
          "2020-03-06T21:00:00",
          "2020-03-05T21:00:00",
          "2020-03-04T21:00:00"
         ],
         "xaxis": "x",
         "y": [
          210770,
          184770,
          160530,
          139061,
          118234,
          99413,
          80735,
          63928,
          51954,
          42152,
          31879,
          23197,
          17033,
          11719,
          7730,
          5722,
          4019,
          3173,
          2450,
          1922,
          1315,
          1053,
          778,
          584,
          417,
          341,
          223,
          176,
          118
         ],
         "yaxis": "y"
        },
        {
         "mode": "lines",
         "name": "Tested",
         "type": "scatter",
         "x": [
          "2020-04-01T20:00:00",
          "2020-03-31T20:00:00",
          "2020-03-30T20:00:00",
          "2020-03-29T20:00:00",
          "2020-03-28T20:00:00",
          "2020-03-27T20:00:00",
          "2020-03-26T20:00:00",
          "2020-03-25T20:00:00",
          "2020-03-24T20:00:00",
          "2020-03-23T20:00:00",
          "2020-03-22T20:00:00",
          "2020-03-21T20:00:00",
          "2020-03-20T20:00:00",
          "2020-03-19T20:00:00",
          "2020-03-18T20:00:00",
          "2020-03-17T20:00:00",
          "2020-03-16T20:00:00",
          "2020-03-15T20:00:00",
          "2020-03-14T20:00:00",
          "2020-03-13T20:00:00",
          "2020-03-12T20:00:00",
          "2020-03-11T20:00:00",
          "2020-03-10T20:00:00",
          "2020-03-09T20:00:00",
          "2020-03-08T20:00:00",
          "2020-03-07T21:00:00",
          "2020-03-06T21:00:00",
          "2020-03-05T21:00:00",
          "2020-03-04T21:00:00"
         ],
         "xaxis": "x",
         "y": [
          1149960,
          1048971,
          944854,
          831351,
          735704,
          626633,
          519338,
          421532,
          344712,
          279473,
          225342,
          179106,
          135180,
          100838,
          73955,
          53326,
          40123,
          25724,
          19552,
          15535,
          9356,
          7123,
          4585,
          3951,
          2752,
          2150,
          1794,
          1129,
          866
         ],
         "yaxis": "y"
        },
        {
         "mode": "lines",
         "name": "$MSFT",
         "type": "scatter",
         "x": [
          "2020-03-04T00:00:00",
          "2020-03-05T00:00:00",
          "2020-03-06T00:00:00",
          "2020-03-09T00:00:00",
          "2020-03-10T00:00:00",
          "2020-03-11T00:00:00",
          "2020-03-12T00:00:00",
          "2020-03-13T00:00:00",
          "2020-03-16T00:00:00",
          "2020-03-17T00:00:00",
          "2020-03-18T00:00:00",
          "2020-03-19T00:00:00",
          "2020-03-20T00:00:00",
          "2020-03-23T00:00:00",
          "2020-03-24T00:00:00",
          "2020-03-25T00:00:00",
          "2020-03-26T00:00:00",
          "2020-03-27T00:00:00",
          "2020-03-30T00:00:00",
          "2020-03-31T00:00:00"
         ],
         "xaxis": "x",
         "y": [
          49814400,
          47817300,
          72821100,
          70419300,
          65354400,
          56371600,
          93226400,
          92727400,
          87905900,
          81059800,
          81593200,
          85922700,
          84866200,
          78975200,
          82516700,
          75638200,
          64568100,
          57042300,
          63420300,
          77927200
         ],
         "yaxis": "y2"
        },
        {
         "mode": "lines",
         "name": "$ZM",
         "type": "scatter",
         "x": [
          "2020-03-04T00:00:00",
          "2020-03-05T00:00:00",
          "2020-03-06T00:00:00",
          "2020-03-09T00:00:00",
          "2020-03-10T00:00:00",
          "2020-03-11T00:00:00",
          "2020-03-12T00:00:00",
          "2020-03-13T00:00:00",
          "2020-03-16T00:00:00",
          "2020-03-17T00:00:00",
          "2020-03-18T00:00:00",
          "2020-03-19T00:00:00",
          "2020-03-20T00:00:00",
          "2020-03-23T00:00:00",
          "2020-03-24T00:00:00",
          "2020-03-25T00:00:00",
          "2020-03-26T00:00:00",
          "2020-03-27T00:00:00",
          "2020-03-30T00:00:00",
          "2020-03-31T00:00:00"
         ],
         "xaxis": "x",
         "y": [
          12102600,
          28149400,
          22975700,
          14571300,
          10244000,
          12576700,
          12097900,
          9233500,
          17210700,
          18721500,
          13594300,
          16248400,
          13872600,
          27681500,
          22401300,
          14743000,
          9252700,
          13271900,
          15762200,
          10023700
         ],
         "yaxis": "y2"
        }
       ],
       "layout": {
        "autosize": true,
        "template": {
         "data": {
          "bar": [
           {
            "error_x": {
             "color": "#2a3f5f"
            },
            "error_y": {
             "color": "#2a3f5f"
            },
            "marker": {
             "line": {
              "color": "#E5ECF6",
              "width": 0.5
             }
            },
            "type": "bar"
           }
          ],
          "barpolar": [
           {
            "marker": {
             "line": {
              "color": "#E5ECF6",
              "width": 0.5
             }
            },
            "type": "barpolar"
           }
          ],
          "carpet": [
           {
            "aaxis": {
             "endlinecolor": "#2a3f5f",
             "gridcolor": "white",
             "linecolor": "white",
             "minorgridcolor": "white",
             "startlinecolor": "#2a3f5f"
            },
            "baxis": {
             "endlinecolor": "#2a3f5f",
             "gridcolor": "white",
             "linecolor": "white",
             "minorgridcolor": "white",
             "startlinecolor": "#2a3f5f"
            },
            "type": "carpet"
           }
          ],
          "choropleth": [
           {
            "colorbar": {
             "outlinewidth": 0,
             "ticks": ""
            },
            "type": "choropleth"
           }
          ],
          "contour": [
           {
            "colorbar": {
             "outlinewidth": 0,
             "ticks": ""
            },
            "colorscale": [
             [
              0,
              "#0d0887"
             ],
             [
              0.1111111111111111,
              "#46039f"
             ],
             [
              0.2222222222222222,
              "#7201a8"
             ],
             [
              0.3333333333333333,
              "#9c179e"
             ],
             [
              0.4444444444444444,
              "#bd3786"
             ],
             [
              0.5555555555555556,
              "#d8576b"
             ],
             [
              0.6666666666666666,
              "#ed7953"
             ],
             [
              0.7777777777777778,
              "#fb9f3a"
             ],
             [
              0.8888888888888888,
              "#fdca26"
             ],
             [
              1,
              "#f0f921"
             ]
            ],
            "type": "contour"
           }
          ],
          "contourcarpet": [
           {
            "colorbar": {
             "outlinewidth": 0,
             "ticks": ""
            },
            "type": "contourcarpet"
           }
          ],
          "heatmap": [
           {
            "colorbar": {
             "outlinewidth": 0,
             "ticks": ""
            },
            "colorscale": [
             [
              0,
              "#0d0887"
             ],
             [
              0.1111111111111111,
              "#46039f"
             ],
             [
              0.2222222222222222,
              "#7201a8"
             ],
             [
              0.3333333333333333,
              "#9c179e"
             ],
             [
              0.4444444444444444,
              "#bd3786"
             ],
             [
              0.5555555555555556,
              "#d8576b"
             ],
             [
              0.6666666666666666,
              "#ed7953"
             ],
             [
              0.7777777777777778,
              "#fb9f3a"
             ],
             [
              0.8888888888888888,
              "#fdca26"
             ],
             [
              1,
              "#f0f921"
             ]
            ],
            "type": "heatmap"
           }
          ],
          "heatmapgl": [
           {
            "colorbar": {
             "outlinewidth": 0,
             "ticks": ""
            },
            "colorscale": [
             [
              0,
              "#0d0887"
             ],
             [
              0.1111111111111111,
              "#46039f"
             ],
             [
              0.2222222222222222,
              "#7201a8"
             ],
             [
              0.3333333333333333,
              "#9c179e"
             ],
             [
              0.4444444444444444,
              "#bd3786"
             ],
             [
              0.5555555555555556,
              "#d8576b"
             ],
             [
              0.6666666666666666,
              "#ed7953"
             ],
             [
              0.7777777777777778,
              "#fb9f3a"
             ],
             [
              0.8888888888888888,
              "#fdca26"
             ],
             [
              1,
              "#f0f921"
             ]
            ],
            "type": "heatmapgl"
           }
          ],
          "histogram": [
           {
            "marker": {
             "colorbar": {
              "outlinewidth": 0,
              "ticks": ""
             }
            },
            "type": "histogram"
           }
          ],
          "histogram2d": [
           {
            "colorbar": {
             "outlinewidth": 0,
             "ticks": ""
            },
            "colorscale": [
             [
              0,
              "#0d0887"
             ],
             [
              0.1111111111111111,
              "#46039f"
             ],
             [
              0.2222222222222222,
              "#7201a8"
             ],
             [
              0.3333333333333333,
              "#9c179e"
             ],
             [
              0.4444444444444444,
              "#bd3786"
             ],
             [
              0.5555555555555556,
              "#d8576b"
             ],
             [
              0.6666666666666666,
              "#ed7953"
             ],
             [
              0.7777777777777778,
              "#fb9f3a"
             ],
             [
              0.8888888888888888,
              "#fdca26"
             ],
             [
              1,
              "#f0f921"
             ]
            ],
            "type": "histogram2d"
           }
          ],
          "histogram2dcontour": [
           {
            "colorbar": {
             "outlinewidth": 0,
             "ticks": ""
            },
            "colorscale": [
             [
              0,
              "#0d0887"
             ],
             [
              0.1111111111111111,
              "#46039f"
             ],
             [
              0.2222222222222222,
              "#7201a8"
             ],
             [
              0.3333333333333333,
              "#9c179e"
             ],
             [
              0.4444444444444444,
              "#bd3786"
             ],
             [
              0.5555555555555556,
              "#d8576b"
             ],
             [
              0.6666666666666666,
              "#ed7953"
             ],
             [
              0.7777777777777778,
              "#fb9f3a"
             ],
             [
              0.8888888888888888,
              "#fdca26"
             ],
             [
              1,
              "#f0f921"
             ]
            ],
            "type": "histogram2dcontour"
           }
          ],
          "mesh3d": [
           {
            "colorbar": {
             "outlinewidth": 0,
             "ticks": ""
            },
            "type": "mesh3d"
           }
          ],
          "parcoords": [
           {
            "line": {
             "colorbar": {
              "outlinewidth": 0,
              "ticks": ""
             }
            },
            "type": "parcoords"
           }
          ],
          "pie": [
           {
            "automargin": true,
            "type": "pie"
           }
          ],
          "scatter": [
           {
            "marker": {
             "colorbar": {
              "outlinewidth": 0,
              "ticks": ""
             }
            },
            "type": "scatter"
           }
          ],
          "scatter3d": [
           {
            "line": {
             "colorbar": {
              "outlinewidth": 0,
              "ticks": ""
             }
            },
            "marker": {
             "colorbar": {
              "outlinewidth": 0,
              "ticks": ""
             }
            },
            "type": "scatter3d"
           }
          ],
          "scattercarpet": [
           {
            "marker": {
             "colorbar": {
              "outlinewidth": 0,
              "ticks": ""
             }
            },
            "type": "scattercarpet"
           }
          ],
          "scattergeo": [
           {
            "marker": {
             "colorbar": {
              "outlinewidth": 0,
              "ticks": ""
             }
            },
            "type": "scattergeo"
           }
          ],
          "scattergl": [
           {
            "marker": {
             "colorbar": {
              "outlinewidth": 0,
              "ticks": ""
             }
            },
            "type": "scattergl"
           }
          ],
          "scattermapbox": [
           {
            "marker": {
             "colorbar": {
              "outlinewidth": 0,
              "ticks": ""
             }
            },
            "type": "scattermapbox"
           }
          ],
          "scatterpolar": [
           {
            "marker": {
             "colorbar": {
              "outlinewidth": 0,
              "ticks": ""
             }
            },
            "type": "scatterpolar"
           }
          ],
          "scatterpolargl": [
           {
            "marker": {
             "colorbar": {
              "outlinewidth": 0,
              "ticks": ""
             }
            },
            "type": "scatterpolargl"
           }
          ],
          "scatterternary": [
           {
            "marker": {
             "colorbar": {
              "outlinewidth": 0,
              "ticks": ""
             }
            },
            "type": "scatterternary"
           }
          ],
          "surface": [
           {
            "colorbar": {
             "outlinewidth": 0,
             "ticks": ""
            },
            "colorscale": [
             [
              0,
              "#0d0887"
             ],
             [
              0.1111111111111111,
              "#46039f"
             ],
             [
              0.2222222222222222,
              "#7201a8"
             ],
             [
              0.3333333333333333,
              "#9c179e"
             ],
             [
              0.4444444444444444,
              "#bd3786"
             ],
             [
              0.5555555555555556,
              "#d8576b"
             ],
             [
              0.6666666666666666,
              "#ed7953"
             ],
             [
              0.7777777777777778,
              "#fb9f3a"
             ],
             [
              0.8888888888888888,
              "#fdca26"
             ],
             [
              1,
              "#f0f921"
             ]
            ],
            "type": "surface"
           }
          ],
          "table": [
           {
            "cells": {
             "fill": {
              "color": "#EBF0F8"
             },
             "line": {
              "color": "white"
             }
            },
            "header": {
             "fill": {
              "color": "#C8D4E3"
             },
             "line": {
              "color": "white"
             }
            },
            "type": "table"
           }
          ]
         },
         "layout": {
          "annotationdefaults": {
           "arrowcolor": "#2a3f5f",
           "arrowhead": 0,
           "arrowwidth": 1
          },
          "coloraxis": {
           "colorbar": {
            "outlinewidth": 0,
            "ticks": ""
           }
          },
          "colorscale": {
           "diverging": [
            [
             0,
             "#8e0152"
            ],
            [
             0.1,
             "#c51b7d"
            ],
            [
             0.2,
             "#de77ae"
            ],
            [
             0.3,
             "#f1b6da"
            ],
            [
             0.4,
             "#fde0ef"
            ],
            [
             0.5,
             "#f7f7f7"
            ],
            [
             0.6,
             "#e6f5d0"
            ],
            [
             0.7,
             "#b8e186"
            ],
            [
             0.8,
             "#7fbc41"
            ],
            [
             0.9,
             "#4d9221"
            ],
            [
             1,
             "#276419"
            ]
           ],
           "sequential": [
            [
             0,
             "#0d0887"
            ],
            [
             0.1111111111111111,
             "#46039f"
            ],
            [
             0.2222222222222222,
             "#7201a8"
            ],
            [
             0.3333333333333333,
             "#9c179e"
            ],
            [
             0.4444444444444444,
             "#bd3786"
            ],
            [
             0.5555555555555556,
             "#d8576b"
            ],
            [
             0.6666666666666666,
             "#ed7953"
            ],
            [
             0.7777777777777778,
             "#fb9f3a"
            ],
            [
             0.8888888888888888,
             "#fdca26"
            ],
            [
             1,
             "#f0f921"
            ]
           ],
           "sequentialminus": [
            [
             0,
             "#0d0887"
            ],
            [
             0.1111111111111111,
             "#46039f"
            ],
            [
             0.2222222222222222,
             "#7201a8"
            ],
            [
             0.3333333333333333,
             "#9c179e"
            ],
            [
             0.4444444444444444,
             "#bd3786"
            ],
            [
             0.5555555555555556,
             "#d8576b"
            ],
            [
             0.6666666666666666,
             "#ed7953"
            ],
            [
             0.7777777777777778,
             "#fb9f3a"
            ],
            [
             0.8888888888888888,
             "#fdca26"
            ],
            [
             1,
             "#f0f921"
            ]
           ]
          },
          "colorway": [
           "#636efa",
           "#EF553B",
           "#00cc96",
           "#ab63fa",
           "#FFA15A",
           "#19d3f3",
           "#FF6692",
           "#B6E880",
           "#FF97FF",
           "#FECB52"
          ],
          "font": {
           "color": "#2a3f5f"
          },
          "geo": {
           "bgcolor": "white",
           "lakecolor": "white",
           "landcolor": "#E5ECF6",
           "showlakes": true,
           "showland": true,
           "subunitcolor": "white"
          },
          "hoverlabel": {
           "align": "left"
          },
          "hovermode": "closest",
          "mapbox": {
           "style": "light"
          },
          "paper_bgcolor": "white",
          "plot_bgcolor": "#E5ECF6",
          "polar": {
           "angularaxis": {
            "gridcolor": "white",
            "linecolor": "white",
            "ticks": ""
           },
           "bgcolor": "#E5ECF6",
           "radialaxis": {
            "gridcolor": "white",
            "linecolor": "white",
            "ticks": ""
           }
          },
          "scene": {
           "xaxis": {
            "backgroundcolor": "#E5ECF6",
            "gridcolor": "white",
            "gridwidth": 2,
            "linecolor": "white",
            "showbackground": true,
            "ticks": "",
            "zerolinecolor": "white"
           },
           "yaxis": {
            "backgroundcolor": "#E5ECF6",
            "gridcolor": "white",
            "gridwidth": 2,
            "linecolor": "white",
            "showbackground": true,
            "ticks": "",
            "zerolinecolor": "white"
           },
           "zaxis": {
            "backgroundcolor": "#E5ECF6",
            "gridcolor": "white",
            "gridwidth": 2,
            "linecolor": "white",
            "showbackground": true,
            "ticks": "",
            "zerolinecolor": "white"
           }
          },
          "shapedefaults": {
           "line": {
            "color": "#2a3f5f"
           }
          },
          "ternary": {
           "aaxis": {
            "gridcolor": "white",
            "linecolor": "white",
            "ticks": ""
           },
           "baxis": {
            "gridcolor": "white",
            "linecolor": "white",
            "ticks": ""
           },
           "bgcolor": "#E5ECF6",
           "caxis": {
            "gridcolor": "white",
            "linecolor": "white",
            "ticks": ""
           }
          },
          "title": {
           "x": 0.05
          },
          "xaxis": {
           "automargin": true,
           "gridcolor": "white",
           "linecolor": "white",
           "ticks": "",
           "title": {
            "standoff": 15
           },
           "zerolinecolor": "white",
           "zerolinewidth": 2
          },
          "yaxis": {
           "automargin": true,
           "gridcolor": "white",
           "linecolor": "white",
           "ticks": "",
           "title": {
            "standoff": 15
           },
           "zerolinecolor": "white",
           "zerolinewidth": 2
          }
         }
        },
        "title": {
         "text": "Trading Volume during CoViD-19"
        },
        "xaxis": {
         "anchor": "y",
         "autorange": true,
         "domain": [
          0,
          0.94
         ],
         "range": [
          "2020-03-04",
          "2020-04-01 20:00"
         ],
         "title": {
          "text": "Date"
         },
         "type": "date"
        },
        "yaxis": {
         "anchor": "x",
         "autorange": true,
         "domain": [
          0,
          1
         ],
         "range": [
          -63762.11111111112,
          1213840.111111111
         ],
         "title": {
          "text": "Cases"
         },
         "type": "linear"
        },
        "yaxis2": {
         "anchor": "x",
         "autorange": true,
         "overlaying": "y",
         "range": [
          4567227.777777778,
          97892672.22222222
         ],
         "side": "right",
         "title": {
          "text": "Volume Traded"
         },
         "type": "linear"
        }
       }
      },
      "image/png": "[encoded data removed]",
      "text/html": [
       "<div>\n",
       "        \n",
       "        \n",
       "            <div id=\"b3e1a9d4-1bb4-4d2c-8004-4c61709439e3\" class=\"plotly-graph-div\" style=\"height:525px; width:100%;\"></div>\n",
       "            <script type=\"text/javascript\">\n",
       "                require([\"plotly\"], function(Plotly) {\n",
       "                    window.PLOTLYENV=window.PLOTLYENV || {};\n",
       "                    \n",
       "                if (document.getElementById(\"b3e1a9d4-1bb4-4d2c-8004-4c61709439e3\")) {\n",
       "                    Plotly.newPlot(\n",
       "                        'b3e1a9d4-1bb4-4d2c-8004-4c61709439e3',\n",
       "                        [{\"mode\": \"lines\", \"name\": \"Positive\", \"type\": \"scatter\", \"x\": [\"2020-04-01T20:00:00\", \"2020-03-31T20:00:00\", \"2020-03-30T20:00:00\", \"2020-03-29T20:00:00\", \"2020-03-28T20:00:00\", \"2020-03-27T20:00:00\", \"2020-03-26T20:00:00\", \"2020-03-25T20:00:00\", \"2020-03-24T20:00:00\", \"2020-03-23T20:00:00\", \"2020-03-22T20:00:00\", \"2020-03-21T20:00:00\", \"2020-03-20T20:00:00\", \"2020-03-19T20:00:00\", \"2020-03-18T20:00:00\", \"2020-03-17T20:00:00\", \"2020-03-16T20:00:00\", \"2020-03-15T20:00:00\", \"2020-03-14T20:00:00\", \"2020-03-13T20:00:00\", \"2020-03-12T20:00:00\", \"2020-03-11T20:00:00\", \"2020-03-10T20:00:00\", \"2020-03-09T20:00:00\", \"2020-03-08T20:00:00\", \"2020-03-07T21:00:00\", \"2020-03-06T21:00:00\", \"2020-03-05T21:00:00\", \"2020-03-04T21:00:00\"], \"xaxis\": \"x\", \"y\": [210770, 184770, 160530, 139061, 118234, 99413, 80735, 63928, 51954, 42152, 31879, 23197, 17033, 11719, 7730, 5722, 4019, 3173, 2450, 1922, 1315, 1053, 778, 584, 417, 341, 223, 176, 118], \"yaxis\": \"y\"}, {\"mode\": \"lines\", \"name\": \"Tested\", \"type\": \"scatter\", \"x\": [\"2020-04-01T20:00:00\", \"2020-03-31T20:00:00\", \"2020-03-30T20:00:00\", \"2020-03-29T20:00:00\", \"2020-03-28T20:00:00\", \"2020-03-27T20:00:00\", \"2020-03-26T20:00:00\", \"2020-03-25T20:00:00\", \"2020-03-24T20:00:00\", \"2020-03-23T20:00:00\", \"2020-03-22T20:00:00\", \"2020-03-21T20:00:00\", \"2020-03-20T20:00:00\", \"2020-03-19T20:00:00\", \"2020-03-18T20:00:00\", \"2020-03-17T20:00:00\", \"2020-03-16T20:00:00\", \"2020-03-15T20:00:00\", \"2020-03-14T20:00:00\", \"2020-03-13T20:00:00\", \"2020-03-12T20:00:00\", \"2020-03-11T20:00:00\", \"2020-03-10T20:00:00\", \"2020-03-09T20:00:00\", \"2020-03-08T20:00:00\", \"2020-03-07T21:00:00\", \"2020-03-06T21:00:00\", \"2020-03-05T21:00:00\", \"2020-03-04T21:00:00\"], \"xaxis\": \"x\", \"y\": [1149960, 1048971, 944854, 831351, 735704, 626633, 519338, 421532, 344712, 279473, 225342, 179106, 135180, 100838, 73955, 53326, 40123, 25724, 19552, 15535, 9356, 7123, 4585, 3951, 2752, 2150, 1794, 1129, 866], \"yaxis\": \"y\"}, {\"mode\": \"lines\", \"name\": \"$MSFT\", \"type\": \"scatter\", \"x\": [\"2020-03-04T00:00:00\", \"2020-03-05T00:00:00\", \"2020-03-06T00:00:00\", \"2020-03-09T00:00:00\", \"2020-03-10T00:00:00\", \"2020-03-11T00:00:00\", \"2020-03-12T00:00:00\", \"2020-03-13T00:00:00\", \"2020-03-16T00:00:00\", \"2020-03-17T00:00:00\", \"2020-03-18T00:00:00\", \"2020-03-19T00:00:00\", \"2020-03-20T00:00:00\", \"2020-03-23T00:00:00\", \"2020-03-24T00:00:00\", \"2020-03-25T00:00:00\", \"2020-03-26T00:00:00\", \"2020-03-27T00:00:00\", \"2020-03-30T00:00:00\", \"2020-03-31T00:00:00\"], \"xaxis\": \"x\", \"y\": [49814400, 47817300, 72821100, 70419300, 65354400, 56371600, 93226400, 92727400, 87905900, 81059800, 81593200, 85922700, 84866200, 78975200, 82516700, 75638200, 64568100, 57042300, 63420300, 77927200], \"yaxis\": \"y2\"}, {\"mode\": \"lines\", \"name\": \"$ZM\", \"type\": \"scatter\", \"x\": [\"2020-03-04T00:00:00\", \"2020-03-05T00:00:00\", \"2020-03-06T00:00:00\", \"2020-03-09T00:00:00\", \"2020-03-10T00:00:00\", \"2020-03-11T00:00:00\", \"2020-03-12T00:00:00\", \"2020-03-13T00:00:00\", \"2020-03-16T00:00:00\", \"2020-03-17T00:00:00\", \"2020-03-18T00:00:00\", \"2020-03-19T00:00:00\", \"2020-03-20T00:00:00\", \"2020-03-23T00:00:00\", \"2020-03-24T00:00:00\", \"2020-03-25T00:00:00\", \"2020-03-26T00:00:00\", \"2020-03-27T00:00:00\", \"2020-03-30T00:00:00\", \"2020-03-31T00:00:00\"], \"xaxis\": \"x\", \"y\": [12102600, 28149400, 22975700, 14571300, 10244000, 12576700, 12097900, 9233500, 17210700, 18721500, 13594300, 16248400, 13872600, 27681500, 22401300, 14743000, 9252700, 13271900, 15762200, 10023700], \"yaxis\": \"y2\"}],\n",
       "                        {\"template\": {\"data\": {\"bar\": [{\"error_x\": {\"color\": \"#2a3f5f\"}, \"error_y\": {\"color\": \"#2a3f5f\"}, \"marker\": {\"line\": {\"color\": \"#E5ECF6\", \"width\": 0.5}}, \"type\": \"bar\"}], \"barpolar\": [{\"marker\": {\"line\": {\"color\": \"#E5ECF6\", \"width\": 0.5}}, \"type\": \"barpolar\"}], \"carpet\": [{\"aaxis\": {\"endlinecolor\": \"#2a3f5f\", \"gridcolor\": \"white\", \"linecolor\": \"white\", \"minorgridcolor\": \"white\", \"startlinecolor\": \"#2a3f5f\"}, \"baxis\": {\"endlinecolor\": \"#2a3f5f\", \"gridcolor\": \"white\", \"linecolor\": \"white\", \"minorgridcolor\": \"white\", \"startlinecolor\": \"#2a3f5f\"}, \"type\": \"carpet\"}], \"choropleth\": [{\"colorbar\": {\"outlinewidth\": 0, \"ticks\": \"\"}, \"type\": \"choropleth\"}], \"contour\": [{\"colorbar\": {\"outlinewidth\": 0, \"ticks\": \"\"}, \"colorscale\": [[0.0, \"#0d0887\"], [0.1111111111111111, \"#46039f\"], [0.2222222222222222, \"#7201a8\"], [0.3333333333333333, \"#9c179e\"], [0.4444444444444444, \"#bd3786\"], [0.5555555555555556, \"#d8576b\"], [0.6666666666666666, \"#ed7953\"], [0.7777777777777778, \"#fb9f3a\"], [0.8888888888888888, \"#fdca26\"], [1.0, \"#f0f921\"]], \"type\": \"contour\"}], \"contourcarpet\": [{\"colorbar\": {\"outlinewidth\": 0, \"ticks\": \"\"}, \"type\": \"contourcarpet\"}], \"heatmap\": [{\"colorbar\": {\"outlinewidth\": 0, \"ticks\": \"\"}, \"colorscale\": [[0.0, \"#0d0887\"], [0.1111111111111111, \"#46039f\"], [0.2222222222222222, \"#7201a8\"], [0.3333333333333333, \"#9c179e\"], [0.4444444444444444, \"#bd3786\"], [0.5555555555555556, \"#d8576b\"], [0.6666666666666666, \"#ed7953\"], [0.7777777777777778, \"#fb9f3a\"], [0.8888888888888888, \"#fdca26\"], [1.0, \"#f0f921\"]], \"type\": \"heatmap\"}], \"heatmapgl\": [{\"colorbar\": {\"outlinewidth\": 0, \"ticks\": \"\"}, \"colorscale\": [[0.0, \"#0d0887\"], [0.1111111111111111, \"#46039f\"], [0.2222222222222222, \"#7201a8\"], [0.3333333333333333, \"#9c179e\"], [0.4444444444444444, \"#bd3786\"], [0.5555555555555556, \"#d8576b\"], [0.6666666666666666, \"#ed7953\"], [0.7777777777777778, \"#fb9f3a\"], [0.8888888888888888, \"#fdca26\"], [1.0, \"#f0f921\"]], \"type\": \"heatmapgl\"}], \"histogram\": [{\"marker\": {\"colorbar\": {\"outlinewidth\": 0, \"ticks\": \"\"}}, \"type\": \"histogram\"}], \"histogram2d\": [{\"colorbar\": {\"outlinewidth\": 0, \"ticks\": \"\"}, \"colorscale\": [[0.0, \"#0d0887\"], [0.1111111111111111, \"#46039f\"], [0.2222222222222222, \"#7201a8\"], [0.3333333333333333, \"#9c179e\"], [0.4444444444444444, \"#bd3786\"], [0.5555555555555556, \"#d8576b\"], [0.6666666666666666, \"#ed7953\"], [0.7777777777777778, \"#fb9f3a\"], [0.8888888888888888, \"#fdca26\"], [1.0, \"#f0f921\"]], \"type\": \"histogram2d\"}], \"histogram2dcontour\": [{\"colorbar\": {\"outlinewidth\": 0, \"ticks\": \"\"}, \"colorscale\": [[0.0, \"#0d0887\"], [0.1111111111111111, \"#46039f\"], [0.2222222222222222, \"#7201a8\"], [0.3333333333333333, \"#9c179e\"], [0.4444444444444444, \"#bd3786\"], [0.5555555555555556, \"#d8576b\"], [0.6666666666666666, \"#ed7953\"], [0.7777777777777778, \"#fb9f3a\"], [0.8888888888888888, \"#fdca26\"], [1.0, \"#f0f921\"]], \"type\": \"histogram2dcontour\"}], \"mesh3d\": [{\"colorbar\": {\"outlinewidth\": 0, \"ticks\": \"\"}, \"type\": \"mesh3d\"}], \"parcoords\": [{\"line\": {\"colorbar\": {\"outlinewidth\": 0, \"ticks\": \"\"}}, \"type\": \"parcoords\"}], \"pie\": [{\"automargin\": true, \"type\": \"pie\"}], \"scatter\": [{\"marker\": {\"colorbar\": {\"outlinewidth\": 0, \"ticks\": \"\"}}, \"type\": \"scatter\"}], \"scatter3d\": [{\"line\": {\"colorbar\": {\"outlinewidth\": 0, \"ticks\": \"\"}}, \"marker\": {\"colorbar\": {\"outlinewidth\": 0, \"ticks\": \"\"}}, \"type\": \"scatter3d\"}], \"scattercarpet\": [{\"marker\": {\"colorbar\": {\"outlinewidth\": 0, \"ticks\": \"\"}}, \"type\": \"scattercarpet\"}], \"scattergeo\": [{\"marker\": {\"colorbar\": {\"outlinewidth\": 0, \"ticks\": \"\"}}, \"type\": \"scattergeo\"}], \"scattergl\": [{\"marker\": {\"colorbar\": {\"outlinewidth\": 0, \"ticks\": \"\"}}, \"type\": \"scattergl\"}], \"scattermapbox\": [{\"marker\": {\"colorbar\": {\"outlinewidth\": 0, \"ticks\": \"\"}}, \"type\": \"scattermapbox\"}], \"scatterpolar\": [{\"marker\": {\"colorbar\": {\"outlinewidth\": 0, \"ticks\": \"\"}}, \"type\": \"scatterpolar\"}], \"scatterpolargl\": [{\"marker\": {\"colorbar\": {\"outlinewidth\": 0, \"ticks\": \"\"}}, \"type\": \"scatterpolargl\"}], \"scatterternary\": [{\"marker\": {\"colorbar\": {\"outlinewidth\": 0, \"ticks\": \"\"}}, \"type\": \"scatterternary\"}], \"surface\": [{\"colorbar\": {\"outlinewidth\": 0, \"ticks\": \"\"}, \"colorscale\": [[0.0, \"#0d0887\"], [0.1111111111111111, \"#46039f\"], [0.2222222222222222, \"#7201a8\"], [0.3333333333333333, \"#9c179e\"], [0.4444444444444444, \"#bd3786\"], [0.5555555555555556, \"#d8576b\"], [0.6666666666666666, \"#ed7953\"], [0.7777777777777778, \"#fb9f3a\"], [0.8888888888888888, \"#fdca26\"], [1.0, \"#f0f921\"]], \"type\": \"surface\"}], \"table\": [{\"cells\": {\"fill\": {\"color\": \"#EBF0F8\"}, \"line\": {\"color\": \"white\"}}, \"header\": {\"fill\": {\"color\": \"#C8D4E3\"}, \"line\": {\"color\": \"white\"}}, \"type\": \"table\"}]}, \"layout\": {\"annotationdefaults\": {\"arrowcolor\": \"#2a3f5f\", \"arrowhead\": 0, \"arrowwidth\": 1}, \"coloraxis\": {\"colorbar\": {\"outlinewidth\": 0, \"ticks\": \"\"}}, \"colorscale\": {\"diverging\": [[0, \"#8e0152\"], [0.1, \"#c51b7d\"], [0.2, \"#de77ae\"], [0.3, \"#f1b6da\"], [0.4, \"#fde0ef\"], [0.5, \"#f7f7f7\"], [0.6, \"#e6f5d0\"], [0.7, \"#b8e186\"], [0.8, \"#7fbc41\"], [0.9, \"#4d9221\"], [1, \"#276419\"]], \"sequential\": [[0.0, \"#0d0887\"], [0.1111111111111111, \"#46039f\"], [0.2222222222222222, \"#7201a8\"], [0.3333333333333333, \"#9c179e\"], [0.4444444444444444, \"#bd3786\"], [0.5555555555555556, \"#d8576b\"], [0.6666666666666666, \"#ed7953\"], [0.7777777777777778, \"#fb9f3a\"], [0.8888888888888888, \"#fdca26\"], [1.0, \"#f0f921\"]], \"sequentialminus\": [[0.0, \"#0d0887\"], [0.1111111111111111, \"#46039f\"], [0.2222222222222222, \"#7201a8\"], [0.3333333333333333, \"#9c179e\"], [0.4444444444444444, \"#bd3786\"], [0.5555555555555556, \"#d8576b\"], [0.6666666666666666, \"#ed7953\"], [0.7777777777777778, \"#fb9f3a\"], [0.8888888888888888, \"#fdca26\"], [1.0, \"#f0f921\"]]}, \"colorway\": [\"#636efa\", \"#EF553B\", \"#00cc96\", \"#ab63fa\", \"#FFA15A\", \"#19d3f3\", \"#FF6692\", \"#B6E880\", \"#FF97FF\", \"#FECB52\"], \"font\": {\"color\": \"#2a3f5f\"}, \"geo\": {\"bgcolor\": \"white\", \"lakecolor\": \"white\", \"landcolor\": \"#E5ECF6\", \"showlakes\": true, \"showland\": true, \"subunitcolor\": \"white\"}, \"hoverlabel\": {\"align\": \"left\"}, \"hovermode\": \"closest\", \"mapbox\": {\"style\": \"light\"}, \"paper_bgcolor\": \"white\", \"plot_bgcolor\": \"#E5ECF6\", \"polar\": {\"angularaxis\": {\"gridcolor\": \"white\", \"linecolor\": \"white\", \"ticks\": \"\"}, \"bgcolor\": \"#E5ECF6\", \"radialaxis\": {\"gridcolor\": \"white\", \"linecolor\": \"white\", \"ticks\": \"\"}}, \"scene\": {\"xaxis\": {\"backgroundcolor\": \"#E5ECF6\", \"gridcolor\": \"white\", \"gridwidth\": 2, \"linecolor\": \"white\", \"showbackground\": true, \"ticks\": \"\", \"zerolinecolor\": \"white\"}, \"yaxis\": {\"backgroundcolor\": \"#E5ECF6\", \"gridcolor\": \"white\", \"gridwidth\": 2, \"linecolor\": \"white\", \"showbackground\": true, \"ticks\": \"\", \"zerolinecolor\": \"white\"}, \"zaxis\": {\"backgroundcolor\": \"#E5ECF6\", \"gridcolor\": \"white\", \"gridwidth\": 2, \"linecolor\": \"white\", \"showbackground\": true, \"ticks\": \"\", \"zerolinecolor\": \"white\"}}, \"shapedefaults\": {\"line\": {\"color\": \"#2a3f5f\"}}, \"ternary\": {\"aaxis\": {\"gridcolor\": \"white\", \"linecolor\": \"white\", \"ticks\": \"\"}, \"baxis\": {\"gridcolor\": \"white\", \"linecolor\": \"white\", \"ticks\": \"\"}, \"bgcolor\": \"#E5ECF6\", \"caxis\": {\"gridcolor\": \"white\", \"linecolor\": \"white\", \"ticks\": \"\"}}, \"title\": {\"x\": 0.05}, \"xaxis\": {\"automargin\": true, \"gridcolor\": \"white\", \"linecolor\": \"white\", \"ticks\": \"\", \"title\": {\"standoff\": 15}, \"zerolinecolor\": \"white\", \"zerolinewidth\": 2}, \"yaxis\": {\"automargin\": true, \"gridcolor\": \"white\", \"linecolor\": \"white\", \"ticks\": \"\", \"title\": {\"standoff\": 15}, \"zerolinecolor\": \"white\", \"zerolinewidth\": 2}}}, \"title\": {\"text\": \"Trading Volume during CoViD-19\"}, \"xaxis\": {\"anchor\": \"y\", \"domain\": [0.0, 0.94], \"title\": {\"text\": \"Date\"}}, \"yaxis\": {\"anchor\": \"x\", \"domain\": [0.0, 1.0], \"title\": {\"text\": \"Cases\"}}, \"yaxis2\": {\"anchor\": \"x\", \"overlaying\": \"y\", \"side\": \"right\", \"title\": {\"text\": \"Volume Traded\"}}},\n",
       "                        {\"responsive\": true}\n",
       "                    ).then(function(){\n",
       "                            \n",
       "var gd = document.getElementById('b3e1a9d4-1bb4-4d2c-8004-4c61709439e3');\n",
       "var x = new MutationObserver(function (mutations, observer) {{\n",
       "        var display = window.getComputedStyle(gd).display;\n",
       "        if (!display || display === 'none') {{\n",
       "            console.log([gd, 'removed!']);\n",
       "            Plotly.purge(gd);\n",
       "            observer.disconnect();\n",
       "        }}\n",
       "}});\n",
       "\n",
       "// Listen for the removal of the full notebook cells\n",
       "var notebookContainer = gd.closest('#notebook-container');\n",
       "if (notebookContainer) {{\n",
       "    x.observe(notebookContainer, {childList: true});\n",
       "}}\n",
       "\n",
       "// Listen for the clearing of the current output cell\n",
       "var outputEl = gd.closest('.output');\n",
       "if (outputEl) {{\n",
       "    x.observe(outputEl, {childList: true});\n",
       "}}\n",
       "\n",
       "                        })\n",
       "                };\n",
       "                });\n",
       "            </script>\n",
       "        </div>"
      ]
     },
     "metadata": {},
     "output_type": "display_data"
    }
   ],
   "source": [
    "fig = make_subplots(specs=[[{\"secondary_y\": True}]])\n",
    "\n",
    "# Positive COVID-19 cases\n",
    "fig.add_trace(go.Scatter(x=df_states_daily['dateChecked'], y=df_states_daily['positive'],\n",
    "                    mode='lines',\n",
    "                    name='Positive'),\n",
    "             secondary_y=False)\n",
    "\n",
    "# Total tested cases\n",
    "fig.add_trace(go.Scatter(x=df_states_daily['dateChecked'], y=df_states_daily['totalTestResults'],\n",
    "                    mode='lines',\n",
    "                    name='Tested'),\n",
    "             secondary_y=False,)\n",
    "\n",
    "# MSFT Volumne\n",
    "fig.add_trace(go.Scatter(x=df_msft.index, y=df_msft['Volume'],\n",
    "                    mode='lines',\n",
    "                    name='$MSFT'),\n",
    "             secondary_y=True,)\n",
    "\n",
    "# ZM Volumne\n",
    "fig.add_trace(go.Scatter(x=df_zm.index, y=df_zm['Volume'],\n",
    "                    mode='lines',\n",
    "                    name='$ZM'),\n",
    "             secondary_y=True,)\n",
    "\n",
    "\n",
    "\n",
    "# Add figure title\n",
    "fig.update_layout(\n",
    "    title_text=\"Trading Volume during CoViD-19\"\n",
    ")\n",
    "\n",
    "# Set x-axis title\n",
    "fig.update_xaxes(title_text=\"Date\")\n",
    "\n",
    "# Set y-axes titles\n",
    "fig.update_yaxes(title_text=\"Cases\", secondary_y=False)\n",
    "fig.update_yaxes(title_text=\"Volume Traded\", secondary_y=True)\n",
    "\n",
    "\n",
    "\n",
    "fig.show()"
   ]
  },
  {
   "cell_type": "code",
   "execution_count": 29,
   "metadata": {},
   "outputs": [
    {
     "data": {
      "application/vnd.plotly.v1+json": {
       "config": {
        "plotlyServerURL": "https://plot.ly"
       },
       "data": [
        {
         "mode": "lines",
         "name": "Positive",
         "type": "scatter",
         "x": [
          "2020-04-03T20:00:00",
          "2020-04-02T20:00:00",
          "2020-04-01T20:00:00",
          "2020-03-31T20:00:00",
          "2020-03-30T20:00:00",
          "2020-03-29T20:00:00",
          "2020-03-28T20:00:00",
          "2020-03-27T20:00:00",
          "2020-03-26T20:00:00",
          "2020-03-25T20:00:00",
          "2020-03-24T20:00:00",
          "2020-03-23T20:00:00",
          "2020-03-22T20:00:00",
          "2020-03-21T20:00:00",
          "2020-03-20T20:00:00",
          "2020-03-19T20:00:00",
          "2020-03-18T20:00:00",
          "2020-03-17T20:00:00",
          "2020-03-16T20:00:00",
          "2020-03-15T20:00:00",
          "2020-03-14T20:00:00",
          "2020-03-13T20:00:00",
          "2020-03-12T20:00:00",
          "2020-03-11T20:00:00",
          "2020-03-10T20:00:00",
          "2020-03-09T20:00:00",
          "2020-03-08T20:00:00",
          "2020-03-07T21:00:00",
          "2020-03-06T21:00:00",
          "2020-03-05T21:00:00",
          "2020-03-04T21:00:00"
         ],
         "xaxis": "x",
         "y": [
          271915,
          239009,
          210770,
          184683,
          160530,
          139061,
          118234,
          99413,
          80735,
          63928,
          51954,
          42152,
          31879,
          23197,
          17033,
          11719,
          7730,
          5722,
          4019,
          3173,
          2450,
          1922,
          1315,
          1054,
          778,
          584,
          417,
          341,
          223,
          176,
          118
         ],
         "yaxis": "y"
        },
        {
         "mode": "lines",
         "name": "Tested",
         "type": "scatter",
         "x": [
          "2020-04-03T20:00:00",
          "2020-04-02T20:00:00",
          "2020-04-01T20:00:00",
          "2020-03-31T20:00:00",
          "2020-03-30T20:00:00",
          "2020-03-29T20:00:00",
          "2020-03-28T20:00:00",
          "2020-03-27T20:00:00",
          "2020-03-26T20:00:00",
          "2020-03-25T20:00:00",
          "2020-03-24T20:00:00",
          "2020-03-23T20:00:00",
          "2020-03-22T20:00:00",
          "2020-03-21T20:00:00",
          "2020-03-20T20:00:00",
          "2020-03-19T20:00:00",
          "2020-03-18T20:00:00",
          "2020-03-17T20:00:00",
          "2020-03-16T20:00:00",
          "2020-03-15T20:00:00",
          "2020-03-14T20:00:00",
          "2020-03-13T20:00:00",
          "2020-03-12T20:00:00",
          "2020-03-11T20:00:00",
          "2020-03-10T20:00:00",
          "2020-03-09T20:00:00",
          "2020-03-08T20:00:00",
          "2020-03-07T21:00:00",
          "2020-03-06T21:00:00",
          "2020-03-05T21:00:00",
          "2020-03-04T21:00:00"
         ],
         "xaxis": "x",
         "y": [
          1407271,
          1267658,
          1149960,
          1048884,
          944854,
          831351,
          735704,
          626633,
          519338,
          421532,
          344732,
          279473,
          225342,
          179106,
          135180,
          100872,
          73955,
          53326,
          40123,
          25724,
          19552,
          15535,
          9356,
          7124,
          4585,
          3951,
          2752,
          2150,
          1794,
          1129,
          866
         ],
         "yaxis": "y"
        },
        {
         "mode": "lines",
         "name": "$MSFT",
         "type": "scatter",
         "visible": "legendonly",
         "x": [
          "2020-03-04T00:00:00",
          "2020-03-05T00:00:00",
          "2020-03-06T00:00:00",
          "2020-03-09T00:00:00",
          "2020-03-10T00:00:00",
          "2020-03-11T00:00:00",
          "2020-03-12T00:00:00",
          "2020-03-13T00:00:00",
          "2020-03-16T00:00:00",
          "2020-03-17T00:00:00",
          "2020-03-18T00:00:00",
          "2020-03-19T00:00:00",
          "2020-03-20T00:00:00",
          "2020-03-23T00:00:00",
          "2020-03-24T00:00:00",
          "2020-03-25T00:00:00",
          "2020-03-26T00:00:00",
          "2020-03-27T00:00:00",
          "2020-03-30T00:00:00",
          "2020-03-31T00:00:00",
          "2020-04-01T00:00:00",
          "2020-04-02T00:00:00"
         ],
         "xaxis": "x",
         "y": [
          null,
          -0.014481571606623556,
          -0.02071665161096059,
          -0.07139782301211495,
          0.04741721854304637,
          -0.006512392513910004,
          -0.07528797810729959,
          0.015141087405368125,
          -0.05084745762711862,
          0,
          -0.014285714285714235,
          0.03456521739130447,
          0.02262380051831614,
          -0.06157534246575347,
          0.04919348952631197,
          0.035895652173913106,
          -0.00342488751594916,
          0.02257412398921832,
          0.004546952224052658,
          0.04565730779323007,
          -0.04015056461731492,
          -0.0074509803921567475
         ],
         "yaxis": "y2"
        },
        {
         "mode": "lines",
         "name": "$ZM",
         "type": "scatter",
         "visible": "legendonly",
         "x": [
          "2020-03-04T00:00:00",
          "2020-03-05T00:00:00",
          "2020-03-06T00:00:00",
          "2020-03-09T00:00:00",
          "2020-03-10T00:00:00",
          "2020-03-11T00:00:00",
          "2020-03-12T00:00:00",
          "2020-03-13T00:00:00",
          "2020-03-16T00:00:00",
          "2020-03-17T00:00:00",
          "2020-03-18T00:00:00",
          "2020-03-19T00:00:00",
          "2020-03-20T00:00:00",
          "2020-03-23T00:00:00",
          "2020-03-24T00:00:00",
          "2020-03-25T00:00:00",
          "2020-03-26T00:00:00",
          "2020-03-27T00:00:00",
          "2020-03-30T00:00:00",
          "2020-03-31T00:00:00",
          "2020-04-01T00:00:00",
          "2020-04-02T00:00:00"
         ],
         "xaxis": "x",
         "y": [
          null,
          -0.06969875959834615,
          0.0852607709750568,
          -0.1224404513163394,
          0.08380952380952378,
          -0.04736379613356767,
          -0.01992436122128949,
          0.06352941176470583,
          -0.07079646017699115,
          0.022190476190476094,
          0.034193608497158356,
          0.10765765765765778,
          0.049206994713298036,
          0.10077519379844957,
          0.08450704225352124,
          -0.09025974025974026,
          0.002926481084939203,
          0.03693687282043978,
          0.10336307481125595,
          -0.085469022144812,
          -0.01714052509862607,
          -0.13287197231833914
         ],
         "yaxis": "y2"
        },
        {
         "line": {
          "color": "royalblue",
          "width": 5
         },
         "mode": "lines",
         "name": "$DJI",
         "type": "scatter",
         "x": [
          "2020-03-04T00:00:00",
          "2020-03-06T00:00:00",
          "2020-03-09T00:00:00",
          "2020-03-10T00:00:00",
          "2020-03-11T00:00:00",
          "2020-03-12T00:00:00",
          "2020-03-13T00:00:00",
          "2020-03-16T00:00:00",
          "2020-03-17T00:00:00",
          "2020-03-18T00:00:00",
          "2020-03-19T00:00:00",
          "2020-03-20T00:00:00",
          "2020-03-23T00:00:00",
          "2020-03-24T00:00:00",
          "2020-03-25T00:00:00",
          "2020-03-27T00:00:00",
          "2020-03-30T00:00:00",
          "2020-03-31T00:00:00",
          "2020-04-01T00:00:00",
          "2020-04-02T00:00:00"
         ],
         "xaxis": "x",
         "y": [
          null,
          -0.04525874001971153,
          -0.07785871145340384,
          0.04893715148211819,
          -0.058557370234469275,
          -0.09988451675356225,
          0.09362942558229492,
          -0.12926557863501476,
          0.051955321098645424,
          -0.06302560577095129,
          0.009462834629049732,
          -0.04546178661037881,
          -0.030358819234379775,
          0.11365164399550332,
          0.023941192664538313,
          0.020574889389922912,
          0.03192246542926869,
          -0.018376441607882654,
          -0.04442629532969544,
          0.02243655549454493
         ],
         "yaxis": "y2"
        }
       ],
       "layout": {
        "autosize": true,
        "template": {
         "data": {
          "bar": [
           {
            "error_x": {
             "color": "#2a3f5f"
            },
            "error_y": {
             "color": "#2a3f5f"
            },
            "marker": {
             "line": {
              "color": "#E5ECF6",
              "width": 0.5
             }
            },
            "type": "bar"
           }
          ],
          "barpolar": [
           {
            "marker": {
             "line": {
              "color": "#E5ECF6",
              "width": 0.5
             }
            },
            "type": "barpolar"
           }
          ],
          "carpet": [
           {
            "aaxis": {
             "endlinecolor": "#2a3f5f",
             "gridcolor": "white",
             "linecolor": "white",
             "minorgridcolor": "white",
             "startlinecolor": "#2a3f5f"
            },
            "baxis": {
             "endlinecolor": "#2a3f5f",
             "gridcolor": "white",
             "linecolor": "white",
             "minorgridcolor": "white",
             "startlinecolor": "#2a3f5f"
            },
            "type": "carpet"
           }
          ],
          "choropleth": [
           {
            "colorbar": {
             "outlinewidth": 0,
             "ticks": ""
            },
            "type": "choropleth"
           }
          ],
          "contour": [
           {
            "colorbar": {
             "outlinewidth": 0,
             "ticks": ""
            },
            "colorscale": [
             [
              0,
              "#0d0887"
             ],
             [
              0.1111111111111111,
              "#46039f"
             ],
             [
              0.2222222222222222,
              "#7201a8"
             ],
             [
              0.3333333333333333,
              "#9c179e"
             ],
             [
              0.4444444444444444,
              "#bd3786"
             ],
             [
              0.5555555555555556,
              "#d8576b"
             ],
             [
              0.6666666666666666,
              "#ed7953"
             ],
             [
              0.7777777777777778,
              "#fb9f3a"
             ],
             [
              0.8888888888888888,
              "#fdca26"
             ],
             [
              1,
              "#f0f921"
             ]
            ],
            "type": "contour"
           }
          ],
          "contourcarpet": [
           {
            "colorbar": {
             "outlinewidth": 0,
             "ticks": ""
            },
            "type": "contourcarpet"
           }
          ],
          "heatmap": [
           {
            "colorbar": {
             "outlinewidth": 0,
             "ticks": ""
            },
            "colorscale": [
             [
              0,
              "#0d0887"
             ],
             [
              0.1111111111111111,
              "#46039f"
             ],
             [
              0.2222222222222222,
              "#7201a8"
             ],
             [
              0.3333333333333333,
              "#9c179e"
             ],
             [
              0.4444444444444444,
              "#bd3786"
             ],
             [
              0.5555555555555556,
              "#d8576b"
             ],
             [
              0.6666666666666666,
              "#ed7953"
             ],
             [
              0.7777777777777778,
              "#fb9f3a"
             ],
             [
              0.8888888888888888,
              "#fdca26"
             ],
             [
              1,
              "#f0f921"
             ]
            ],
            "type": "heatmap"
           }
          ],
          "heatmapgl": [
           {
            "colorbar": {
             "outlinewidth": 0,
             "ticks": ""
            },
            "colorscale": [
             [
              0,
              "#0d0887"
             ],
             [
              0.1111111111111111,
              "#46039f"
             ],
             [
              0.2222222222222222,
              "#7201a8"
             ],
             [
              0.3333333333333333,
              "#9c179e"
             ],
             [
              0.4444444444444444,
              "#bd3786"
             ],
             [
              0.5555555555555556,
              "#d8576b"
             ],
             [
              0.6666666666666666,
              "#ed7953"
             ],
             [
              0.7777777777777778,
              "#fb9f3a"
             ],
             [
              0.8888888888888888,
              "#fdca26"
             ],
             [
              1,
              "#f0f921"
             ]
            ],
            "type": "heatmapgl"
           }
          ],
          "histogram": [
           {
            "marker": {
             "colorbar": {
              "outlinewidth": 0,
              "ticks": ""
             }
            },
            "type": "histogram"
           }
          ],
          "histogram2d": [
           {
            "colorbar": {
             "outlinewidth": 0,
             "ticks": ""
            },
            "colorscale": [
             [
              0,
              "#0d0887"
             ],
             [
              0.1111111111111111,
              "#46039f"
             ],
             [
              0.2222222222222222,
              "#7201a8"
             ],
             [
              0.3333333333333333,
              "#9c179e"
             ],
             [
              0.4444444444444444,
              "#bd3786"
             ],
             [
              0.5555555555555556,
              "#d8576b"
             ],
             [
              0.6666666666666666,
              "#ed7953"
             ],
             [
              0.7777777777777778,
              "#fb9f3a"
             ],
             [
              0.8888888888888888,
              "#fdca26"
             ],
             [
              1,
              "#f0f921"
             ]
            ],
            "type": "histogram2d"
           }
          ],
          "histogram2dcontour": [
           {
            "colorbar": {
             "outlinewidth": 0,
             "ticks": ""
            },
            "colorscale": [
             [
              0,
              "#0d0887"
             ],
             [
              0.1111111111111111,
              "#46039f"
             ],
             [
              0.2222222222222222,
              "#7201a8"
             ],
             [
              0.3333333333333333,
              "#9c179e"
             ],
             [
              0.4444444444444444,
              "#bd3786"
             ],
             [
              0.5555555555555556,
              "#d8576b"
             ],
             [
              0.6666666666666666,
              "#ed7953"
             ],
             [
              0.7777777777777778,
              "#fb9f3a"
             ],
             [
              0.8888888888888888,
              "#fdca26"
             ],
             [
              1,
              "#f0f921"
             ]
            ],
            "type": "histogram2dcontour"
           }
          ],
          "mesh3d": [
           {
            "colorbar": {
             "outlinewidth": 0,
             "ticks": ""
            },
            "type": "mesh3d"
           }
          ],
          "parcoords": [
           {
            "line": {
             "colorbar": {
              "outlinewidth": 0,
              "ticks": ""
             }
            },
            "type": "parcoords"
           }
          ],
          "pie": [
           {
            "automargin": true,
            "type": "pie"
           }
          ],
          "scatter": [
           {
            "marker": {
             "colorbar": {
              "outlinewidth": 0,
              "ticks": ""
             }
            },
            "type": "scatter"
           }
          ],
          "scatter3d": [
           {
            "line": {
             "colorbar": {
              "outlinewidth": 0,
              "ticks": ""
             }
            },
            "marker": {
             "colorbar": {
              "outlinewidth": 0,
              "ticks": ""
             }
            },
            "type": "scatter3d"
           }
          ],
          "scattercarpet": [
           {
            "marker": {
             "colorbar": {
              "outlinewidth": 0,
              "ticks": ""
             }
            },
            "type": "scattercarpet"
           }
          ],
          "scattergeo": [
           {
            "marker": {
             "colorbar": {
              "outlinewidth": 0,
              "ticks": ""
             }
            },
            "type": "scattergeo"
           }
          ],
          "scattergl": [
           {
            "marker": {
             "colorbar": {
              "outlinewidth": 0,
              "ticks": ""
             }
            },
            "type": "scattergl"
           }
          ],
          "scattermapbox": [
           {
            "marker": {
             "colorbar": {
              "outlinewidth": 0,
              "ticks": ""
             }
            },
            "type": "scattermapbox"
           }
          ],
          "scatterpolar": [
           {
            "marker": {
             "colorbar": {
              "outlinewidth": 0,
              "ticks": ""
             }
            },
            "type": "scatterpolar"
           }
          ],
          "scatterpolargl": [
           {
            "marker": {
             "colorbar": {
              "outlinewidth": 0,
              "ticks": ""
             }
            },
            "type": "scatterpolargl"
           }
          ],
          "scatterternary": [
           {
            "marker": {
             "colorbar": {
              "outlinewidth": 0,
              "ticks": ""
             }
            },
            "type": "scatterternary"
           }
          ],
          "surface": [
           {
            "colorbar": {
             "outlinewidth": 0,
             "ticks": ""
            },
            "colorscale": [
             [
              0,
              "#0d0887"
             ],
             [
              0.1111111111111111,
              "#46039f"
             ],
             [
              0.2222222222222222,
              "#7201a8"
             ],
             [
              0.3333333333333333,
              "#9c179e"
             ],
             [
              0.4444444444444444,
              "#bd3786"
             ],
             [
              0.5555555555555556,
              "#d8576b"
             ],
             [
              0.6666666666666666,
              "#ed7953"
             ],
             [
              0.7777777777777778,
              "#fb9f3a"
             ],
             [
              0.8888888888888888,
              "#fdca26"
             ],
             [
              1,
              "#f0f921"
             ]
            ],
            "type": "surface"
           }
          ],
          "table": [
           {
            "cells": {
             "fill": {
              "color": "#EBF0F8"
             },
             "line": {
              "color": "white"
             }
            },
            "header": {
             "fill": {
              "color": "#C8D4E3"
             },
             "line": {
              "color": "white"
             }
            },
            "type": "table"
           }
          ]
         },
         "layout": {
          "annotationdefaults": {
           "arrowcolor": "#2a3f5f",
           "arrowhead": 0,
           "arrowwidth": 1
          },
          "coloraxis": {
           "colorbar": {
            "outlinewidth": 0,
            "ticks": ""
           }
          },
          "colorscale": {
           "diverging": [
            [
             0,
             "#8e0152"
            ],
            [
             0.1,
             "#c51b7d"
            ],
            [
             0.2,
             "#de77ae"
            ],
            [
             0.3,
             "#f1b6da"
            ],
            [
             0.4,
             "#fde0ef"
            ],
            [
             0.5,
             "#f7f7f7"
            ],
            [
             0.6,
             "#e6f5d0"
            ],
            [
             0.7,
             "#b8e186"
            ],
            [
             0.8,
             "#7fbc41"
            ],
            [
             0.9,
             "#4d9221"
            ],
            [
             1,
             "#276419"
            ]
           ],
           "sequential": [
            [
             0,
             "#0d0887"
            ],
            [
             0.1111111111111111,
             "#46039f"
            ],
            [
             0.2222222222222222,
             "#7201a8"
            ],
            [
             0.3333333333333333,
             "#9c179e"
            ],
            [
             0.4444444444444444,
             "#bd3786"
            ],
            [
             0.5555555555555556,
             "#d8576b"
            ],
            [
             0.6666666666666666,
             "#ed7953"
            ],
            [
             0.7777777777777778,
             "#fb9f3a"
            ],
            [
             0.8888888888888888,
             "#fdca26"
            ],
            [
             1,
             "#f0f921"
            ]
           ],
           "sequentialminus": [
            [
             0,
             "#0d0887"
            ],
            [
             0.1111111111111111,
             "#46039f"
            ],
            [
             0.2222222222222222,
             "#7201a8"
            ],
            [
             0.3333333333333333,
             "#9c179e"
            ],
            [
             0.4444444444444444,
             "#bd3786"
            ],
            [
             0.5555555555555556,
             "#d8576b"
            ],
            [
             0.6666666666666666,
             "#ed7953"
            ],
            [
             0.7777777777777778,
             "#fb9f3a"
            ],
            [
             0.8888888888888888,
             "#fdca26"
            ],
            [
             1,
             "#f0f921"
            ]
           ]
          },
          "colorway": [
           "#636efa",
           "#EF553B",
           "#00cc96",
           "#ab63fa",
           "#FFA15A",
           "#19d3f3",
           "#FF6692",
           "#B6E880",
           "#FF97FF",
           "#FECB52"
          ],
          "font": {
           "color": "#2a3f5f"
          },
          "geo": {
           "bgcolor": "white",
           "lakecolor": "white",
           "landcolor": "#E5ECF6",
           "showlakes": true,
           "showland": true,
           "subunitcolor": "white"
          },
          "hoverlabel": {
           "align": "left"
          },
          "hovermode": "closest",
          "mapbox": {
           "style": "light"
          },
          "paper_bgcolor": "white",
          "plot_bgcolor": "#E5ECF6",
          "polar": {
           "angularaxis": {
            "gridcolor": "white",
            "linecolor": "white",
            "ticks": ""
           },
           "bgcolor": "#E5ECF6",
           "radialaxis": {
            "gridcolor": "white",
            "linecolor": "white",
            "ticks": ""
           }
          },
          "scene": {
           "xaxis": {
            "backgroundcolor": "#E5ECF6",
            "gridcolor": "white",
            "gridwidth": 2,
            "linecolor": "white",
            "showbackground": true,
            "ticks": "",
            "zerolinecolor": "white"
           },
           "yaxis": {
            "backgroundcolor": "#E5ECF6",
            "gridcolor": "white",
            "gridwidth": 2,
            "linecolor": "white",
            "showbackground": true,
            "ticks": "",
            "zerolinecolor": "white"
           },
           "zaxis": {
            "backgroundcolor": "#E5ECF6",
            "gridcolor": "white",
            "gridwidth": 2,
            "linecolor": "white",
            "showbackground": true,
            "ticks": "",
            "zerolinecolor": "white"
           }
          },
          "shapedefaults": {
           "line": {
            "color": "#2a3f5f"
           }
          },
          "ternary": {
           "aaxis": {
            "gridcolor": "white",
            "linecolor": "white",
            "ticks": ""
           },
           "baxis": {
            "gridcolor": "white",
            "linecolor": "white",
            "ticks": ""
           },
           "bgcolor": "#E5ECF6",
           "caxis": {
            "gridcolor": "white",
            "linecolor": "white",
            "ticks": ""
           }
          },
          "title": {
           "x": 0.05
          },
          "xaxis": {
           "automargin": true,
           "gridcolor": "white",
           "linecolor": "white",
           "ticks": "",
           "title": {
            "standoff": 15
           },
           "zerolinecolor": "white",
           "zerolinewidth": 2
          },
          "yaxis": {
           "automargin": true,
           "gridcolor": "white",
           "linecolor": "white",
           "ticks": "",
           "title": {
            "standoff": 15
           },
           "zerolinecolor": "white",
           "zerolinewidth": 2
          }
         }
        },
        "title": {
         "text": "Changes in Opening Prices during CoViD-19"
        },
        "xaxis": {
         "anchor": "y",
         "autorange": true,
         "domain": [
          0,
          0.94
         ],
         "range": [
          "2020-03-04",
          "2020-04-03 20:00"
         ],
         "title": {
          "text": "Date"
         },
         "type": "date"
        },
        "yaxis": {
         "anchor": "x",
         "autorange": true,
         "domain": [
          0,
          1
         ],
         "range": [
          -78057.16666666667,
          1485446.1666666667
         ],
         "title": {
          "text": "Cases"
         },
         "type": "linear"
        },
        "yaxis2": {
         "anchor": "x",
         "autorange": true,
         "overlaying": "y",
         "range": [
          -0.14276097989226577,
          0.12714704525275433
         ],
         "side": "right",
         "tickformat": ".2%",
         "title": {
          "text": "Price ($)"
         },
         "type": "linear"
        }
       }
      },
      "image/png": "[encoded data removed]",
      "text/html": [
       "<div>\n",
       "        \n",
       "        \n",
       "            <div id=\"4691baa7-d793-41aa-9b88-86209bf04be8\" class=\"plotly-graph-div\" style=\"height:525px; width:100%;\"></div>\n",
       "            <script type=\"text/javascript\">\n",
       "                require([\"plotly\"], function(Plotly) {\n",
       "                    window.PLOTLYENV=window.PLOTLYENV || {};\n",
       "                    \n",
       "                if (document.getElementById(\"4691baa7-d793-41aa-9b88-86209bf04be8\")) {\n",
       "                    Plotly.newPlot(\n",
       "                        '4691baa7-d793-41aa-9b88-86209bf04be8',\n",
       "                        [{\"mode\": \"lines\", \"name\": \"Positive\", \"type\": \"scatter\", \"x\": [\"2020-04-03T20:00:00\", \"2020-04-02T20:00:00\", \"2020-04-01T20:00:00\", \"2020-03-31T20:00:00\", \"2020-03-30T20:00:00\", \"2020-03-29T20:00:00\", \"2020-03-28T20:00:00\", \"2020-03-27T20:00:00\", \"2020-03-26T20:00:00\", \"2020-03-25T20:00:00\", \"2020-03-24T20:00:00\", \"2020-03-23T20:00:00\", \"2020-03-22T20:00:00\", \"2020-03-21T20:00:00\", \"2020-03-20T20:00:00\", \"2020-03-19T20:00:00\", \"2020-03-18T20:00:00\", \"2020-03-17T20:00:00\", \"2020-03-16T20:00:00\", \"2020-03-15T20:00:00\", \"2020-03-14T20:00:00\", \"2020-03-13T20:00:00\", \"2020-03-12T20:00:00\", \"2020-03-11T20:00:00\", \"2020-03-10T20:00:00\", \"2020-03-09T20:00:00\", \"2020-03-08T20:00:00\", \"2020-03-07T21:00:00\", \"2020-03-06T21:00:00\", \"2020-03-05T21:00:00\", \"2020-03-04T21:00:00\"], \"xaxis\": \"x\", \"y\": [271915, 239009, 210770, 184683, 160530, 139061, 118234, 99413, 80735, 63928, 51954, 42152, 31879, 23197, 17033, 11719, 7730, 5722, 4019, 3173, 2450, 1922, 1315, 1054, 778, 584, 417, 341, 223, 176, 118], \"yaxis\": \"y\"}, {\"mode\": \"lines\", \"name\": \"Tested\", \"type\": \"scatter\", \"x\": [\"2020-04-03T20:00:00\", \"2020-04-02T20:00:00\", \"2020-04-01T20:00:00\", \"2020-03-31T20:00:00\", \"2020-03-30T20:00:00\", \"2020-03-29T20:00:00\", \"2020-03-28T20:00:00\", \"2020-03-27T20:00:00\", \"2020-03-26T20:00:00\", \"2020-03-25T20:00:00\", \"2020-03-24T20:00:00\", \"2020-03-23T20:00:00\", \"2020-03-22T20:00:00\", \"2020-03-21T20:00:00\", \"2020-03-20T20:00:00\", \"2020-03-19T20:00:00\", \"2020-03-18T20:00:00\", \"2020-03-17T20:00:00\", \"2020-03-16T20:00:00\", \"2020-03-15T20:00:00\", \"2020-03-14T20:00:00\", \"2020-03-13T20:00:00\", \"2020-03-12T20:00:00\", \"2020-03-11T20:00:00\", \"2020-03-10T20:00:00\", \"2020-03-09T20:00:00\", \"2020-03-08T20:00:00\", \"2020-03-07T21:00:00\", \"2020-03-06T21:00:00\", \"2020-03-05T21:00:00\", \"2020-03-04T21:00:00\"], \"xaxis\": \"x\", \"y\": [1407271, 1267658, 1149960, 1048884, 944854, 831351, 735704, 626633, 519338, 421532, 344732, 279473, 225342, 179106, 135180, 100872, 73955, 53326, 40123, 25724, 19552, 15535, 9356, 7124, 4585, 3951, 2752, 2150, 1794, 1129, 866], \"yaxis\": \"y\"}, {\"mode\": \"lines\", \"name\": \"$MSFT\", \"type\": \"scatter\", \"visible\": \"legendonly\", \"x\": [\"2020-03-04T00:00:00\", \"2020-03-05T00:00:00\", \"2020-03-06T00:00:00\", \"2020-03-09T00:00:00\", \"2020-03-10T00:00:00\", \"2020-03-11T00:00:00\", \"2020-03-12T00:00:00\", \"2020-03-13T00:00:00\", \"2020-03-16T00:00:00\", \"2020-03-17T00:00:00\", \"2020-03-18T00:00:00\", \"2020-03-19T00:00:00\", \"2020-03-20T00:00:00\", \"2020-03-23T00:00:00\", \"2020-03-24T00:00:00\", \"2020-03-25T00:00:00\", \"2020-03-26T00:00:00\", \"2020-03-27T00:00:00\", \"2020-03-30T00:00:00\", \"2020-03-31T00:00:00\", \"2020-04-01T00:00:00\", \"2020-04-02T00:00:00\"], \"xaxis\": \"x\", \"y\": [null, -0.014481571606623556, -0.02071665161096059, -0.07139782301211495, 0.04741721854304637, -0.006512392513910004, -0.07528797810729959, 0.015141087405368125, -0.05084745762711862, 0.0, -0.014285714285714235, 0.03456521739130447, 0.02262380051831614, -0.06157534246575347, 0.04919348952631197, 0.035895652173913106, -0.00342488751594916, 0.02257412398921832, 0.004546952224052658, 0.04565730779323007, -0.04015056461731492, -0.0074509803921567475], \"yaxis\": \"y2\"}, {\"mode\": \"lines\", \"name\": \"$ZM\", \"type\": \"scatter\", \"visible\": \"legendonly\", \"x\": [\"2020-03-04T00:00:00\", \"2020-03-05T00:00:00\", \"2020-03-06T00:00:00\", \"2020-03-09T00:00:00\", \"2020-03-10T00:00:00\", \"2020-03-11T00:00:00\", \"2020-03-12T00:00:00\", \"2020-03-13T00:00:00\", \"2020-03-16T00:00:00\", \"2020-03-17T00:00:00\", \"2020-03-18T00:00:00\", \"2020-03-19T00:00:00\", \"2020-03-20T00:00:00\", \"2020-03-23T00:00:00\", \"2020-03-24T00:00:00\", \"2020-03-25T00:00:00\", \"2020-03-26T00:00:00\", \"2020-03-27T00:00:00\", \"2020-03-30T00:00:00\", \"2020-03-31T00:00:00\", \"2020-04-01T00:00:00\", \"2020-04-02T00:00:00\"], \"xaxis\": \"x\", \"y\": [null, -0.06969875959834615, 0.0852607709750568, -0.1224404513163394, 0.08380952380952378, -0.04736379613356767, -0.01992436122128949, 0.06352941176470583, -0.07079646017699115, 0.022190476190476094, 0.034193608497158356, 0.10765765765765778, 0.049206994713298036, 0.10077519379844957, 0.08450704225352124, -0.09025974025974026, 0.002926481084939203, 0.03693687282043978, 0.10336307481125595, -0.085469022144812, -0.01714052509862607, -0.13287197231833914], \"yaxis\": \"y2\"}, {\"line\": {\"color\": \"royalblue\", \"width\": 5}, \"mode\": \"lines\", \"name\": \"$DJI\", \"type\": \"scatter\", \"x\": [\"2020-03-04T00:00:00\", \"2020-03-06T00:00:00\", \"2020-03-09T00:00:00\", \"2020-03-10T00:00:00\", \"2020-03-11T00:00:00\", \"2020-03-12T00:00:00\", \"2020-03-13T00:00:00\", \"2020-03-16T00:00:00\", \"2020-03-17T00:00:00\", \"2020-03-18T00:00:00\", \"2020-03-19T00:00:00\", \"2020-03-20T00:00:00\", \"2020-03-23T00:00:00\", \"2020-03-24T00:00:00\", \"2020-03-25T00:00:00\", \"2020-03-27T00:00:00\", \"2020-03-30T00:00:00\", \"2020-03-31T00:00:00\", \"2020-04-01T00:00:00\", \"2020-04-02T00:00:00\"], \"xaxis\": \"x\", \"y\": [null, -0.04525874001971153, -0.07785871145340384, 0.04893715148211819, -0.058557370234469275, -0.09988451675356225, 0.09362942558229492, -0.12926557863501476, 0.051955321098645424, -0.06302560577095129, 0.009462834629049732, -0.04546178661037881, -0.030358819234379775, 0.11365164399550332, 0.023941192664538313, 0.020574889389922912, 0.03192246542926869, -0.018376441607882654, -0.04442629532969544, 0.02243655549454493], \"yaxis\": \"y2\"}],\n",
       "                        {\"template\": {\"data\": {\"bar\": [{\"error_x\": {\"color\": \"#2a3f5f\"}, \"error_y\": {\"color\": \"#2a3f5f\"}, \"marker\": {\"line\": {\"color\": \"#E5ECF6\", \"width\": 0.5}}, \"type\": \"bar\"}], \"barpolar\": [{\"marker\": {\"line\": {\"color\": \"#E5ECF6\", \"width\": 0.5}}, \"type\": \"barpolar\"}], \"carpet\": [{\"aaxis\": {\"endlinecolor\": \"#2a3f5f\", \"gridcolor\": \"white\", \"linecolor\": \"white\", \"minorgridcolor\": \"white\", \"startlinecolor\": \"#2a3f5f\"}, \"baxis\": {\"endlinecolor\": \"#2a3f5f\", \"gridcolor\": \"white\", \"linecolor\": \"white\", \"minorgridcolor\": \"white\", \"startlinecolor\": \"#2a3f5f\"}, \"type\": \"carpet\"}], \"choropleth\": [{\"colorbar\": {\"outlinewidth\": 0, \"ticks\": \"\"}, \"type\": \"choropleth\"}], \"contour\": [{\"colorbar\": {\"outlinewidth\": 0, \"ticks\": \"\"}, \"colorscale\": [[0.0, \"#0d0887\"], [0.1111111111111111, \"#46039f\"], [0.2222222222222222, \"#7201a8\"], [0.3333333333333333, \"#9c179e\"], [0.4444444444444444, \"#bd3786\"], [0.5555555555555556, \"#d8576b\"], [0.6666666666666666, \"#ed7953\"], [0.7777777777777778, \"#fb9f3a\"], [0.8888888888888888, \"#fdca26\"], [1.0, \"#f0f921\"]], \"type\": \"contour\"}], \"contourcarpet\": [{\"colorbar\": {\"outlinewidth\": 0, \"ticks\": \"\"}, \"type\": \"contourcarpet\"}], \"heatmap\": [{\"colorbar\": {\"outlinewidth\": 0, \"ticks\": \"\"}, \"colorscale\": [[0.0, \"#0d0887\"], [0.1111111111111111, \"#46039f\"], [0.2222222222222222, \"#7201a8\"], [0.3333333333333333, \"#9c179e\"], [0.4444444444444444, \"#bd3786\"], [0.5555555555555556, \"#d8576b\"], [0.6666666666666666, \"#ed7953\"], [0.7777777777777778, \"#fb9f3a\"], [0.8888888888888888, \"#fdca26\"], [1.0, \"#f0f921\"]], \"type\": \"heatmap\"}], \"heatmapgl\": [{\"colorbar\": {\"outlinewidth\": 0, \"ticks\": \"\"}, \"colorscale\": [[0.0, \"#0d0887\"], [0.1111111111111111, \"#46039f\"], [0.2222222222222222, \"#7201a8\"], [0.3333333333333333, \"#9c179e\"], [0.4444444444444444, \"#bd3786\"], [0.5555555555555556, \"#d8576b\"], [0.6666666666666666, \"#ed7953\"], [0.7777777777777778, \"#fb9f3a\"], [0.8888888888888888, \"#fdca26\"], [1.0, \"#f0f921\"]], \"type\": \"heatmapgl\"}], \"histogram\": [{\"marker\": {\"colorbar\": {\"outlinewidth\": 0, \"ticks\": \"\"}}, \"type\": \"histogram\"}], \"histogram2d\": [{\"colorbar\": {\"outlinewidth\": 0, \"ticks\": \"\"}, \"colorscale\": [[0.0, \"#0d0887\"], [0.1111111111111111, \"#46039f\"], [0.2222222222222222, \"#7201a8\"], [0.3333333333333333, \"#9c179e\"], [0.4444444444444444, \"#bd3786\"], [0.5555555555555556, \"#d8576b\"], [0.6666666666666666, \"#ed7953\"], [0.7777777777777778, \"#fb9f3a\"], [0.8888888888888888, \"#fdca26\"], [1.0, \"#f0f921\"]], \"type\": \"histogram2d\"}], \"histogram2dcontour\": [{\"colorbar\": {\"outlinewidth\": 0, \"ticks\": \"\"}, \"colorscale\": [[0.0, \"#0d0887\"], [0.1111111111111111, \"#46039f\"], [0.2222222222222222, \"#7201a8\"], [0.3333333333333333, \"#9c179e\"], [0.4444444444444444, \"#bd3786\"], [0.5555555555555556, \"#d8576b\"], [0.6666666666666666, \"#ed7953\"], [0.7777777777777778, \"#fb9f3a\"], [0.8888888888888888, \"#fdca26\"], [1.0, \"#f0f921\"]], \"type\": \"histogram2dcontour\"}], \"mesh3d\": [{\"colorbar\": {\"outlinewidth\": 0, \"ticks\": \"\"}, \"type\": \"mesh3d\"}], \"parcoords\": [{\"line\": {\"colorbar\": {\"outlinewidth\": 0, \"ticks\": \"\"}}, \"type\": \"parcoords\"}], \"pie\": [{\"automargin\": true, \"type\": \"pie\"}], \"scatter\": [{\"marker\": {\"colorbar\": {\"outlinewidth\": 0, \"ticks\": \"\"}}, \"type\": \"scatter\"}], \"scatter3d\": [{\"line\": {\"colorbar\": {\"outlinewidth\": 0, \"ticks\": \"\"}}, \"marker\": {\"colorbar\": {\"outlinewidth\": 0, \"ticks\": \"\"}}, \"type\": \"scatter3d\"}], \"scattercarpet\": [{\"marker\": {\"colorbar\": {\"outlinewidth\": 0, \"ticks\": \"\"}}, \"type\": \"scattercarpet\"}], \"scattergeo\": [{\"marker\": {\"colorbar\": {\"outlinewidth\": 0, \"ticks\": \"\"}}, \"type\": \"scattergeo\"}], \"scattergl\": [{\"marker\": {\"colorbar\": {\"outlinewidth\": 0, \"ticks\": \"\"}}, \"type\": \"scattergl\"}], \"scattermapbox\": [{\"marker\": {\"colorbar\": {\"outlinewidth\": 0, \"ticks\": \"\"}}, \"type\": \"scattermapbox\"}], \"scatterpolar\": [{\"marker\": {\"colorbar\": {\"outlinewidth\": 0, \"ticks\": \"\"}}, \"type\": \"scatterpolar\"}], \"scatterpolargl\": [{\"marker\": {\"colorbar\": {\"outlinewidth\": 0, \"ticks\": \"\"}}, \"type\": \"scatterpolargl\"}], \"scatterternary\": [{\"marker\": {\"colorbar\": {\"outlinewidth\": 0, \"ticks\": \"\"}}, \"type\": \"scatterternary\"}], \"surface\": [{\"colorbar\": {\"outlinewidth\": 0, \"ticks\": \"\"}, \"colorscale\": [[0.0, \"#0d0887\"], [0.1111111111111111, \"#46039f\"], [0.2222222222222222, \"#7201a8\"], [0.3333333333333333, \"#9c179e\"], [0.4444444444444444, \"#bd3786\"], [0.5555555555555556, \"#d8576b\"], [0.6666666666666666, \"#ed7953\"], [0.7777777777777778, \"#fb9f3a\"], [0.8888888888888888, \"#fdca26\"], [1.0, \"#f0f921\"]], \"type\": \"surface\"}], \"table\": [{\"cells\": {\"fill\": {\"color\": \"#EBF0F8\"}, \"line\": {\"color\": \"white\"}}, \"header\": {\"fill\": {\"color\": \"#C8D4E3\"}, \"line\": {\"color\": \"white\"}}, \"type\": \"table\"}]}, \"layout\": {\"annotationdefaults\": {\"arrowcolor\": \"#2a3f5f\", \"arrowhead\": 0, \"arrowwidth\": 1}, \"coloraxis\": {\"colorbar\": {\"outlinewidth\": 0, \"ticks\": \"\"}}, \"colorscale\": {\"diverging\": [[0, \"#8e0152\"], [0.1, \"#c51b7d\"], [0.2, \"#de77ae\"], [0.3, \"#f1b6da\"], [0.4, \"#fde0ef\"], [0.5, \"#f7f7f7\"], [0.6, \"#e6f5d0\"], [0.7, \"#b8e186\"], [0.8, \"#7fbc41\"], [0.9, \"#4d9221\"], [1, \"#276419\"]], \"sequential\": [[0.0, \"#0d0887\"], [0.1111111111111111, \"#46039f\"], [0.2222222222222222, \"#7201a8\"], [0.3333333333333333, \"#9c179e\"], [0.4444444444444444, \"#bd3786\"], [0.5555555555555556, \"#d8576b\"], [0.6666666666666666, \"#ed7953\"], [0.7777777777777778, \"#fb9f3a\"], [0.8888888888888888, \"#fdca26\"], [1.0, \"#f0f921\"]], \"sequentialminus\": [[0.0, \"#0d0887\"], [0.1111111111111111, \"#46039f\"], [0.2222222222222222, \"#7201a8\"], [0.3333333333333333, \"#9c179e\"], [0.4444444444444444, \"#bd3786\"], [0.5555555555555556, \"#d8576b\"], [0.6666666666666666, \"#ed7953\"], [0.7777777777777778, \"#fb9f3a\"], [0.8888888888888888, \"#fdca26\"], [1.0, \"#f0f921\"]]}, \"colorway\": [\"#636efa\", \"#EF553B\", \"#00cc96\", \"#ab63fa\", \"#FFA15A\", \"#19d3f3\", \"#FF6692\", \"#B6E880\", \"#FF97FF\", \"#FECB52\"], \"font\": {\"color\": \"#2a3f5f\"}, \"geo\": {\"bgcolor\": \"white\", \"lakecolor\": \"white\", \"landcolor\": \"#E5ECF6\", \"showlakes\": true, \"showland\": true, \"subunitcolor\": \"white\"}, \"hoverlabel\": {\"align\": \"left\"}, \"hovermode\": \"closest\", \"mapbox\": {\"style\": \"light\"}, \"paper_bgcolor\": \"white\", \"plot_bgcolor\": \"#E5ECF6\", \"polar\": {\"angularaxis\": {\"gridcolor\": \"white\", \"linecolor\": \"white\", \"ticks\": \"\"}, \"bgcolor\": \"#E5ECF6\", \"radialaxis\": {\"gridcolor\": \"white\", \"linecolor\": \"white\", \"ticks\": \"\"}}, \"scene\": {\"xaxis\": {\"backgroundcolor\": \"#E5ECF6\", \"gridcolor\": \"white\", \"gridwidth\": 2, \"linecolor\": \"white\", \"showbackground\": true, \"ticks\": \"\", \"zerolinecolor\": \"white\"}, \"yaxis\": {\"backgroundcolor\": \"#E5ECF6\", \"gridcolor\": \"white\", \"gridwidth\": 2, \"linecolor\": \"white\", \"showbackground\": true, \"ticks\": \"\", \"zerolinecolor\": \"white\"}, \"zaxis\": {\"backgroundcolor\": \"#E5ECF6\", \"gridcolor\": \"white\", \"gridwidth\": 2, \"linecolor\": \"white\", \"showbackground\": true, \"ticks\": \"\", \"zerolinecolor\": \"white\"}}, \"shapedefaults\": {\"line\": {\"color\": \"#2a3f5f\"}}, \"ternary\": {\"aaxis\": {\"gridcolor\": \"white\", \"linecolor\": \"white\", \"ticks\": \"\"}, \"baxis\": {\"gridcolor\": \"white\", \"linecolor\": \"white\", \"ticks\": \"\"}, \"bgcolor\": \"#E5ECF6\", \"caxis\": {\"gridcolor\": \"white\", \"linecolor\": \"white\", \"ticks\": \"\"}}, \"title\": {\"x\": 0.05}, \"xaxis\": {\"automargin\": true, \"gridcolor\": \"white\", \"linecolor\": \"white\", \"ticks\": \"\", \"title\": {\"standoff\": 15}, \"zerolinecolor\": \"white\", \"zerolinewidth\": 2}, \"yaxis\": {\"automargin\": true, \"gridcolor\": \"white\", \"linecolor\": \"white\", \"ticks\": \"\", \"title\": {\"standoff\": 15}, \"zerolinecolor\": \"white\", \"zerolinewidth\": 2}}}, \"title\": {\"text\": \"Changes in Opening Prices during CoViD-19\"}, \"xaxis\": {\"anchor\": \"y\", \"domain\": [0.0, 0.94], \"title\": {\"text\": \"Date\"}}, \"yaxis\": {\"anchor\": \"x\", \"domain\": [0.0, 1.0], \"title\": {\"text\": \"Cases\"}}, \"yaxis2\": {\"anchor\": \"x\", \"overlaying\": \"y\", \"side\": \"right\", \"tickformat\": \".2%\", \"title\": {\"text\": \"Price ($)\"}}},\n",
       "                        {\"responsive\": true}\n",
       "                    ).then(function(){\n",
       "                            \n",
       "var gd = document.getElementById('4691baa7-d793-41aa-9b88-86209bf04be8');\n",
       "var x = new MutationObserver(function (mutations, observer) {{\n",
       "        var display = window.getComputedStyle(gd).display;\n",
       "        if (!display || display === 'none') {{\n",
       "            console.log([gd, 'removed!']);\n",
       "            Plotly.purge(gd);\n",
       "            observer.disconnect();\n",
       "        }}\n",
       "}});\n",
       "\n",
       "// Listen for the removal of the full notebook cells\n",
       "var notebookContainer = gd.closest('#notebook-container');\n",
       "if (notebookContainer) {{\n",
       "    x.observe(notebookContainer, {childList: true});\n",
       "}}\n",
       "\n",
       "// Listen for the clearing of the current output cell\n",
       "var outputEl = gd.closest('.output');\n",
       "if (outputEl) {{\n",
       "    x.observe(outputEl, {childList: true});\n",
       "}}\n",
       "\n",
       "                        })\n",
       "                };\n",
       "                });\n",
       "            </script>\n",
       "        </div>"
      ]
     },
     "metadata": {},
     "output_type": "display_data"
    }
   ],
   "source": [
    "fig = make_subplots(specs=[[{\"secondary_y\": True}]])\n",
    "\n",
    "# Positive COVID-19 cases\n",
    "fig.add_trace(go.Scatter(x=df_states_daily['dateChecked'], y=df_states_daily['positive'],\n",
    "                    mode='lines',\n",
    "                    name='Positive'),\n",
    "             secondary_y=False)\n",
    "\n",
    "# Total tested cases\n",
    "fig.add_trace(go.Scatter(x=df_states_daily['dateChecked'], y=df_states_daily['totalTestResults'],\n",
    "                    mode='lines',\n",
    "                    name='Tested'),\n",
    "             secondary_y=False,)\n",
    "\n",
    "# MSFT Open\n",
    "fig.add_trace(go.Scatter(x=msft_pct.index, y=msft_pct,\n",
    "                    mode='lines',\n",
    "                    name='$MSFT',\n",
    "                    visible='legendonly'),\n",
    "             secondary_y=True,)\n",
    "\n",
    "# ZM Open\n",
    "fig.add_trace(go.Scatter(x=zm_pct.index, y=zm_pct,\n",
    "                    mode='lines',\n",
    "                    name='$ZM',\n",
    "                    visible='legendonly'),\n",
    "             secondary_y=True,)\n",
    "\n",
    "# DJI Open\n",
    "fig.add_trace(go.Scatter(x=dji_pct.index, y=dji_pct,\n",
    "                    mode='lines',\n",
    "                    name='$DJI',\n",
    "                    line=dict(color='royalblue', width=5)),\n",
    "             secondary_y=True,)\n",
    "\n",
    "\n",
    "\n",
    "# Add figure title\n",
    "fig.update_layout(\n",
    "    title_text=\"Changes in Opening Prices during CoViD-19\",\n",
    ")\n",
    "\n",
    "# Set x-axis title\n",
    "fig.update_xaxes(title_text=\"Date\")\n",
    "\n",
    "# Set y-axes titles\n",
    "fig.update_yaxes(title_text=\"Cases\", secondary_y=False)\n",
    "fig.update_yaxes(title_text=\"Price ($)\", secondary_y=True)\n",
    "\n",
    "# Set second y axis to percentage\n",
    "fig.update_yaxes(tickformat=\".2%\", secondary_y=True)\n",
    "\n",
    "\n",
    "\n",
    "fig.show()"
   ]
  },
  {
   "cell_type": "code",
   "execution_count": null,
   "metadata": {},
   "outputs": [],
   "source": []
  }
 ],
 "metadata": {
  "kernelspec": {
   "display_name": "Python 3",
   "language": "python",
   "name": "python3"
  },
  "language_info": {
   "codemirror_mode": {
    "name": "ipython",
    "version": 3
   },
   "file_extension": ".py",
   "mimetype": "text/x-python",
   "name": "python",
   "nbconvert_exporter": "python",
   "pygments_lexer": "ipython3",
   "version": "3.7.6"
  }
 },
 "nbformat": 4,
 "nbformat_minor": 4
}
