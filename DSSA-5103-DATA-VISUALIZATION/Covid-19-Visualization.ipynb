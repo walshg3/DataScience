{
 "cells": [
  {
   "cell_type": "code",
   "execution_count": 91,
   "metadata": {},
   "outputs": [],
   "source": [
    "#Import our necessary python libraries\n",
    "import pandas as pd\n",
    "import requests\n",
    "import json\n",
    "import os\n",
    "from collections import defaultdict\n",
    "from IPython.display import HTML\n",
    "import plotly.express as px\n",
    "BLS_API_KEY  = 'd8644c9411c54f5d8333afc4185af8e1'\n",
    "BLS_ENDPOINT = \"https://api.bls.gov/publicAPI/v2/timeseries/data/\"\n",
    "%matplotlib inline"
   ]
  },
  {
   "cell_type": "code",
   "execution_count": 136,
   "metadata": {},
   "outputs": [],
   "source": [
    "#Grab our data from covidtracking.com through their API.\n",
    "df_states_current = pd.read_json(\"https://covidtracking.com/api/states\")\n",
    "df_in_the_press   = pd.read_json(\"https://covidtracking.com/api/press\")\n",
    "df_us_current     = pd.read_json(\"https://covidtracking.com/api/us\")\n",
    "df_us_daily       = pd.read_json(\"https://covidtracking.com/api/us/daily\")\n",
    "df_counties       = pd.read_json(\"https://covidtracking.com/api/counties\")\n"
   ]
  },
  {
   "cell_type": "code",
   "execution_count": 153,
   "metadata": {},
   "outputs": [],
   "source": [
    "def get_bls_data(series, start, end):\n",
    "    headers = {'Content-Type': 'application/json'}\n",
    "    data = json.dumps({\"seriesid\": series,'registrationKey': 'd8644c9411c54f5d8333afc4185af8e1', \"startyear\":\"%d\" % (start), \"endyear\":\"%d\" % (end)})\n",
    "    p = requests.post(BLS_ENDPOINT, data=data, headers=headers)\n",
    "    json_data = json.loads(p.text)\n",
    "    try:\n",
    "        df = pd.DataFrame()\n",
    "        for series in json_data['Results']['series']:\n",
    "            df_initial = pd.DataFrame(series)\n",
    "            series_col = df_initial['seriesID'][0]\n",
    "            for i in range(0, len(df_initial) - 1):\n",
    "                df_row = pd.DataFrame(df_initial['data'][i])\n",
    "                df_row['seriesID'] = series_col\n",
    "                if 'code' not in str(df_row['footnotes']): \n",
    "                    df_row['footnotes'] = ''\n",
    "                else:\n",
    "                    df_row['footnotes'] = str(df_row['footnotes']).split(\"'code': '\",1)[1][:1]\n",
    "                df = df.append(df_row, ignore_index=True)\n",
    "        return df\n",
    "    except:\n",
    "        json_data['status'] == 'REQUEST_NOT_PROCESSED'\n",
    "        print('BLS API has given the following Response:', json_data['status'])\n",
    "        print('Reason:', json_data['message'])\n",
    "\n",
    "\n",
    "start = 2019\n",
    "end = 2020"
   ]
  },
  {
   "cell_type": "code",
   "execution_count": 158,
   "metadata": {},
   "outputs": [],
   "source": [
    "\n",
    "# series = ['LNS14000000', 'LNU05026645', 'LNS12032194', 'LNS14027689']\n",
    "# unemp = ['LASST340000000000003','LASST340000000000004','LASST340000000000005','LASST340000000000006','LASST340000000000007','LASST340000000000008']\n",
    "unemp = ['LASST340000000000004']\n",
    "\n",
    "df_unemployment = get_bls_data(series=unemp, start=start, end=end)"
   ]
  },
  {
   "cell_type": "code",
   "execution_count": 159,
   "metadata": {},
   "outputs": [
    {
     "output_type": "execute_result",
     "data": {
      "text/plain": "    year period periodName latest   value footnotes              seriesID\n0   2020    M03      March   true  174263         P  LASST340000000000004\n1   2020    M02   February    NaN  173873            LASST340000000000004\n2   2020    M01    January    NaN  172261            LASST340000000000004\n3   2019    M12   December    NaN  167704         R  LASST340000000000004\n4   2019    M11   November    NaN  168168         R  LASST340000000000004\n5   2019    M10    October    NaN  167107         R  LASST340000000000004\n6   2019    M09  September    NaN  161982         R  LASST340000000000004\n7   2019    M08     August    NaN  155492         R  LASST340000000000004\n8   2019    M07       July    NaN  149536         R  LASST340000000000004\n9   2019    M06       June    NaN  146273         R  LASST340000000000004\n10  2019    M05        May    NaN  147084         R  LASST340000000000004\n11  2019    M04      April    NaN  150892         R  LASST340000000000004\n12  2019    M03      March    NaN  156213         R  LASST340000000000004\n13  2019    M02   February    NaN  161475         R  LASST340000000000004",
      "text/html": "<div>\n<style scoped>\n    .dataframe tbody tr th:only-of-type {\n        vertical-align: middle;\n    }\n\n    .dataframe tbody tr th {\n        vertical-align: top;\n    }\n\n    .dataframe thead th {\n        text-align: right;\n    }\n</style>\n<table border=\"1\" class=\"dataframe\">\n  <thead>\n    <tr style=\"text-align: right;\">\n      <th></th>\n      <th>year</th>\n      <th>period</th>\n      <th>periodName</th>\n      <th>latest</th>\n      <th>value</th>\n      <th>footnotes</th>\n      <th>seriesID</th>\n    </tr>\n  </thead>\n  <tbody>\n    <tr>\n      <th>0</th>\n      <td>2020</td>\n      <td>M03</td>\n      <td>March</td>\n      <td>true</td>\n      <td>174263</td>\n      <td>P</td>\n      <td>LASST340000000000004</td>\n    </tr>\n    <tr>\n      <th>1</th>\n      <td>2020</td>\n      <td>M02</td>\n      <td>February</td>\n      <td>NaN</td>\n      <td>173873</td>\n      <td></td>\n      <td>LASST340000000000004</td>\n    </tr>\n    <tr>\n      <th>2</th>\n      <td>2020</td>\n      <td>M01</td>\n      <td>January</td>\n      <td>NaN</td>\n      <td>172261</td>\n      <td></td>\n      <td>LASST340000000000004</td>\n    </tr>\n    <tr>\n      <th>3</th>\n      <td>2019</td>\n      <td>M12</td>\n      <td>December</td>\n      <td>NaN</td>\n      <td>167704</td>\n      <td>R</td>\n      <td>LASST340000000000004</td>\n    </tr>\n    <tr>\n      <th>4</th>\n      <td>2019</td>\n      <td>M11</td>\n      <td>November</td>\n      <td>NaN</td>\n      <td>168168</td>\n      <td>R</td>\n      <td>LASST340000000000004</td>\n    </tr>\n    <tr>\n      <th>5</th>\n      <td>2019</td>\n      <td>M10</td>\n      <td>October</td>\n      <td>NaN</td>\n      <td>167107</td>\n      <td>R</td>\n      <td>LASST340000000000004</td>\n    </tr>\n    <tr>\n      <th>6</th>\n      <td>2019</td>\n      <td>M09</td>\n      <td>September</td>\n      <td>NaN</td>\n      <td>161982</td>\n      <td>R</td>\n      <td>LASST340000000000004</td>\n    </tr>\n    <tr>\n      <th>7</th>\n      <td>2019</td>\n      <td>M08</td>\n      <td>August</td>\n      <td>NaN</td>\n      <td>155492</td>\n      <td>R</td>\n      <td>LASST340000000000004</td>\n    </tr>\n    <tr>\n      <th>8</th>\n      <td>2019</td>\n      <td>M07</td>\n      <td>July</td>\n      <td>NaN</td>\n      <td>149536</td>\n      <td>R</td>\n      <td>LASST340000000000004</td>\n    </tr>\n    <tr>\n      <th>9</th>\n      <td>2019</td>\n      <td>M06</td>\n      <td>June</td>\n      <td>NaN</td>\n      <td>146273</td>\n      <td>R</td>\n      <td>LASST340000000000004</td>\n    </tr>\n    <tr>\n      <th>10</th>\n      <td>2019</td>\n      <td>M05</td>\n      <td>May</td>\n      <td>NaN</td>\n      <td>147084</td>\n      <td>R</td>\n      <td>LASST340000000000004</td>\n    </tr>\n    <tr>\n      <th>11</th>\n      <td>2019</td>\n      <td>M04</td>\n      <td>April</td>\n      <td>NaN</td>\n      <td>150892</td>\n      <td>R</td>\n      <td>LASST340000000000004</td>\n    </tr>\n    <tr>\n      <th>12</th>\n      <td>2019</td>\n      <td>M03</td>\n      <td>March</td>\n      <td>NaN</td>\n      <td>156213</td>\n      <td>R</td>\n      <td>LASST340000000000004</td>\n    </tr>\n    <tr>\n      <th>13</th>\n      <td>2019</td>\n      <td>M02</td>\n      <td>February</td>\n      <td>NaN</td>\n      <td>161475</td>\n      <td>R</td>\n      <td>LASST340000000000004</td>\n    </tr>\n  </tbody>\n</table>\n</div>"
     },
     "metadata": {},
     "execution_count": 159
    }
   ],
   "source": [
    "df_unemployment"
   ]
  },
  {
   "cell_type": "code",
   "execution_count": 141,
   "metadata": {},
   "outputs": [
    {
     "output_type": "execute_result",
     "data": {
      "text/plain": "         date    total\n0    20200501  6553449\n1    20200430  6249467\n2    20200429  6031002\n3    20200428  5799934\n4    20200427  5597572\n..        ...      ...\n96   20200126        1\n97   20200125        1\n98   20200124        1\n99   20200123        1\n100  20200122        1\n\n[101 rows x 2 columns]",
      "text/html": "<div>\n<style scoped>\n    .dataframe tbody tr th:only-of-type {\n        vertical-align: middle;\n    }\n\n    .dataframe tbody tr th {\n        vertical-align: top;\n    }\n\n    .dataframe thead th {\n        text-align: right;\n    }\n</style>\n<table border=\"1\" class=\"dataframe\">\n  <thead>\n    <tr style=\"text-align: right;\">\n      <th></th>\n      <th>date</th>\n      <th>total</th>\n    </tr>\n  </thead>\n  <tbody>\n    <tr>\n      <th>0</th>\n      <td>20200501</td>\n      <td>6553449</td>\n    </tr>\n    <tr>\n      <th>1</th>\n      <td>20200430</td>\n      <td>6249467</td>\n    </tr>\n    <tr>\n      <th>2</th>\n      <td>20200429</td>\n      <td>6031002</td>\n    </tr>\n    <tr>\n      <th>3</th>\n      <td>20200428</td>\n      <td>5799934</td>\n    </tr>\n    <tr>\n      <th>4</th>\n      <td>20200427</td>\n      <td>5597572</td>\n    </tr>\n    <tr>\n      <th>...</th>\n      <td>...</td>\n      <td>...</td>\n    </tr>\n    <tr>\n      <th>96</th>\n      <td>20200126</td>\n      <td>1</td>\n    </tr>\n    <tr>\n      <th>97</th>\n      <td>20200125</td>\n      <td>1</td>\n    </tr>\n    <tr>\n      <th>98</th>\n      <td>20200124</td>\n      <td>1</td>\n    </tr>\n    <tr>\n      <th>99</th>\n      <td>20200123</td>\n      <td>1</td>\n    </tr>\n    <tr>\n      <th>100</th>\n      <td>20200122</td>\n      <td>1</td>\n    </tr>\n  </tbody>\n</table>\n<p>101 rows × 2 columns</p>\n</div>"
     },
     "metadata": {},
     "execution_count": 141
    }
   ],
   "source": [
    "df_us_daily[[\"date\",\"total\"]]\n"
   ]
  },
  {
   "cell_type": "code",
   "execution_count": null,
   "metadata": {},
   "outputs": [],
   "source": [
    "#Choropleth Map of positive COVID-19 Cases in the United States\n",
    "statesDF = df_states_current[[\"state\",\"positive\"]]\n",
    "fig = px.choropleth(locations=statesDF.state, locationmode=\"USA-states\", color=statesDF.positive, scope=\"usa\",\n",
    "                   labels={'color':'Positive COVID-19 Cases'})\n",
    "fig.update_layout(title='COVID-19 Virus Positive Cases By State (Reported)')\n",
    "fig.show()"
   ]
  },
  {
   "cell_type": "code",
   "execution_count": null,
   "metadata": {},
   "outputs": [],
   "source": [
    "df_counties"
   ]
  },
  {
   "cell_type": "code",
   "execution_count": 23,
   "metadata": {},
   "outputs": [],
   "source": [
    "import requests\n",
    "import json\n",
    "headers = {'Content-type': 'application/json'}\n",
    "data = json.dumps({\"seriesid\": ['CUUR0000SA0','SUUR0000SA0'],\"startyear\":\"2011\", \"endyear\":\"2014\"})\n",
    "p = requests.post('https://api.bls.gov/publicAPI/v1/timeseries/data/', data=data, headers=headers)\n",
    "json_data = json.loads(p.text)\n",
    "    "
   ]
  },
  {
   "cell_type": "code",
   "execution_count": 24,
   "metadata": {},
   "outputs": [
    {
     "output_type": "execute_result",
     "data": {
      "text/plain": "{'status': 'REQUEST_SUCCEEDED',\n 'responseTime': 133,\n 'message': [],\n 'Results': {'series': [{'seriesID': 'CUUR0000SA0',\n    'data': [{'year': '2014',\n      'period': 'M12',\n      'periodName': 'December',\n      'value': '234.812',\n      'footnotes': [{}]},\n     {'year': '2014',\n      'period': 'M11',\n      'periodName': 'November',\n      'value': '236.151',\n      'footnotes': [{}]},\n     {'year': '2014',\n      'period': 'M10',\n      'periodName': 'October',\n      'value': '237.433',\n      'footnotes': [{}]},\n     {'year': '2014',\n      'period': 'M09',\n      'periodName': 'September',\n      'value': '238.031',\n      'footnotes': [{}]},\n     {'year': '2014',\n      'period': 'M08',\n      'periodName': 'August',\n      'value': '237.852',\n      'footnotes': [{}]},\n     {'year': '2014',\n      'period': 'M07',\n      'periodName': 'July',\n      'value': '238.250',\n      'footnotes': [{}]},\n     {'year': '2014',\n      'period': 'M06',\n      'periodName': 'June',\n      'value': '238.343',\n      'footnotes': [{}]},\n     {'year': '2014',\n      'period': 'M05',\n      'periodName': 'May',\n      'value': '237.900',\n      'footnotes': [{}]},\n     {'year': '2014',\n      'period': 'M04',\n      'periodName': 'April',\n      'value': '237.072',\n      'footnotes': [{}]},\n     {'year': '2014',\n      'period': 'M03',\n      'periodName': 'March',\n      'value': '236.293',\n      'footnotes': [{}]},\n     {'year': '2014',\n      'period': 'M02',\n      'periodName': 'February',\n      'value': '234.781',\n      'footnotes': [{}]},\n     {'year': '2014',\n      'period': 'M01',\n      'periodName': 'January',\n      'value': '233.916',\n      'footnotes': [{}]},\n     {'year': '2013',\n      'period': 'M12',\n      'periodName': 'December',\n      'value': '233.049',\n      'footnotes': [{}]},\n     {'year': '2013',\n      'period': 'M11',\n      'periodName': 'November',\n      'value': '233.069',\n      'footnotes': [{}]},\n     {'year': '2013',\n      'period': 'M10',\n      'periodName': 'October',\n      'value': '233.546',\n      'footnotes': [{}]},\n     {'year': '2013',\n      'period': 'M09',\n      'periodName': 'September',\n      'value': '234.149',\n      'footnotes': [{}]},\n     {'year': '2013',\n      'period': 'M08',\n      'periodName': 'August',\n      'value': '233.877',\n      'footnotes': [{}]},\n     {'year': '2013',\n      'period': 'M07',\n      'periodName': 'July',\n      'value': '233.596',\n      'footnotes': [{}]},\n     {'year': '2013',\n      'period': 'M06',\n      'periodName': 'June',\n      'value': '233.504',\n      'footnotes': [{}]},\n     {'year': '2013',\n      'period': 'M05',\n      'periodName': 'May',\n      'value': '232.945',\n      'footnotes': [{}]},\n     {'year': '2013',\n      'period': 'M04',\n      'periodName': 'April',\n      'value': '232.531',\n      'footnotes': [{}]},\n     {'year': '2013',\n      'period': 'M03',\n      'periodName': 'March',\n      'value': '232.773',\n      'footnotes': [{}]},\n     {'year': '2013',\n      'period': 'M02',\n      'periodName': 'February',\n      'value': '232.166',\n      'footnotes': [{}]},\n     {'year': '2013',\n      'period': 'M01',\n      'periodName': 'January',\n      'value': '230.280',\n      'footnotes': [{}]},\n     {'year': '2012',\n      'period': 'M12',\n      'periodName': 'December',\n      'value': '229.601',\n      'footnotes': [{}]},\n     {'year': '2012',\n      'period': 'M11',\n      'periodName': 'November',\n      'value': '230.221',\n      'footnotes': [{}]},\n     {'year': '2012',\n      'period': 'M10',\n      'periodName': 'October',\n      'value': '231.317',\n      'footnotes': [{}]},\n     {'year': '2012',\n      'period': 'M09',\n      'periodName': 'September',\n      'value': '231.407',\n      'footnotes': [{}]},\n     {'year': '2012',\n      'period': 'M08',\n      'periodName': 'August',\n      'value': '230.379',\n      'footnotes': [{}]},\n     {'year': '2012',\n      'period': 'M07',\n      'periodName': 'July',\n      'value': '229.104',\n      'footnotes': [{}]},\n     {'year': '2012',\n      'period': 'M06',\n      'periodName': 'June',\n      'value': '229.478',\n      'footnotes': [{}]},\n     {'year': '2012',\n      'period': 'M05',\n      'periodName': 'May',\n      'value': '229.815',\n      'footnotes': [{}]},\n     {'year': '2012',\n      'period': 'M04',\n      'periodName': 'April',\n      'value': '230.085',\n      'footnotes': [{}]},\n     {'year': '2012',\n      'period': 'M03',\n      'periodName': 'March',\n      'value': '229.392',\n      'footnotes': [{}]},\n     {'year': '2012',\n      'period': 'M02',\n      'periodName': 'February',\n      'value': '227.663',\n      'footnotes': [{}]},\n     {'year': '2012',\n      'period': 'M01',\n      'periodName': 'January',\n      'value': '226.665',\n      'footnotes': [{}]},\n     {'year': '2011',\n      'period': 'M12',\n      'periodName': 'December',\n      'value': '225.672',\n      'footnotes': [{}]},\n     {'year': '2011',\n      'period': 'M11',\n      'periodName': 'November',\n      'value': '226.230',\n      'footnotes': [{}]},\n     {'year': '2011',\n      'period': 'M10',\n      'periodName': 'October',\n      'value': '226.421',\n      'footnotes': [{}]},\n     {'year': '2011',\n      'period': 'M09',\n      'periodName': 'September',\n      'value': '226.889',\n      'footnotes': [{}]},\n     {'year': '2011',\n      'period': 'M08',\n      'periodName': 'August',\n      'value': '226.545',\n      'footnotes': [{}]},\n     {'year': '2011',\n      'period': 'M07',\n      'periodName': 'July',\n      'value': '225.922',\n      'footnotes': [{}]},\n     {'year': '2011',\n      'period': 'M06',\n      'periodName': 'June',\n      'value': '225.722',\n      'footnotes': [{}]},\n     {'year': '2011',\n      'period': 'M05',\n      'periodName': 'May',\n      'value': '225.964',\n      'footnotes': [{}]},\n     {'year': '2011',\n      'period': 'M04',\n      'periodName': 'April',\n      'value': '224.906',\n      'footnotes': [{}]},\n     {'year': '2011',\n      'period': 'M03',\n      'periodName': 'March',\n      'value': '223.467',\n      'footnotes': [{}]},\n     {'year': '2011',\n      'period': 'M02',\n      'periodName': 'February',\n      'value': '221.309',\n      'footnotes': [{}]},\n     {'year': '2011',\n      'period': 'M01',\n      'periodName': 'January',\n      'value': '220.223',\n      'footnotes': [{}]}]},\n   {'seriesID': 'SUUR0000SA0',\n    'data': [{'year': '2014',\n      'period': 'M12',\n      'periodName': 'December',\n      'value': '134.207',\n      'footnotes': [{}]},\n     {'year': '2014',\n      'period': 'M11',\n      'periodName': 'November',\n      'value': '135.107',\n      'footnotes': [{}]},\n     {'year': '2014',\n      'period': 'M10',\n      'periodName': 'October',\n      'value': '135.891',\n      'footnotes': [{}]},\n     {'year': '2014',\n      'period': 'M09',\n      'periodName': 'September',\n      'value': '136.211',\n      'footnotes': [{}]},\n     {'year': '2014',\n      'period': 'M08',\n      'periodName': 'August',\n      'value': '136.127',\n      'footnotes': [{}]},\n     {'year': '2014',\n      'period': 'M07',\n      'periodName': 'July',\n      'value': '136.392',\n      'footnotes': [{}]},\n     {'year': '2014',\n      'period': 'M06',\n      'periodName': 'June',\n      'value': '136.433',\n      'footnotes': [{}]},\n     {'year': '2014',\n      'period': 'M05',\n      'periodName': 'May',\n      'value': '136.216',\n      'footnotes': [{}]},\n     {'year': '2014',\n      'period': 'M04',\n      'periodName': 'April',\n      'value': '135.771',\n      'footnotes': [{}]},\n     {'year': '2014',\n      'period': 'M03',\n      'periodName': 'March',\n      'value': '135.375',\n      'footnotes': [{}]},\n     {'year': '2014',\n      'period': 'M02',\n      'periodName': 'February',\n      'value': '134.542',\n      'footnotes': [{}]},\n     {'year': '2014',\n      'period': 'M01',\n      'periodName': 'January',\n      'value': '134.017',\n      'footnotes': [{}]},\n     {'year': '2013',\n      'period': 'M12',\n      'periodName': 'December',\n      'value': '133.509',\n      'footnotes': [{}]},\n     {'year': '2013',\n      'period': 'M11',\n      'periodName': 'November',\n      'value': '133.596',\n      'footnotes': [{}]},\n     {'year': '2013',\n      'period': 'M10',\n      'periodName': 'October',\n      'value': '133.876',\n      'footnotes': [{}]},\n     {'year': '2013',\n      'period': 'M09',\n      'periodName': 'September',\n      'value': '134.255',\n      'footnotes': [{}]},\n     {'year': '2013',\n      'period': 'M08',\n      'periodName': 'August',\n      'value': '134.098',\n      'footnotes': [{}]},\n     {'year': '2013',\n      'period': 'M07',\n      'periodName': 'July',\n      'value': '133.919',\n      'footnotes': [{}]},\n     {'year': '2013',\n      'period': 'M06',\n      'periodName': 'June',\n      'value': '133.900',\n      'footnotes': [{}]},\n     {'year': '2013',\n      'period': 'M05',\n      'periodName': 'May',\n      'value': '133.626',\n      'footnotes': [{}]},\n     {'year': '2013',\n      'period': 'M04',\n      'periodName': 'April',\n      'value': '133.421',\n      'footnotes': [{}]},\n     {'year': '2013',\n      'period': 'M03',\n      'periodName': 'March',\n      'value': '133.558',\n      'footnotes': [{}]},\n     {'year': '2013',\n      'period': 'M02',\n      'periodName': 'February',\n      'value': '133.204',\n      'footnotes': [{}]},\n     {'year': '2013',\n      'period': 'M01',\n      'periodName': 'January',\n      'value': '132.137',\n      'footnotes': [{}]},\n     {'year': '2012',\n      'period': 'M12',\n      'periodName': 'December',\n      'value': '131.770',\n      'footnotes': [{}]},\n     {'year': '2012',\n      'period': 'M11',\n      'periodName': 'November',\n      'value': '132.208',\n      'footnotes': [{}]},\n     {'year': '2012',\n      'period': 'M10',\n      'periodName': 'October',\n      'value': '132.892',\n      'footnotes': [{}]},\n     {'year': '2012',\n      'period': 'M09',\n      'periodName': 'September',\n      'value': '132.988',\n      'footnotes': [{}]},\n     {'year': '2012',\n      'period': 'M08',\n      'periodName': 'August',\n      'value': '132.430',\n      'footnotes': [{}]},\n     {'year': '2012',\n      'period': 'M07',\n      'periodName': 'July',\n      'value': '131.731',\n      'footnotes': [{}]},\n     {'year': '2012',\n      'period': 'M06',\n      'periodName': 'June',\n      'value': '131.956',\n      'footnotes': [{}]},\n     {'year': '2012',\n      'period': 'M05',\n      'periodName': 'May',\n      'value': '132.154',\n      'footnotes': [{}]},\n     {'year': '2012',\n      'period': 'M04',\n      'periodName': 'April',\n      'value': '132.284',\n      'footnotes': [{}]},\n     {'year': '2012',\n      'period': 'M03',\n      'periodName': 'March',\n      'value': '131.905',\n      'footnotes': [{}]},\n     {'year': '2012',\n      'period': 'M02',\n      'periodName': 'February',\n      'value': '130.953',\n      'footnotes': [{}]},\n     {'year': '2012',\n      'period': 'M01',\n      'periodName': 'January',\n      'value': '130.438',\n      'footnotes': [{}]},\n     {'year': '2011',\n      'period': 'M12',\n      'periodName': 'December',\n      'value': '129.844',\n      'footnotes': [{}]},\n     {'year': '2011',\n      'period': 'M11',\n      'periodName': 'November',\n      'value': '130.196',\n      'footnotes': [{}]},\n     {'year': '2011',\n      'period': 'M10',\n      'periodName': 'October',\n      'value': '130.373',\n      'footnotes': [{}]},\n     {'year': '2011',\n      'period': 'M09',\n      'periodName': 'September',\n      'value': '130.635',\n      'footnotes': [{}]},\n     {'year': '2011',\n      'period': 'M08',\n      'periodName': 'August',\n      'value': '130.351',\n      'footnotes': [{}]},\n     {'year': '2011',\n      'period': 'M07',\n      'periodName': 'July',\n      'value': '129.983',\n      'footnotes': [{}]},\n     {'year': '2011',\n      'period': 'M06',\n      'periodName': 'June',\n      'value': '129.846',\n      'footnotes': [{}]},\n     {'year': '2011',\n      'period': 'M05',\n      'periodName': 'May',\n      'value': '129.999',\n      'footnotes': [{}]},\n     {'year': '2011',\n      'period': 'M04',\n      'periodName': 'April',\n      'value': '129.483',\n      'footnotes': [{}]},\n     {'year': '2011',\n      'period': 'M03',\n      'periodName': 'March',\n      'value': '128.585',\n      'footnotes': [{}]},\n     {'year': '2011',\n      'period': 'M02',\n      'periodName': 'February',\n      'value': '127.363',\n      'footnotes': [{}]},\n     {'year': '2011',\n      'period': 'M01',\n      'periodName': 'January',\n      'value': '126.778',\n      'footnotes': [{}]}]}]}}"
     },
     "metadata": {},
     "execution_count": 24
    }
   ],
   "source": [
    "json_data"
   ]
  },
  {
   "cell_type": "code",
   "execution_count": null,
   "metadata": {},
   "outputs": [],
   "source": []
  }
 ],
 "metadata": {
  "language_info": {
   "codemirror_mode": {
    "name": "ipython",
    "version": 3
   },
   "file_extension": ".py",
   "mimetype": "text/x-python",
   "name": "python",
   "nbconvert_exporter": "python",
   "pygments_lexer": "ipython3",
   "version": "3.7.7-final"
  },
  "orig_nbformat": 2,
  "kernelspec": {
   "name": "python37764bitconda642ec79e99cc40a8aae98ee5cd5934c5",
   "display_name": "Python 3.7.7 64-bit (conda)"
  }
 },
 "nbformat": 4,
 "nbformat_minor": 2
}