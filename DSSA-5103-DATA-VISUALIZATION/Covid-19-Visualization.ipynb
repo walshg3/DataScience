{
 "cells": [
  {
   "cell_type": "code",
   "execution_count": 1,
   "metadata": {},
   "outputs": [],
   "source": [
    "#Import our necessary python libraries\n",
    "import pandas as pd\n",
    "import requests\n",
    "import json\n",
    "import os\n",
    "from collections import defaultdict\n",
    "from IPython.display import HTML\n",
    "import plotly.express as px\n",
    "BLS_API_KEY  = 'd8644c9411c54f5d8333afc4185af8e1'\n",
    "BLS_ENDPOINT = \"https://api.bls.gov/publicAPI/v2/timeseries/data/\"\n",
    "import yfinance as yf\n",
    "import plotly.graph_objects as go\n",
    "from plotly.subplots import make_subplots\n",
    "%matplotlib inline"
   ]
  },
  {
   "cell_type": "code",
   "execution_count": 2,
   "metadata": {},
   "outputs": [],
   "source": [
    "#Grab our data from covidtracking.com through their API.\n",
    "df_states_current = pd.read_json(\"https://covidtracking.com/api/states\")\n",
    "df_states_daily   = pd.read_json(\"https://covidtracking.com/api/us/daily\")\n",
    "df_in_the_press   = pd.read_json(\"https://covidtracking.com/api/press\")\n",
    "df_us_current     = pd.read_json(\"https://covidtracking.com/api/us\")\n",
    "df_us_daily       = pd.read_json(\"https://covidtracking.com/api/us/daily\")\n",
    "df_counties       = pd.read_json(\"https://covidtracking.com/api/counties\")\n"
   ]
  },
  {
   "cell_type": "code",
   "execution_count": 45,
   "metadata": {},
   "outputs": [],
   "source": [
    "def get_bls_data(series, start, end):\n",
    "    headers = {'Content-Type': 'application/json'}\n",
    "    data = json.dumps({\"seriesid\": series,'registrationKey': 'd8644c9411c54f5d8333afc4185af8e1', \"startyear\":\"%d\" % (start), \"endyear\":\"%d\" % (end)})\n",
    "    p = requests.post(BLS_ENDPOINT, data=data, headers=headers)\n",
    "    json_data = json.loads(p.text)\n",
    "    try:\n",
    "        df = pd.DataFrame()\n",
    "        for series in json_data['Results']['series']:\n",
    "            df_initial = pd.DataFrame(series)\n",
    "            series_col = df_initial['seriesID'][0]\n",
    "            for i in range(0, len(df_initial) - 1):\n",
    "                df_row = pd.DataFrame(df_initial['data'][i])\n",
    "                df_row['seriesID'] = series_col\n",
    "                if 'code' not in str(df_row['footnotes']): \n",
    "                    df_row['footnotes'] = ''\n",
    "                else:\n",
    "                    df_row['footnotes'] = str(df_row['footnotes']).split(\"'code': '\",1)[1][:1]\n",
    "                df = df.append(df_row, ignore_index=True)\n",
    "        return df\n",
    "    except:\n",
    "        json_data['status'] == 'REQUEST_NOT_PROCESSED'\n",
    "        print('BLS API has given the following Response:', json_data['status'])\n",
    "        print('Reason:', json_data['message'])\n",
    "\n",
    "\n",
    "start = 2019\n",
    "end = 2020"
   ]
  },
  {
   "cell_type": "code",
   "execution_count": 48,
   "metadata": {},
   "outputs": [
    {
     "output_type": "execute_result",
     "data": {
      "text/plain": "    year period periodName latest   value footnotes              seriesID\n0   2020    M03      March   true  174263         P  LASST340000000000004\n1   2020    M02   February    NaN  173873            LASST340000000000004\n2   2020    M01    January    NaN  172261            LASST340000000000004\n3   2019    M12   December    NaN  167704         R  LASST340000000000004\n4   2019    M11   November    NaN  168168         R  LASST340000000000004\n5   2019    M10    October    NaN  167107         R  LASST340000000000004\n6   2019    M09  September    NaN  161982         R  LASST340000000000004\n7   2019    M08     August    NaN  155492         R  LASST340000000000004\n8   2019    M07       July    NaN  149536         R  LASST340000000000004\n9   2019    M06       June    NaN  146273         R  LASST340000000000004\n10  2019    M05        May    NaN  147084         R  LASST340000000000004\n11  2019    M04      April    NaN  150892         R  LASST340000000000004\n12  2019    M03      March    NaN  156213         R  LASST340000000000004\n13  2019    M02   February    NaN  161475         R  LASST340000000000004",
      "text/html": "<div>\n<style scoped>\n    .dataframe tbody tr th:only-of-type {\n        vertical-align: middle;\n    }\n\n    .dataframe tbody tr th {\n        vertical-align: top;\n    }\n\n    .dataframe thead th {\n        text-align: right;\n    }\n</style>\n<table border=\"1\" class=\"dataframe\">\n  <thead>\n    <tr style=\"text-align: right;\">\n      <th></th>\n      <th>year</th>\n      <th>period</th>\n      <th>periodName</th>\n      <th>latest</th>\n      <th>value</th>\n      <th>footnotes</th>\n      <th>seriesID</th>\n    </tr>\n  </thead>\n  <tbody>\n    <tr>\n      <th>0</th>\n      <td>2020</td>\n      <td>M03</td>\n      <td>March</td>\n      <td>true</td>\n      <td>174263</td>\n      <td>P</td>\n      <td>LASST340000000000004</td>\n    </tr>\n    <tr>\n      <th>1</th>\n      <td>2020</td>\n      <td>M02</td>\n      <td>February</td>\n      <td>NaN</td>\n      <td>173873</td>\n      <td></td>\n      <td>LASST340000000000004</td>\n    </tr>\n    <tr>\n      <th>2</th>\n      <td>2020</td>\n      <td>M01</td>\n      <td>January</td>\n      <td>NaN</td>\n      <td>172261</td>\n      <td></td>\n      <td>LASST340000000000004</td>\n    </tr>\n    <tr>\n      <th>3</th>\n      <td>2019</td>\n      <td>M12</td>\n      <td>December</td>\n      <td>NaN</td>\n      <td>167704</td>\n      <td>R</td>\n      <td>LASST340000000000004</td>\n    </tr>\n    <tr>\n      <th>4</th>\n      <td>2019</td>\n      <td>M11</td>\n      <td>November</td>\n      <td>NaN</td>\n      <td>168168</td>\n      <td>R</td>\n      <td>LASST340000000000004</td>\n    </tr>\n    <tr>\n      <th>5</th>\n      <td>2019</td>\n      <td>M10</td>\n      <td>October</td>\n      <td>NaN</td>\n      <td>167107</td>\n      <td>R</td>\n      <td>LASST340000000000004</td>\n    </tr>\n    <tr>\n      <th>6</th>\n      <td>2019</td>\n      <td>M09</td>\n      <td>September</td>\n      <td>NaN</td>\n      <td>161982</td>\n      <td>R</td>\n      <td>LASST340000000000004</td>\n    </tr>\n    <tr>\n      <th>7</th>\n      <td>2019</td>\n      <td>M08</td>\n      <td>August</td>\n      <td>NaN</td>\n      <td>155492</td>\n      <td>R</td>\n      <td>LASST340000000000004</td>\n    </tr>\n    <tr>\n      <th>8</th>\n      <td>2019</td>\n      <td>M07</td>\n      <td>July</td>\n      <td>NaN</td>\n      <td>149536</td>\n      <td>R</td>\n      <td>LASST340000000000004</td>\n    </tr>\n    <tr>\n      <th>9</th>\n      <td>2019</td>\n      <td>M06</td>\n      <td>June</td>\n      <td>NaN</td>\n      <td>146273</td>\n      <td>R</td>\n      <td>LASST340000000000004</td>\n    </tr>\n    <tr>\n      <th>10</th>\n      <td>2019</td>\n      <td>M05</td>\n      <td>May</td>\n      <td>NaN</td>\n      <td>147084</td>\n      <td>R</td>\n      <td>LASST340000000000004</td>\n    </tr>\n    <tr>\n      <th>11</th>\n      <td>2019</td>\n      <td>M04</td>\n      <td>April</td>\n      <td>NaN</td>\n      <td>150892</td>\n      <td>R</td>\n      <td>LASST340000000000004</td>\n    </tr>\n    <tr>\n      <th>12</th>\n      <td>2019</td>\n      <td>M03</td>\n      <td>March</td>\n      <td>NaN</td>\n      <td>156213</td>\n      <td>R</td>\n      <td>LASST340000000000004</td>\n    </tr>\n    <tr>\n      <th>13</th>\n      <td>2019</td>\n      <td>M02</td>\n      <td>February</td>\n      <td>NaN</td>\n      <td>161475</td>\n      <td>R</td>\n      <td>LASST340000000000004</td>\n    </tr>\n  </tbody>\n</table>\n</div>"
     },
     "metadata": {},
     "execution_count": 48
    }
   ],
   "source": [
    "\n",
    "# series = ['LNS14000000', 'LNU05026645', 'LNS12032194', 'LNS14027689']\n",
    "# unemp = ['LASST340000000000003','LASST340000000000004','LASST340000000000005','LASST340000000000006','LASST340000000000007','LASST340000000000008']\n",
    "unemp = ['LASST340000000000004']\n",
    "\n",
    "df_unemployment = get_bls_data(series=unemp, start=start, end=end)\n",
    "df_unemployment"
   ]
  },
  {
   "cell_type": "code",
   "execution_count": null,
   "metadata": {},
   "outputs": [],
   "source": [
    "#Choropleth Map of positive COVID-19 Cases in the United States\n",
    "statesDF = df_states_current[[\"state\",\"positive\"]]\n",
    "fig = px.choropleth(locations=statesDF.state, locationmode=\"USA-states\", color=statesDF.positive, scope=\"usa\",\n",
    "                   labels={'color':'Positive COVID-19 Cases'})\n",
    "fig.update_layout(title='COVID-19 Virus Positive Cases By State (Reported)')\n",
    "fig.show()"
   ]
  },
  {
   "cell_type": "code",
   "execution_count": 43,
   "metadata": {},
   "outputs": [],
   "source": [
    "df_states_daily['dateChecked'] = df_states_daily['dateChecked'].astype('datetime64[ns]')\n"
   ]
  },
  {
   "cell_type": "code",
   "execution_count": 4,
   "metadata": {},
   "outputs": [],
   "source": [
    "min_date = (df_states_daily.dateChecked.min()).date()\n",
    "max_date = (df_states_daily.dateChecked.max()).date()"
   ]
  },
  {
   "cell_type": "code",
   "execution_count": null,
   "metadata": {},
   "outputs": [],
   "source": []
  },
  {
   "cell_type": "code",
   "execution_count": 5,
   "metadata": {},
   "outputs": [],
   "source": [
    "tick_LH = yf.Ticker(\"LH\")\n",
    "df_LH = tick_LH.history(\n",
    "    start=min_date,\n",
    "    end=max_date)"
   ]
  },
  {
   "cell_type": "code",
   "execution_count": 6,
   "metadata": {},
   "outputs": [],
   "source": [
    "tick_RHHBY = yf.Ticker(\"RHHBY\")\n",
    "df_RHHBY = tick_RHHBY.history(\n",
    "    start=min_date,\n",
    "    end=max_date)"
   ]
  },
  {
   "cell_type": "code",
   "execution_count": 7,
   "metadata": {},
   "outputs": [],
   "source": [
    "tick_HOLX = yf.Ticker(\"HOLX\")\n",
    "df_HOLX = tick_HOLX.history(\n",
    "    start=min_date,\n",
    "    end=max_date)"
   ]
  },
  {
   "cell_type": "code",
   "execution_count": 8,
   "metadata": {},
   "outputs": [],
   "source": [
    "tick_RHHBY = yf.Ticker(\"RHHBY\")\n",
    "df_RHHBY = tick_RHHBY.history(\n",
    "    start=min_date,\n",
    "    end=max_date)"
   ]
  },
  {
   "cell_type": "code",
   "execution_count": 9,
   "metadata": {},
   "outputs": [],
   "source": [
    "tick_TMO = yf.Ticker(\"TMO\")\n",
    "df_TMO = tick_TMO.history(\n",
    "    start=min_date,\n",
    "    end=max_date)"
   ]
  },
  {
   "cell_type": "code",
   "execution_count": 10,
   "metadata": {},
   "outputs": [],
   "source": [
    "tick_ABT = yf.Ticker(\"ABT\")\n",
    "df_ABT = tick_ABT.history(\n",
    "    start=min_date,\n",
    "    end=max_date)"
   ]
  },
  {
   "cell_type": "code",
   "execution_count": null,
   "metadata": {},
   "outputs": [],
   "source": []
  },
  {
   "cell_type": "code",
   "execution_count": 49,
   "metadata": {},
   "outputs": [
    {
     "output_type": "display_data",
     "data": {
      "application/vnd.plotly.v1+json": {
       "config": {
        "plotlyServerURL": "https://plot.ly"
       },
       "data": [
        {
         "mode": "lines",
         "name": "Total Tests",
         "type": "scatter",
         "x": [
          "2020-05-03T20:00:00",
          "2020-05-02T20:00:00",
          "2020-05-01T20:00:00",
          "2020-04-30T20:00:00",
          "2020-04-29T20:00:00",
          "2020-04-28T20:00:00",
          "2020-04-27T20:00:00",
          "2020-04-26T20:00:00",
          "2020-04-25T20:00:00",
          "2020-04-24T20:00:00",
          "2020-04-23T20:00:00",
          "2020-04-22T20:00:00",
          "2020-04-21T20:00:00",
          "2020-04-20T20:00:00",
          "2020-04-19T20:00:00",
          "2020-04-18T20:00:00",
          "2020-04-17T20:00:00",
          "2020-04-16T20:00:00",
          "2020-04-15T20:00:00",
          "2020-04-14T20:00:00",
          "2020-04-13T20:00:00",
          "2020-04-12T20:00:00",
          "2020-04-11T20:00:00",
          "2020-04-10T20:00:00",
          "2020-04-09T20:00:00",
          "2020-04-08T20:00:00",
          "2020-04-07T20:00:00",
          "2020-04-06T20:00:00",
          "2020-04-05T20:00:00",
          "2020-04-04T20:00:00",
          "2020-04-03T20:00:00",
          "2020-04-02T20:00:00",
          "2020-04-01T20:00:00",
          "2020-03-31T20:00:00",
          "2020-03-30T20:00:00",
          "2020-03-29T20:00:00",
          "2020-03-28T20:00:00",
          "2020-03-27T20:00:00",
          "2020-03-26T20:00:00",
          "2020-03-25T20:00:00",
          "2020-03-24T20:00:00",
          "2020-03-23T20:00:00",
          "2020-03-22T20:00:00",
          "2020-03-21T20:00:00",
          "2020-03-20T20:00:00",
          "2020-03-19T20:00:00",
          "2020-03-18T20:00:00",
          "2020-03-17T20:00:00",
          "2020-03-16T20:00:00",
          "2020-03-15T20:00:00",
          "2020-03-14T20:00:00",
          "2020-03-13T20:00:00",
          "2020-03-12T20:00:00",
          "2020-03-11T20:00:00",
          "2020-03-10T20:00:00",
          "2020-03-09T20:00:00",
          "2020-03-08T20:00:00",
          "2020-03-07T21:00:00",
          "2020-03-06T21:00:00",
          "2020-03-05T21:00:00",
          "2020-03-04T21:00:00",
          "2020-03-03T21:00:00",
          "2020-03-02T21:00:00",
          "2020-03-01T21:00:00",
          "2020-02-29T21:00:00",
          "2020-02-28T21:00:00",
          "2020-02-27T21:00:00",
          "2020-02-26T21:00:00",
          "2020-02-25T21:00:00",
          "2020-02-24T21:00:00",
          "2020-02-23T21:00:00",
          "2020-02-22T21:00:00",
          "2020-02-21T21:00:00",
          "2020-02-20T21:00:00",
          "2020-02-19T21:00:00",
          "2020-02-18T21:00:00",
          "2020-02-17T21:00:00",
          "2020-02-16T21:00:00",
          "2020-02-15T21:00:00",
          "2020-02-14T21:00:00",
          "2020-02-13T21:00:00",
          "2020-02-12T21:00:00",
          "2020-02-11T21:00:00",
          "2020-02-10T21:00:00",
          "2020-02-09T21:00:00",
          "2020-02-08T21:00:00",
          "2020-02-07T21:00:00",
          "2020-02-06T21:00:00",
          "2020-02-05T21:00:00",
          "2020-02-04T21:00:00",
          "2020-02-03T21:00:00",
          "2020-02-02T21:00:00",
          "2020-02-01T21:00:00",
          "2020-01-31T21:00:00",
          "2020-01-30T21:00:00",
          "2020-01-29T21:00:00",
          "2020-01-28T21:00:00",
          "2020-01-27T21:00:00",
          "2020-01-26T21:00:00",
          "2020-01-25T21:00:00",
          "2020-01-24T21:00:00",
          "2020-01-23T21:00:00",
          "2020-01-22T21:00:00"
         ],
         "xaxis": "x",
         "y": [
          7053366,
          6816347,
          6551810,
          6246692,
          6026170,
          5795728,
          5593495,
          5403052,
          5196649,
          4925393,
          4693574,
          4501795,
          4186974,
          4038895,
          3891383,
          3724925,
          3582610,
          3424690,
          3262564,
          3125731,
          2975315,
          2842322,
          2700554,
          2562007,
          2404262,
          2238429,
          2093996,
          1941251,
          1790521,
          1670862,
          1442065,
          1309833,
          1191810,
          1084228,
          973134,
          855684,
          766904,
          662538,
          559468,
          459004,
          375517,
          306904,
          249769,
          205172,
          160419,
          124258,
          96858,
          72219,
          56610,
          38949,
          31291,
          26773,
          17717,
          12580,
          8832,
          6420,
          4624,
          3753,
          2983,
          2188,
          1597,
          527,
          282,
          121,
          41,
          9,
          2,
          2,
          2,
          2,
          2,
          2,
          2,
          2,
          2,
          2,
          2,
          2,
          2,
          2,
          2,
          2,
          2,
          2,
          2,
          2,
          2,
          1,
          1,
          1,
          1,
          1,
          1,
          1,
          1,
          1,
          1,
          1,
          1,
          1,
          1,
          1,
          1
         ],
         "yaxis": "y"
        },
        {
         "mode": "lines",
         "name": "$HOLX",
         "type": "scatter",
         "x": [
          "2020-01-22T00:00:00",
          "2020-01-23T00:00:00",
          "2020-01-24T00:00:00",
          "2020-01-27T00:00:00",
          "2020-01-28T00:00:00",
          "2020-01-29T00:00:00",
          "2020-01-30T00:00:00",
          "2020-01-31T00:00:00",
          "2020-02-03T00:00:00",
          "2020-02-04T00:00:00",
          "2020-02-05T00:00:00",
          "2020-02-06T00:00:00",
          "2020-02-07T00:00:00",
          "2020-02-10T00:00:00",
          "2020-02-11T00:00:00",
          "2020-02-12T00:00:00",
          "2020-02-13T00:00:00",
          "2020-02-14T00:00:00",
          "2020-02-18T00:00:00",
          "2020-02-19T00:00:00",
          "2020-02-20T00:00:00",
          "2020-02-21T00:00:00",
          "2020-02-24T00:00:00",
          "2020-02-25T00:00:00",
          "2020-02-26T00:00:00",
          "2020-02-27T00:00:00",
          "2020-02-28T00:00:00",
          "2020-03-02T00:00:00",
          "2020-03-03T00:00:00",
          "2020-03-04T00:00:00",
          "2020-03-05T00:00:00",
          "2020-03-06T00:00:00",
          "2020-03-09T00:00:00",
          "2020-03-10T00:00:00",
          "2020-03-11T00:00:00",
          "2020-03-12T00:00:00",
          "2020-03-13T00:00:00",
          "2020-03-16T00:00:00",
          "2020-03-17T00:00:00",
          "2020-03-18T00:00:00",
          "2020-03-19T00:00:00",
          "2020-03-20T00:00:00",
          "2020-03-23T00:00:00",
          "2020-03-24T00:00:00",
          "2020-03-25T00:00:00",
          "2020-03-26T00:00:00",
          "2020-03-27T00:00:00",
          "2020-03-30T00:00:00",
          "2020-03-31T00:00:00",
          "2020-04-01T00:00:00",
          "2020-04-02T00:00:00",
          "2020-04-03T00:00:00",
          "2020-04-06T00:00:00",
          "2020-04-07T00:00:00",
          "2020-04-08T00:00:00",
          "2020-04-09T00:00:00",
          "2020-04-13T00:00:00",
          "2020-04-14T00:00:00",
          "2020-04-15T00:00:00",
          "2020-04-16T00:00:00",
          "2020-04-17T00:00:00",
          "2020-04-20T00:00:00",
          "2020-04-21T00:00:00",
          "2020-04-22T00:00:00",
          "2020-04-23T00:00:00",
          "2020-04-24T00:00:00",
          "2020-04-27T00:00:00",
          "2020-04-28T00:00:00",
          "2020-04-29T00:00:00",
          "2020-04-30T00:00:00",
          "2020-05-01T00:00:00"
         ],
         "xaxis": "x",
         "y": [
          54.24,
          53.82,
          53.72,
          53.72,
          54.62,
          54.65,
          54.23,
          53.52,
          53.62,
          54.09,
          54.32,
          53.95,
          53.17,
          53.26,
          53.43,
          52.6,
          52.44,
          53.02,
          52.61,
          52.96,
          52.7,
          52.59,
          51.4,
          49.37,
          48.54,
          47.69,
          47.12,
          48.82,
          47.25,
          49.38,
          47.36,
          46.75,
          44.05,
          45.82,
          43.78,
          39.44,
          40.58,
          32.25,
          31.47,
          29.62,
          31.95,
          31.05,
          29.38,
          31.44,
          32.26,
          34.02,
          33.26,
          35,
          35.1,
          32.7,
          34.06,
          32.82,
          35.86,
          37.77,
          39.38,
          41.11,
          40.96,
          42.01,
          41.33,
          41.46,
          43.79,
          43.24,
          42.35,
          42.88,
          45.38,
          47.11,
          49.51,
          48.69,
          48.95,
          50.1,
          49.4
         ],
         "yaxis": "y2"
        },
        {
         "mode": "lines",
         "name": "$RHHBY",
         "type": "scatter",
         "x": [
          "2020-01-22T00:00:00",
          "2020-01-23T00:00:00",
          "2020-01-24T00:00:00",
          "2020-01-27T00:00:00",
          "2020-01-28T00:00:00",
          "2020-01-29T00:00:00",
          "2020-01-30T00:00:00",
          "2020-01-31T00:00:00",
          "2020-02-03T00:00:00",
          "2020-02-04T00:00:00",
          "2020-02-05T00:00:00",
          "2020-02-06T00:00:00",
          "2020-02-07T00:00:00",
          "2020-02-10T00:00:00",
          "2020-02-11T00:00:00",
          "2020-02-12T00:00:00",
          "2020-02-13T00:00:00",
          "2020-02-14T00:00:00",
          "2020-02-18T00:00:00",
          "2020-02-19T00:00:00",
          "2020-02-20T00:00:00",
          "2020-02-21T00:00:00",
          "2020-02-24T00:00:00",
          "2020-02-25T00:00:00",
          "2020-02-26T00:00:00",
          "2020-02-27T00:00:00",
          "2020-02-28T00:00:00",
          "2020-03-02T00:00:00",
          "2020-03-03T00:00:00",
          "2020-03-04T00:00:00",
          "2020-03-05T00:00:00",
          "2020-03-06T00:00:00",
          "2020-03-09T00:00:00",
          "2020-03-10T00:00:00",
          "2020-03-11T00:00:00",
          "2020-03-12T00:00:00",
          "2020-03-13T00:00:00",
          "2020-03-16T00:00:00",
          "2020-03-17T00:00:00",
          "2020-03-18T00:00:00",
          "2020-03-19T00:00:00",
          "2020-03-20T00:00:00",
          "2020-03-23T00:00:00",
          "2020-03-24T00:00:00",
          "2020-03-25T00:00:00",
          "2020-03-26T00:00:00",
          "2020-03-27T00:00:00",
          "2020-03-30T00:00:00",
          "2020-03-31T00:00:00",
          "2020-04-01T00:00:00",
          "2020-04-02T00:00:00",
          "2020-04-03T00:00:00",
          "2020-04-06T00:00:00",
          "2020-04-07T00:00:00",
          "2020-04-08T00:00:00",
          "2020-04-09T00:00:00",
          "2020-04-13T00:00:00",
          "2020-04-14T00:00:00",
          "2020-04-15T00:00:00",
          "2020-04-16T00:00:00",
          "2020-04-17T00:00:00",
          "2020-04-20T00:00:00",
          "2020-04-21T00:00:00",
          "2020-04-22T00:00:00",
          "2020-04-23T00:00:00",
          "2020-04-24T00:00:00",
          "2020-04-27T00:00:00",
          "2020-04-28T00:00:00",
          "2020-04-29T00:00:00",
          "2020-04-30T00:00:00",
          "2020-05-01T00:00:00"
         ],
         "xaxis": "x",
         "y": [
          41.28,
          41.1,
          39.94,
          39.72,
          39.93,
          40.2,
          41.21,
          40.52,
          40.59,
          41.1,
          42.23,
          42.1,
          42,
          42.1,
          42.09,
          42.07,
          42.35,
          42.07,
          42.75,
          43.36,
          42.52,
          42.69,
          41.24,
          40.48,
          40.86,
          39.54,
          38.67,
          39.94,
          40.32,
          42.31,
          41.77,
          40.75,
          38.37,
          39.66,
          37.97,
          34.57,
          39.07,
          36.2,
          38.09,
          36.56,
          38.95,
          36.09,
          35.26,
          37.17,
          37.29,
          38.78,
          38.97,
          40.88,
          40.57,
          40.8,
          41.65,
          41.12,
          41.65,
          40.02,
          40.35,
          39.75,
          39.39,
          40.8,
          40.09,
          41.79,
          42.63,
          43.21,
          43.35,
          44.64,
          44.18,
          45.06,
          44.89,
          45.28,
          43.78,
          43.47,
          42.84
         ],
         "yaxis": "y2"
        }
       ],
       "layout": {
        "annotations": [
         {
          "arrowhead": 7,
          "showarrow": false,
          "text": "March 23rd Stock Market Crash",
          "x": "2020-03-23",
          "xanchor": "left",
          "xref": "x",
          "y": 0.05,
          "yanchor": "middle",
          "yref": "paper"
         }
        ],
        "shapes": [
         {
          "line": {
           "width": 2
          },
          "x0": "2020-03-23",
          "x1": "2020-03-23",
          "xref": "x",
          "y0": 0,
          "y1": 1,
          "yref": "paper"
         }
        ],
        "showlegend": true,
        "template": {
         "data": {
          "bar": [
           {
            "error_x": {
             "color": "#2a3f5f"
            },
            "error_y": {
             "color": "#2a3f5f"
            },
            "marker": {
             "line": {
              "color": "#E5ECF6",
              "width": 0.5
             }
            },
            "type": "bar"
           }
          ],
          "barpolar": [
           {
            "marker": {
             "line": {
              "color": "#E5ECF6",
              "width": 0.5
             }
            },
            "type": "barpolar"
           }
          ],
          "carpet": [
           {
            "aaxis": {
             "endlinecolor": "#2a3f5f",
             "gridcolor": "white",
             "linecolor": "white",
             "minorgridcolor": "white",
             "startlinecolor": "#2a3f5f"
            },
            "baxis": {
             "endlinecolor": "#2a3f5f",
             "gridcolor": "white",
             "linecolor": "white",
             "minorgridcolor": "white",
             "startlinecolor": "#2a3f5f"
            },
            "type": "carpet"
           }
          ],
          "choropleth": [
           {
            "colorbar": {
             "outlinewidth": 0,
             "ticks": ""
            },
            "type": "choropleth"
           }
          ],
          "contour": [
           {
            "colorbar": {
             "outlinewidth": 0,
             "ticks": ""
            },
            "colorscale": [
             [
              0,
              "#0d0887"
             ],
             [
              0.1111111111111111,
              "#46039f"
             ],
             [
              0.2222222222222222,
              "#7201a8"
             ],
             [
              0.3333333333333333,
              "#9c179e"
             ],
             [
              0.4444444444444444,
              "#bd3786"
             ],
             [
              0.5555555555555556,
              "#d8576b"
             ],
             [
              0.6666666666666666,
              "#ed7953"
             ],
             [
              0.7777777777777778,
              "#fb9f3a"
             ],
             [
              0.8888888888888888,
              "#fdca26"
             ],
             [
              1,
              "#f0f921"
             ]
            ],
            "type": "contour"
           }
          ],
          "contourcarpet": [
           {
            "colorbar": {
             "outlinewidth": 0,
             "ticks": ""
            },
            "type": "contourcarpet"
           }
          ],
          "heatmap": [
           {
            "colorbar": {
             "outlinewidth": 0,
             "ticks": ""
            },
            "colorscale": [
             [
              0,
              "#0d0887"
             ],
             [
              0.1111111111111111,
              "#46039f"
             ],
             [
              0.2222222222222222,
              "#7201a8"
             ],
             [
              0.3333333333333333,
              "#9c179e"
             ],
             [
              0.4444444444444444,
              "#bd3786"
             ],
             [
              0.5555555555555556,
              "#d8576b"
             ],
             [
              0.6666666666666666,
              "#ed7953"
             ],
             [
              0.7777777777777778,
              "#fb9f3a"
             ],
             [
              0.8888888888888888,
              "#fdca26"
             ],
             [
              1,
              "#f0f921"
             ]
            ],
            "type": "heatmap"
           }
          ],
          "heatmapgl": [
           {
            "colorbar": {
             "outlinewidth": 0,
             "ticks": ""
            },
            "colorscale": [
             [
              0,
              "#0d0887"
             ],
             [
              0.1111111111111111,
              "#46039f"
             ],
             [
              0.2222222222222222,
              "#7201a8"
             ],
             [
              0.3333333333333333,
              "#9c179e"
             ],
             [
              0.4444444444444444,
              "#bd3786"
             ],
             [
              0.5555555555555556,
              "#d8576b"
             ],
             [
              0.6666666666666666,
              "#ed7953"
             ],
             [
              0.7777777777777778,
              "#fb9f3a"
             ],
             [
              0.8888888888888888,
              "#fdca26"
             ],
             [
              1,
              "#f0f921"
             ]
            ],
            "type": "heatmapgl"
           }
          ],
          "histogram": [
           {
            "marker": {
             "colorbar": {
              "outlinewidth": 0,
              "ticks": ""
             }
            },
            "type": "histogram"
           }
          ],
          "histogram2d": [
           {
            "colorbar": {
             "outlinewidth": 0,
             "ticks": ""
            },
            "colorscale": [
             [
              0,
              "#0d0887"
             ],
             [
              0.1111111111111111,
              "#46039f"
             ],
             [
              0.2222222222222222,
              "#7201a8"
             ],
             [
              0.3333333333333333,
              "#9c179e"
             ],
             [
              0.4444444444444444,
              "#bd3786"
             ],
             [
              0.5555555555555556,
              "#d8576b"
             ],
             [
              0.6666666666666666,
              "#ed7953"
             ],
             [
              0.7777777777777778,
              "#fb9f3a"
             ],
             [
              0.8888888888888888,
              "#fdca26"
             ],
             [
              1,
              "#f0f921"
             ]
            ],
            "type": "histogram2d"
           }
          ],
          "histogram2dcontour": [
           {
            "colorbar": {
             "outlinewidth": 0,
             "ticks": ""
            },
            "colorscale": [
             [
              0,
              "#0d0887"
             ],
             [
              0.1111111111111111,
              "#46039f"
             ],
             [
              0.2222222222222222,
              "#7201a8"
             ],
             [
              0.3333333333333333,
              "#9c179e"
             ],
             [
              0.4444444444444444,
              "#bd3786"
             ],
             [
              0.5555555555555556,
              "#d8576b"
             ],
             [
              0.6666666666666666,
              "#ed7953"
             ],
             [
              0.7777777777777778,
              "#fb9f3a"
             ],
             [
              0.8888888888888888,
              "#fdca26"
             ],
             [
              1,
              "#f0f921"
             ]
            ],
            "type": "histogram2dcontour"
           }
          ],
          "mesh3d": [
           {
            "colorbar": {
             "outlinewidth": 0,
             "ticks": ""
            },
            "type": "mesh3d"
           }
          ],
          "parcoords": [
           {
            "line": {
             "colorbar": {
              "outlinewidth": 0,
              "ticks": ""
             }
            },
            "type": "parcoords"
           }
          ],
          "pie": [
           {
            "automargin": true,
            "type": "pie"
           }
          ],
          "scatter": [
           {
            "marker": {
             "colorbar": {
              "outlinewidth": 0,
              "ticks": ""
             }
            },
            "type": "scatter"
           }
          ],
          "scatter3d": [
           {
            "line": {
             "colorbar": {
              "outlinewidth": 0,
              "ticks": ""
             }
            },
            "marker": {
             "colorbar": {
              "outlinewidth": 0,
              "ticks": ""
             }
            },
            "type": "scatter3d"
           }
          ],
          "scattercarpet": [
           {
            "marker": {
             "colorbar": {
              "outlinewidth": 0,
              "ticks": ""
             }
            },
            "type": "scattercarpet"
           }
          ],
          "scattergeo": [
           {
            "marker": {
             "colorbar": {
              "outlinewidth": 0,
              "ticks": ""
             }
            },
            "type": "scattergeo"
           }
          ],
          "scattergl": [
           {
            "marker": {
             "colorbar": {
              "outlinewidth": 0,
              "ticks": ""
             }
            },
            "type": "scattergl"
           }
          ],
          "scattermapbox": [
           {
            "marker": {
             "colorbar": {
              "outlinewidth": 0,
              "ticks": ""
             }
            },
            "type": "scattermapbox"
           }
          ],
          "scatterpolar": [
           {
            "marker": {
             "colorbar": {
              "outlinewidth": 0,
              "ticks": ""
             }
            },
            "type": "scatterpolar"
           }
          ],
          "scatterpolargl": [
           {
            "marker": {
             "colorbar": {
              "outlinewidth": 0,
              "ticks": ""
             }
            },
            "type": "scatterpolargl"
           }
          ],
          "scatterternary": [
           {
            "marker": {
             "colorbar": {
              "outlinewidth": 0,
              "ticks": ""
             }
            },
            "type": "scatterternary"
           }
          ],
          "surface": [
           {
            "colorbar": {
             "outlinewidth": 0,
             "ticks": ""
            },
            "colorscale": [
             [
              0,
              "#0d0887"
             ],
             [
              0.1111111111111111,
              "#46039f"
             ],
             [
              0.2222222222222222,
              "#7201a8"
             ],
             [
              0.3333333333333333,
              "#9c179e"
             ],
             [
              0.4444444444444444,
              "#bd3786"
             ],
             [
              0.5555555555555556,
              "#d8576b"
             ],
             [
              0.6666666666666666,
              "#ed7953"
             ],
             [
              0.7777777777777778,
              "#fb9f3a"
             ],
             [
              0.8888888888888888,
              "#fdca26"
             ],
             [
              1,
              "#f0f921"
             ]
            ],
            "type": "surface"
           }
          ],
          "table": [
           {
            "cells": {
             "fill": {
              "color": "#EBF0F8"
             },
             "line": {
              "color": "white"
             }
            },
            "header": {
             "fill": {
              "color": "#C8D4E3"
             },
             "line": {
              "color": "white"
             }
            },
            "type": "table"
           }
          ]
         },
         "layout": {
          "annotationdefaults": {
           "arrowcolor": "#2a3f5f",
           "arrowhead": 0,
           "arrowwidth": 1
          },
          "coloraxis": {
           "colorbar": {
            "outlinewidth": 0,
            "ticks": ""
           }
          },
          "colorscale": {
           "diverging": [
            [
             0,
             "#8e0152"
            ],
            [
             0.1,
             "#c51b7d"
            ],
            [
             0.2,
             "#de77ae"
            ],
            [
             0.3,
             "#f1b6da"
            ],
            [
             0.4,
             "#fde0ef"
            ],
            [
             0.5,
             "#f7f7f7"
            ],
            [
             0.6,
             "#e6f5d0"
            ],
            [
             0.7,
             "#b8e186"
            ],
            [
             0.8,
             "#7fbc41"
            ],
            [
             0.9,
             "#4d9221"
            ],
            [
             1,
             "#276419"
            ]
           ],
           "sequential": [
            [
             0,
             "#0d0887"
            ],
            [
             0.1111111111111111,
             "#46039f"
            ],
            [
             0.2222222222222222,
             "#7201a8"
            ],
            [
             0.3333333333333333,
             "#9c179e"
            ],
            [
             0.4444444444444444,
             "#bd3786"
            ],
            [
             0.5555555555555556,
             "#d8576b"
            ],
            [
             0.6666666666666666,
             "#ed7953"
            ],
            [
             0.7777777777777778,
             "#fb9f3a"
            ],
            [
             0.8888888888888888,
             "#fdca26"
            ],
            [
             1,
             "#f0f921"
            ]
           ],
           "sequentialminus": [
            [
             0,
             "#0d0887"
            ],
            [
             0.1111111111111111,
             "#46039f"
            ],
            [
             0.2222222222222222,
             "#7201a8"
            ],
            [
             0.3333333333333333,
             "#9c179e"
            ],
            [
             0.4444444444444444,
             "#bd3786"
            ],
            [
             0.5555555555555556,
             "#d8576b"
            ],
            [
             0.6666666666666666,
             "#ed7953"
            ],
            [
             0.7777777777777778,
             "#fb9f3a"
            ],
            [
             0.8888888888888888,
             "#fdca26"
            ],
            [
             1,
             "#f0f921"
            ]
           ]
          },
          "colorway": [
           "#636efa",
           "#EF553B",
           "#00cc96",
           "#ab63fa",
           "#FFA15A",
           "#19d3f3",
           "#FF6692",
           "#B6E880",
           "#FF97FF",
           "#FECB52"
          ],
          "font": {
           "color": "#2a3f5f"
          },
          "geo": {
           "bgcolor": "white",
           "lakecolor": "white",
           "landcolor": "#E5ECF6",
           "showlakes": true,
           "showland": true,
           "subunitcolor": "white"
          },
          "hoverlabel": {
           "align": "left"
          },
          "hovermode": "closest",
          "mapbox": {
           "style": "light"
          },
          "paper_bgcolor": "white",
          "plot_bgcolor": "#E5ECF6",
          "polar": {
           "angularaxis": {
            "gridcolor": "white",
            "linecolor": "white",
            "ticks": ""
           },
           "bgcolor": "#E5ECF6",
           "radialaxis": {
            "gridcolor": "white",
            "linecolor": "white",
            "ticks": ""
           }
          },
          "scene": {
           "xaxis": {
            "backgroundcolor": "#E5ECF6",
            "gridcolor": "white",
            "gridwidth": 2,
            "linecolor": "white",
            "showbackground": true,
            "ticks": "",
            "zerolinecolor": "white"
           },
           "yaxis": {
            "backgroundcolor": "#E5ECF6",
            "gridcolor": "white",
            "gridwidth": 2,
            "linecolor": "white",
            "showbackground": true,
            "ticks": "",
            "zerolinecolor": "white"
           },
           "zaxis": {
            "backgroundcolor": "#E5ECF6",
            "gridcolor": "white",
            "gridwidth": 2,
            "linecolor": "white",
            "showbackground": true,
            "ticks": "",
            "zerolinecolor": "white"
           }
          },
          "shapedefaults": {
           "line": {
            "color": "#2a3f5f"
           }
          },
          "ternary": {
           "aaxis": {
            "gridcolor": "white",
            "linecolor": "white",
            "ticks": ""
           },
           "baxis": {
            "gridcolor": "white",
            "linecolor": "white",
            "ticks": ""
           },
           "bgcolor": "#E5ECF6",
           "caxis": {
            "gridcolor": "white",
            "linecolor": "white",
            "ticks": ""
           }
          },
          "title": {
           "x": 0.05
          },
          "xaxis": {
           "automargin": true,
           "gridcolor": "white",
           "linecolor": "white",
           "ticks": "",
           "title": {
            "standoff": 15
           },
           "zerolinecolor": "white",
           "zerolinewidth": 2
          },
          "yaxis": {
           "automargin": true,
           "gridcolor": "white",
           "linecolor": "white",
           "ticks": "",
           "title": {
            "standoff": 15
           },
           "zerolinecolor": "white",
           "zerolinewidth": 2
          }
         }
        },
        "title": {
         "text": "Closing Values during COVID-19"
        },
        "xaxis": {
         "anchor": "y",
         "domain": [
          0,
          0.94
         ],
         "rangeslider": {
          "visible": true
         },
         "title": {
          "text": "Date"
         }
        },
        "yaxis": {
         "anchor": "x",
         "domain": [
          0,
          1
         ],
         "title": {
          "text": "# of Cases"
         }
        },
        "yaxis2": {
         "anchor": "x",
         "overlaying": "y",
         "side": "right",
         "title": {
          "text": "Stock Price"
         }
        }
       }
      }
     },
     "metadata": {}
    }
   ],
   "source": [
    "fig = make_subplots(specs=[[{\"secondary_y\": True}]])\n",
    "\n",
    "# total cases\n",
    "fig.add_trace(go.Scatter(x=df_states_daily['dateChecked'], y=df_states_daily['totalTestResults'],\n",
    "                    mode='lines',\n",
    "                    name='Total Tests'),\n",
    "             secondary_y=False,)\n",
    "# HOLX price \n",
    "fig.add_trace(go.Scatter(x=df_HOLX.index, y=df_HOLX['Close'],\n",
    "                    mode='lines',\n",
    "                    name='$HOLX'),\n",
    "             secondary_y=True,)\n",
    "\n",
    "\n",
    "# RHHBY Price\n",
    "fig.add_trace(go.Scatter(x=df_RHHBY.index, y=df_RHHBY['Close'],\n",
    "                    mode='lines',\n",
    "                    name='$RHHBY'),\n",
    "             secondary_y=True,)\n",
    "\n",
    "# fig.add_trace(go.Scatter(x=df_TMO.index, y=df_TMO['Close'],\n",
    "#                     mode='lines',\n",
    "#                     name='$TMO'),\n",
    "#              secondary_y=True,)\n",
    "\n",
    "# fig.add_trace(go.Scatter(x=df_LH.index, y=df_LH['Close'],\n",
    "#                     mode='lines',\n",
    "#                     name='$LH'),\n",
    "#              secondary_y=True,)\n",
    "# fig.add_trace(go.Scatter(x=df_ABT.index, y=df_ABT['Close'],\n",
    "#                     mode='lines',\n",
    "#                     name='$ABT'),\n",
    "#              secondary_y=True,)\n",
    "\n",
    "# creat market crash line \n",
    "fig.update_layout(\n",
    "    title_text=\"Closing Values during COVID-19\",\n",
    "    showlegend=True,\n",
    "    shapes = [dict(\n",
    "        x0='2020-03-23', x1='2020-03-23', y0=0, y1=1, xref='x', yref='paper',\n",
    "        line_width=2)],\n",
    "    annotations=[dict(\n",
    "        x='2020-03-23', y=0.05, xref='x', yref='paper',\n",
    "        showarrow=False, arrowhead=7, xanchor='left',yanchor=\"middle\", text='March 23rd Stock Market Crash')]\n",
    ")\n",
    "# update labels \n",
    "fig.update_xaxes(title_text=\"Date\", rangeslider_visible=True)\n",
    "fig.update_yaxes(title_text=\"# of Cases\", secondary_y=False)\n",
    "fig.update_yaxes(title_text=\"Stock Price\", secondary_y=True)\n",
    "\n",
    "\n",
    "\n",
    "fig.show()"
   ]
  },
  {
   "cell_type": "code",
   "execution_count": 39,
   "metadata": {},
   "outputs": [
    {
     "output_type": "display_data",
     "data": {
      "application/vnd.plotly.v1+json": {
       "config": {
        "plotlyServerURL": "https://plot.ly"
       },
       "data": [
        {
         "mode": "lines",
         "name": "Tested",
         "type": "scatter",
         "x": [
          "2020-05-03T20:00:00",
          "2020-05-02T20:00:00",
          "2020-05-01T20:00:00",
          "2020-04-30T20:00:00",
          "2020-04-29T20:00:00",
          "2020-04-28T20:00:00",
          "2020-04-27T20:00:00",
          "2020-04-26T20:00:00",
          "2020-04-25T20:00:00",
          "2020-04-24T20:00:00",
          "2020-04-23T20:00:00",
          "2020-04-22T20:00:00",
          "2020-04-21T20:00:00",
          "2020-04-20T20:00:00",
          "2020-04-19T20:00:00",
          "2020-04-18T20:00:00",
          "2020-04-17T20:00:00",
          "2020-04-16T20:00:00",
          "2020-04-15T20:00:00",
          "2020-04-14T20:00:00",
          "2020-04-13T20:00:00",
          "2020-04-12T20:00:00",
          "2020-04-11T20:00:00",
          "2020-04-10T20:00:00",
          "2020-04-09T20:00:00",
          "2020-04-08T20:00:00",
          "2020-04-07T20:00:00",
          "2020-04-06T20:00:00",
          "2020-04-05T20:00:00",
          "2020-04-04T20:00:00",
          "2020-04-03T20:00:00",
          "2020-04-02T20:00:00",
          "2020-04-01T20:00:00",
          "2020-03-31T20:00:00",
          "2020-03-30T20:00:00",
          "2020-03-29T20:00:00",
          "2020-03-28T20:00:00",
          "2020-03-27T20:00:00",
          "2020-03-26T20:00:00",
          "2020-03-25T20:00:00",
          "2020-03-24T20:00:00",
          "2020-03-23T20:00:00",
          "2020-03-22T20:00:00",
          "2020-03-21T20:00:00",
          "2020-03-20T20:00:00",
          "2020-03-19T20:00:00",
          "2020-03-18T20:00:00",
          "2020-03-17T20:00:00",
          "2020-03-16T20:00:00",
          "2020-03-15T20:00:00",
          "2020-03-14T20:00:00",
          "2020-03-13T20:00:00",
          "2020-03-12T20:00:00",
          "2020-03-11T20:00:00",
          "2020-03-10T20:00:00",
          "2020-03-09T20:00:00",
          "2020-03-08T20:00:00",
          "2020-03-07T21:00:00",
          "2020-03-06T21:00:00",
          "2020-03-05T21:00:00",
          "2020-03-04T21:00:00",
          "2020-03-03T21:00:00",
          "2020-03-02T21:00:00",
          "2020-03-01T21:00:00",
          "2020-02-29T21:00:00",
          "2020-02-28T21:00:00",
          "2020-02-27T21:00:00",
          "2020-02-26T21:00:00",
          "2020-02-25T21:00:00",
          "2020-02-24T21:00:00",
          "2020-02-23T21:00:00",
          "2020-02-22T21:00:00",
          "2020-02-21T21:00:00",
          "2020-02-20T21:00:00",
          "2020-02-19T21:00:00",
          "2020-02-18T21:00:00",
          "2020-02-17T21:00:00",
          "2020-02-16T21:00:00",
          "2020-02-15T21:00:00",
          "2020-02-14T21:00:00",
          "2020-02-13T21:00:00",
          "2020-02-12T21:00:00",
          "2020-02-11T21:00:00",
          "2020-02-10T21:00:00",
          "2020-02-09T21:00:00",
          "2020-02-08T21:00:00",
          "2020-02-07T21:00:00",
          "2020-02-06T21:00:00",
          "2020-02-05T21:00:00",
          "2020-02-04T21:00:00",
          "2020-02-03T21:00:00",
          "2020-02-02T21:00:00",
          "2020-02-01T21:00:00",
          "2020-01-31T21:00:00",
          "2020-01-30T21:00:00",
          "2020-01-29T21:00:00",
          "2020-01-28T21:00:00",
          "2020-01-27T21:00:00",
          "2020-01-26T21:00:00",
          "2020-01-25T21:00:00",
          "2020-01-24T21:00:00",
          "2020-01-23T21:00:00",
          "2020-01-22T21:00:00"
         ],
         "xaxis": "x",
         "y": [
          7053366,
          6816347,
          6551810,
          6246692,
          6026170,
          5795728,
          5593495,
          5403052,
          5196649,
          4925393,
          4693574,
          4501795,
          4186974,
          4038895,
          3891383,
          3724925,
          3582610,
          3424690,
          3262564,
          3125731,
          2975315,
          2842322,
          2700554,
          2562007,
          2404262,
          2238429,
          2093996,
          1941251,
          1790521,
          1670862,
          1442065,
          1309833,
          1191810,
          1084228,
          973134,
          855684,
          766904,
          662538,
          559468,
          459004,
          375517,
          306904,
          249769,
          205172,
          160419,
          124258,
          96858,
          72219,
          56610,
          38949,
          31291,
          26773,
          17717,
          12580,
          8832,
          6420,
          4624,
          3753,
          2983,
          2188,
          1597,
          527,
          282,
          121,
          41,
          9,
          2,
          2,
          2,
          2,
          2,
          2,
          2,
          2,
          2,
          2,
          2,
          2,
          2,
          2,
          2,
          2,
          2,
          2,
          2,
          2,
          2,
          1,
          1,
          1,
          1,
          1,
          1,
          1,
          1,
          1,
          1,
          1,
          1,
          1,
          1,
          1,
          1
         ],
         "yaxis": "y"
        },
        {
         "mode": "lines",
         "name": "$LH",
         "type": "scatter",
         "x": [
          "2020-01-22T00:00:00",
          "2020-01-23T00:00:00",
          "2020-01-24T00:00:00",
          "2020-01-27T00:00:00",
          "2020-01-28T00:00:00",
          "2020-01-29T00:00:00",
          "2020-01-30T00:00:00",
          "2020-01-31T00:00:00",
          "2020-02-03T00:00:00",
          "2020-02-04T00:00:00",
          "2020-02-05T00:00:00",
          "2020-02-06T00:00:00",
          "2020-02-07T00:00:00",
          "2020-02-10T00:00:00",
          "2020-02-11T00:00:00",
          "2020-02-12T00:00:00",
          "2020-02-13T00:00:00",
          "2020-02-14T00:00:00",
          "2020-02-18T00:00:00",
          "2020-02-19T00:00:00",
          "2020-02-20T00:00:00",
          "2020-02-21T00:00:00",
          "2020-02-24T00:00:00",
          "2020-02-25T00:00:00",
          "2020-02-26T00:00:00",
          "2020-02-27T00:00:00",
          "2020-02-28T00:00:00",
          "2020-03-02T00:00:00",
          "2020-03-03T00:00:00",
          "2020-03-04T00:00:00",
          "2020-03-05T00:00:00",
          "2020-03-06T00:00:00",
          "2020-03-09T00:00:00",
          "2020-03-10T00:00:00",
          "2020-03-11T00:00:00",
          "2020-03-12T00:00:00",
          "2020-03-13T00:00:00",
          "2020-03-16T00:00:00",
          "2020-03-17T00:00:00",
          "2020-03-18T00:00:00",
          "2020-03-19T00:00:00",
          "2020-03-20T00:00:00",
          "2020-03-23T00:00:00",
          "2020-03-24T00:00:00",
          "2020-03-25T00:00:00",
          "2020-03-26T00:00:00",
          "2020-03-27T00:00:00",
          "2020-03-30T00:00:00",
          "2020-03-31T00:00:00",
          "2020-04-01T00:00:00",
          "2020-04-02T00:00:00",
          "2020-04-03T00:00:00",
          "2020-04-06T00:00:00",
          "2020-04-07T00:00:00",
          "2020-04-08T00:00:00",
          "2020-04-09T00:00:00",
          "2020-04-13T00:00:00",
          "2020-04-14T00:00:00",
          "2020-04-15T00:00:00",
          "2020-04-16T00:00:00",
          "2020-04-17T00:00:00",
          "2020-04-20T00:00:00",
          "2020-04-21T00:00:00",
          "2020-04-22T00:00:00",
          "2020-04-23T00:00:00",
          "2020-04-24T00:00:00",
          "2020-04-27T00:00:00",
          "2020-04-28T00:00:00",
          "2020-04-29T00:00:00",
          "2020-04-30T00:00:00",
          "2020-05-01T00:00:00"
         ],
         "xaxis": "x",
         "y": [
          179.56,
          179.77,
          177.18,
          177.49,
          180.58,
          179.98,
          179.04,
          175.4,
          178.58,
          182.51,
          184.32,
          183.88,
          182.33,
          183.57,
          186.12,
          187.51,
          194.73,
          195.28,
          190.94,
          189.9,
          188.81,
          189.56,
          187.55,
          184.51,
          183.6,
          182.59,
          175.69,
          187.96,
          181.04,
          191.23,
          187.03,
          179.71,
          176.09,
          170.71,
          158.99,
          136.89,
          151.02,
          121.91,
          124.43,
          107.76,
          114.51,
          107.24,
          104.32,
          117.77,
          122.82,
          137.05,
          128.71,
          131.95,
          126.39,
          116.17,
          116.01,
          113.31,
          126.41,
          133.45,
          141.16,
          146.8,
          140.45,
          144.68,
          141.48,
          138.53,
          148.52,
          145.61,
          148.18,
          154.13,
          159.67,
          163.72,
          178.49,
          175.96,
          173.48,
          164.45,
          159.03
         ],
         "yaxis": "y2"
        },
        {
         "mode": "lines",
         "name": "$ABT",
         "type": "scatter",
         "x": [
          "2020-01-22T00:00:00",
          "2020-01-23T00:00:00",
          "2020-01-24T00:00:00",
          "2020-01-27T00:00:00",
          "2020-01-28T00:00:00",
          "2020-01-29T00:00:00",
          "2020-01-30T00:00:00",
          "2020-01-31T00:00:00",
          "2020-02-03T00:00:00",
          "2020-02-04T00:00:00",
          "2020-02-05T00:00:00",
          "2020-02-06T00:00:00",
          "2020-02-07T00:00:00",
          "2020-02-10T00:00:00",
          "2020-02-11T00:00:00",
          "2020-02-12T00:00:00",
          "2020-02-13T00:00:00",
          "2020-02-14T00:00:00",
          "2020-02-18T00:00:00",
          "2020-02-19T00:00:00",
          "2020-02-20T00:00:00",
          "2020-02-21T00:00:00",
          "2020-02-24T00:00:00",
          "2020-02-25T00:00:00",
          "2020-02-26T00:00:00",
          "2020-02-27T00:00:00",
          "2020-02-28T00:00:00",
          "2020-03-02T00:00:00",
          "2020-03-03T00:00:00",
          "2020-03-04T00:00:00",
          "2020-03-05T00:00:00",
          "2020-03-06T00:00:00",
          "2020-03-09T00:00:00",
          "2020-03-10T00:00:00",
          "2020-03-11T00:00:00",
          "2020-03-12T00:00:00",
          "2020-03-13T00:00:00",
          "2020-03-16T00:00:00",
          "2020-03-17T00:00:00",
          "2020-03-18T00:00:00",
          "2020-03-19T00:00:00",
          "2020-03-20T00:00:00",
          "2020-03-23T00:00:00",
          "2020-03-24T00:00:00",
          "2020-03-25T00:00:00",
          "2020-03-26T00:00:00",
          "2020-03-27T00:00:00",
          "2020-03-30T00:00:00",
          "2020-03-31T00:00:00",
          "2020-04-01T00:00:00",
          "2020-04-02T00:00:00",
          "2020-04-03T00:00:00",
          "2020-04-06T00:00:00",
          "2020-04-07T00:00:00",
          "2020-04-08T00:00:00",
          "2020-04-09T00:00:00",
          "2020-04-13T00:00:00",
          "2020-04-14T00:00:00",
          "2020-04-15T00:00:00",
          "2020-04-16T00:00:00",
          "2020-04-17T00:00:00",
          "2020-04-20T00:00:00",
          "2020-04-21T00:00:00",
          "2020-04-22T00:00:00",
          "2020-04-23T00:00:00",
          "2020-04-24T00:00:00",
          "2020-04-27T00:00:00",
          "2020-04-28T00:00:00",
          "2020-04-29T00:00:00",
          "2020-04-30T00:00:00",
          "2020-05-01T00:00:00"
         ],
         "xaxis": "x",
         "y": [
          91.47,
          90.35,
          90.02,
          89.21,
          89.16,
          88.77,
          88.79,
          86.77,
          86.69,
          87.86,
          89.18,
          89.09,
          87.5,
          87.93,
          88.8,
          88.42,
          88.31,
          89.28,
          88.51,
          88.99,
          88.09,
          87.08,
          84.28,
          80.79,
          81.02,
          78.86,
          76.71,
          81.27,
          77.66,
          81.75,
          80.18,
          81.4,
          76.7,
          80.54,
          77.76,
          74.43,
          81.31,
          73.35,
          79.16,
          78.93,
          74.19,
          67.71,
          62.56,
          69.4,
          70.45,
          75.49,
          74.25,
          79.01,
          78.58,
          76.25,
          79.11,
          79.12,
          82.38,
          81.59,
          84.59,
          85.68,
          85.49,
          89.14,
          90.94,
          96,
          96.01,
          98,
          94.05,
          95.48,
          93.94,
          94.06,
          94.95,
          91.46,
          92.28,
          92.09,
          89.85
         ],
         "yaxis": "y2"
        }
       ],
       "layout": {
        "annotations": [
         {
          "arrowhead": 7,
          "showarrow": false,
          "text": "March 23rd Stock Market Crash",
          "x": "2020-03-23",
          "xanchor": "left",
          "xref": "x",
          "y": 0.05,
          "yanchor": "middle",
          "yref": "paper"
         }
        ],
        "shapes": [
         {
          "line": {
           "width": 2
          },
          "x0": "2020-03-23",
          "x1": "2020-03-23",
          "xref": "x",
          "y0": 0,
          "y1": 1,
          "yref": "paper"
         }
        ],
        "showlegend": true,
        "template": {
         "data": {
          "bar": [
           {
            "error_x": {
             "color": "#2a3f5f"
            },
            "error_y": {
             "color": "#2a3f5f"
            },
            "marker": {
             "line": {
              "color": "#E5ECF6",
              "width": 0.5
             }
            },
            "type": "bar"
           }
          ],
          "barpolar": [
           {
            "marker": {
             "line": {
              "color": "#E5ECF6",
              "width": 0.5
             }
            },
            "type": "barpolar"
           }
          ],
          "carpet": [
           {
            "aaxis": {
             "endlinecolor": "#2a3f5f",
             "gridcolor": "white",
             "linecolor": "white",
             "minorgridcolor": "white",
             "startlinecolor": "#2a3f5f"
            },
            "baxis": {
             "endlinecolor": "#2a3f5f",
             "gridcolor": "white",
             "linecolor": "white",
             "minorgridcolor": "white",
             "startlinecolor": "#2a3f5f"
            },
            "type": "carpet"
           }
          ],
          "choropleth": [
           {
            "colorbar": {
             "outlinewidth": 0,
             "ticks": ""
            },
            "type": "choropleth"
           }
          ],
          "contour": [
           {
            "colorbar": {
             "outlinewidth": 0,
             "ticks": ""
            },
            "colorscale": [
             [
              0,
              "#0d0887"
             ],
             [
              0.1111111111111111,
              "#46039f"
             ],
             [
              0.2222222222222222,
              "#7201a8"
             ],
             [
              0.3333333333333333,
              "#9c179e"
             ],
             [
              0.4444444444444444,
              "#bd3786"
             ],
             [
              0.5555555555555556,
              "#d8576b"
             ],
             [
              0.6666666666666666,
              "#ed7953"
             ],
             [
              0.7777777777777778,
              "#fb9f3a"
             ],
             [
              0.8888888888888888,
              "#fdca26"
             ],
             [
              1,
              "#f0f921"
             ]
            ],
            "type": "contour"
           }
          ],
          "contourcarpet": [
           {
            "colorbar": {
             "outlinewidth": 0,
             "ticks": ""
            },
            "type": "contourcarpet"
           }
          ],
          "heatmap": [
           {
            "colorbar": {
             "outlinewidth": 0,
             "ticks": ""
            },
            "colorscale": [
             [
              0,
              "#0d0887"
             ],
             [
              0.1111111111111111,
              "#46039f"
             ],
             [
              0.2222222222222222,
              "#7201a8"
             ],
             [
              0.3333333333333333,
              "#9c179e"
             ],
             [
              0.4444444444444444,
              "#bd3786"
             ],
             [
              0.5555555555555556,
              "#d8576b"
             ],
             [
              0.6666666666666666,
              "#ed7953"
             ],
             [
              0.7777777777777778,
              "#fb9f3a"
             ],
             [
              0.8888888888888888,
              "#fdca26"
             ],
             [
              1,
              "#f0f921"
             ]
            ],
            "type": "heatmap"
           }
          ],
          "heatmapgl": [
           {
            "colorbar": {
             "outlinewidth": 0,
             "ticks": ""
            },
            "colorscale": [
             [
              0,
              "#0d0887"
             ],
             [
              0.1111111111111111,
              "#46039f"
             ],
             [
              0.2222222222222222,
              "#7201a8"
             ],
             [
              0.3333333333333333,
              "#9c179e"
             ],
             [
              0.4444444444444444,
              "#bd3786"
             ],
             [
              0.5555555555555556,
              "#d8576b"
             ],
             [
              0.6666666666666666,
              "#ed7953"
             ],
             [
              0.7777777777777778,
              "#fb9f3a"
             ],
             [
              0.8888888888888888,
              "#fdca26"
             ],
             [
              1,
              "#f0f921"
             ]
            ],
            "type": "heatmapgl"
           }
          ],
          "histogram": [
           {
            "marker": {
             "colorbar": {
              "outlinewidth": 0,
              "ticks": ""
             }
            },
            "type": "histogram"
           }
          ],
          "histogram2d": [
           {
            "colorbar": {
             "outlinewidth": 0,
             "ticks": ""
            },
            "colorscale": [
             [
              0,
              "#0d0887"
             ],
             [
              0.1111111111111111,
              "#46039f"
             ],
             [
              0.2222222222222222,
              "#7201a8"
             ],
             [
              0.3333333333333333,
              "#9c179e"
             ],
             [
              0.4444444444444444,
              "#bd3786"
             ],
             [
              0.5555555555555556,
              "#d8576b"
             ],
             [
              0.6666666666666666,
              "#ed7953"
             ],
             [
              0.7777777777777778,
              "#fb9f3a"
             ],
             [
              0.8888888888888888,
              "#fdca26"
             ],
             [
              1,
              "#f0f921"
             ]
            ],
            "type": "histogram2d"
           }
          ],
          "histogram2dcontour": [
           {
            "colorbar": {
             "outlinewidth": 0,
             "ticks": ""
            },
            "colorscale": [
             [
              0,
              "#0d0887"
             ],
             [
              0.1111111111111111,
              "#46039f"
             ],
             [
              0.2222222222222222,
              "#7201a8"
             ],
             [
              0.3333333333333333,
              "#9c179e"
             ],
             [
              0.4444444444444444,
              "#bd3786"
             ],
             [
              0.5555555555555556,
              "#d8576b"
             ],
             [
              0.6666666666666666,
              "#ed7953"
             ],
             [
              0.7777777777777778,
              "#fb9f3a"
             ],
             [
              0.8888888888888888,
              "#fdca26"
             ],
             [
              1,
              "#f0f921"
             ]
            ],
            "type": "histogram2dcontour"
           }
          ],
          "mesh3d": [
           {
            "colorbar": {
             "outlinewidth": 0,
             "ticks": ""
            },
            "type": "mesh3d"
           }
          ],
          "parcoords": [
           {
            "line": {
             "colorbar": {
              "outlinewidth": 0,
              "ticks": ""
             }
            },
            "type": "parcoords"
           }
          ],
          "pie": [
           {
            "automargin": true,
            "type": "pie"
           }
          ],
          "scatter": [
           {
            "marker": {
             "colorbar": {
              "outlinewidth": 0,
              "ticks": ""
             }
            },
            "type": "scatter"
           }
          ],
          "scatter3d": [
           {
            "line": {
             "colorbar": {
              "outlinewidth": 0,
              "ticks": ""
             }
            },
            "marker": {
             "colorbar": {
              "outlinewidth": 0,
              "ticks": ""
             }
            },
            "type": "scatter3d"
           }
          ],
          "scattercarpet": [
           {
            "marker": {
             "colorbar": {
              "outlinewidth": 0,
              "ticks": ""
             }
            },
            "type": "scattercarpet"
           }
          ],
          "scattergeo": [
           {
            "marker": {
             "colorbar": {
              "outlinewidth": 0,
              "ticks": ""
             }
            },
            "type": "scattergeo"
           }
          ],
          "scattergl": [
           {
            "marker": {
             "colorbar": {
              "outlinewidth": 0,
              "ticks": ""
             }
            },
            "type": "scattergl"
           }
          ],
          "scattermapbox": [
           {
            "marker": {
             "colorbar": {
              "outlinewidth": 0,
              "ticks": ""
             }
            },
            "type": "scattermapbox"
           }
          ],
          "scatterpolar": [
           {
            "marker": {
             "colorbar": {
              "outlinewidth": 0,
              "ticks": ""
             }
            },
            "type": "scatterpolar"
           }
          ],
          "scatterpolargl": [
           {
            "marker": {
             "colorbar": {
              "outlinewidth": 0,
              "ticks": ""
             }
            },
            "type": "scatterpolargl"
           }
          ],
          "scatterternary": [
           {
            "marker": {
             "colorbar": {
              "outlinewidth": 0,
              "ticks": ""
             }
            },
            "type": "scatterternary"
           }
          ],
          "surface": [
           {
            "colorbar": {
             "outlinewidth": 0,
             "ticks": ""
            },
            "colorscale": [
             [
              0,
              "#0d0887"
             ],
             [
              0.1111111111111111,
              "#46039f"
             ],
             [
              0.2222222222222222,
              "#7201a8"
             ],
             [
              0.3333333333333333,
              "#9c179e"
             ],
             [
              0.4444444444444444,
              "#bd3786"
             ],
             [
              0.5555555555555556,
              "#d8576b"
             ],
             [
              0.6666666666666666,
              "#ed7953"
             ],
             [
              0.7777777777777778,
              "#fb9f3a"
             ],
             [
              0.8888888888888888,
              "#fdca26"
             ],
             [
              1,
              "#f0f921"
             ]
            ],
            "type": "surface"
           }
          ],
          "table": [
           {
            "cells": {
             "fill": {
              "color": "#EBF0F8"
             },
             "line": {
              "color": "white"
             }
            },
            "header": {
             "fill": {
              "color": "#C8D4E3"
             },
             "line": {
              "color": "white"
             }
            },
            "type": "table"
           }
          ]
         },
         "layout": {
          "annotationdefaults": {
           "arrowcolor": "#2a3f5f",
           "arrowhead": 0,
           "arrowwidth": 1
          },
          "coloraxis": {
           "colorbar": {
            "outlinewidth": 0,
            "ticks": ""
           }
          },
          "colorscale": {
           "diverging": [
            [
             0,
             "#8e0152"
            ],
            [
             0.1,
             "#c51b7d"
            ],
            [
             0.2,
             "#de77ae"
            ],
            [
             0.3,
             "#f1b6da"
            ],
            [
             0.4,
             "#fde0ef"
            ],
            [
             0.5,
             "#f7f7f7"
            ],
            [
             0.6,
             "#e6f5d0"
            ],
            [
             0.7,
             "#b8e186"
            ],
            [
             0.8,
             "#7fbc41"
            ],
            [
             0.9,
             "#4d9221"
            ],
            [
             1,
             "#276419"
            ]
           ],
           "sequential": [
            [
             0,
             "#0d0887"
            ],
            [
             0.1111111111111111,
             "#46039f"
            ],
            [
             0.2222222222222222,
             "#7201a8"
            ],
            [
             0.3333333333333333,
             "#9c179e"
            ],
            [
             0.4444444444444444,
             "#bd3786"
            ],
            [
             0.5555555555555556,
             "#d8576b"
            ],
            [
             0.6666666666666666,
             "#ed7953"
            ],
            [
             0.7777777777777778,
             "#fb9f3a"
            ],
            [
             0.8888888888888888,
             "#fdca26"
            ],
            [
             1,
             "#f0f921"
            ]
           ],
           "sequentialminus": [
            [
             0,
             "#0d0887"
            ],
            [
             0.1111111111111111,
             "#46039f"
            ],
            [
             0.2222222222222222,
             "#7201a8"
            ],
            [
             0.3333333333333333,
             "#9c179e"
            ],
            [
             0.4444444444444444,
             "#bd3786"
            ],
            [
             0.5555555555555556,
             "#d8576b"
            ],
            [
             0.6666666666666666,
             "#ed7953"
            ],
            [
             0.7777777777777778,
             "#fb9f3a"
            ],
            [
             0.8888888888888888,
             "#fdca26"
            ],
            [
             1,
             "#f0f921"
            ]
           ]
          },
          "colorway": [
           "#636efa",
           "#EF553B",
           "#00cc96",
           "#ab63fa",
           "#FFA15A",
           "#19d3f3",
           "#FF6692",
           "#B6E880",
           "#FF97FF",
           "#FECB52"
          ],
          "font": {
           "color": "#2a3f5f"
          },
          "geo": {
           "bgcolor": "white",
           "lakecolor": "white",
           "landcolor": "#E5ECF6",
           "showlakes": true,
           "showland": true,
           "subunitcolor": "white"
          },
          "hoverlabel": {
           "align": "left"
          },
          "hovermode": "closest",
          "mapbox": {
           "style": "light"
          },
          "paper_bgcolor": "white",
          "plot_bgcolor": "#E5ECF6",
          "polar": {
           "angularaxis": {
            "gridcolor": "white",
            "linecolor": "white",
            "ticks": ""
           },
           "bgcolor": "#E5ECF6",
           "radialaxis": {
            "gridcolor": "white",
            "linecolor": "white",
            "ticks": ""
           }
          },
          "scene": {
           "xaxis": {
            "backgroundcolor": "#E5ECF6",
            "gridcolor": "white",
            "gridwidth": 2,
            "linecolor": "white",
            "showbackground": true,
            "ticks": "",
            "zerolinecolor": "white"
           },
           "yaxis": {
            "backgroundcolor": "#E5ECF6",
            "gridcolor": "white",
            "gridwidth": 2,
            "linecolor": "white",
            "showbackground": true,
            "ticks": "",
            "zerolinecolor": "white"
           },
           "zaxis": {
            "backgroundcolor": "#E5ECF6",
            "gridcolor": "white",
            "gridwidth": 2,
            "linecolor": "white",
            "showbackground": true,
            "ticks": "",
            "zerolinecolor": "white"
           }
          },
          "shapedefaults": {
           "line": {
            "color": "#2a3f5f"
           }
          },
          "ternary": {
           "aaxis": {
            "gridcolor": "white",
            "linecolor": "white",
            "ticks": ""
           },
           "baxis": {
            "gridcolor": "white",
            "linecolor": "white",
            "ticks": ""
           },
           "bgcolor": "#E5ECF6",
           "caxis": {
            "gridcolor": "white",
            "linecolor": "white",
            "ticks": ""
           }
          },
          "title": {
           "x": 0.05
          },
          "xaxis": {
           "automargin": true,
           "gridcolor": "white",
           "linecolor": "white",
           "ticks": "",
           "title": {
            "standoff": 15
           },
           "zerolinecolor": "white",
           "zerolinewidth": 2
          },
          "yaxis": {
           "automargin": true,
           "gridcolor": "white",
           "linecolor": "white",
           "ticks": "",
           "title": {
            "standoff": 15
           },
           "zerolinecolor": "white",
           "zerolinewidth": 2
          }
         }
        },
        "title": {
         "text": "Closing Values during COVID-19"
        },
        "xaxis": {
         "anchor": "y",
         "domain": [
          0,
          0.94
         ],
         "rangeslider": {
          "visible": true
         },
         "title": {
          "text": "Date"
         }
        },
        "yaxis": {
         "anchor": "x",
         "domain": [
          0,
          1
         ],
         "title": {
          "text": "Cases"
         }
        },
        "yaxis2": {
         "anchor": "x",
         "overlaying": "y",
         "side": "right",
         "title": {
          "text": "Price"
         }
        }
       }
      }
     },
     "metadata": {}
    }
   ],
   "source": [
    "fighigh = make_subplots(specs=[[{\"secondary_y\": True}]])\n",
    "\n",
    "# Total tested cases\n",
    "fighigh.add_trace(go.Scatter(x=df_states_daily['dateChecked'], y=df_states_daily['totalTestResults'],\n",
    "                    mode='lines',\n",
    "                    name='Tested'),\n",
    "             secondary_y=False,)\n",
    "\n",
    "# fighigh.add_trace(go.Scatter(x=df_TMO.index, y=df_TMO['Close'],\n",
    "#                     mode='lines',\n",
    "#                     name='$TMO'),\n",
    "#              secondary_y=True,)\n",
    "\n",
    "fighigh.add_trace(go.Scatter(x=df_LH.index, y=df_LH['Close'],\n",
    "                    mode='lines',\n",
    "                    name='$LH'),\n",
    "             secondary_y=True,)\n",
    "fighigh.add_trace(go.Scatter(x=df_ABT.index, y=df_ABT['Close'],\n",
    "                    mode='lines',\n",
    "                    name='$ABT'),\n",
    "             secondary_y=True,)\n",
    "\n",
    "\n",
    "# Add figure title\n",
    "fighigh.update_layout(\n",
    "    title_text=\"Closing Values during COVID-19\",\n",
    "    showlegend=True,\n",
    "    shapes = [dict(\n",
    "        x0='2020-03-23', x1='2020-03-23', y0=0, y1=1, xref='x', yref='paper',\n",
    "        line_width=2)],\n",
    "    annotations=[dict(\n",
    "        x='2020-03-23', y=0.05, xref='x', yref='paper',\n",
    "        showarrow=False, arrowhead=7, xanchor='left',yanchor=\"middle\", text='March 23rd Stock Market Crash')]\n",
    ")\n",
    "\n",
    "# Set x-axis title\n",
    "fighigh.update_xaxes(title_text=\"Date\")\n",
    "\n",
    "# Set y-axes titles\n",
    "fighigh.update_yaxes(title_text=\"Cases\", secondary_y=False)\n",
    "fighigh.update_yaxes(title_text=\"Price\", secondary_y=True)\n",
    "fighigh.update_xaxes(rangeslider_visible=True)\n",
    "\n",
    "\n",
    "\n",
    "fighigh.show()"
   ]
  }
 ],
 "metadata": {
  "kernelspec": {
   "display_name": "Python 3.7.6 64-bit",
   "language": "python",
   "name": "python37664bit193c6a535f9d4d8db4435ea0ca0833da"
  },
  "language_info": {
   "codemirror_mode": {
    "name": "ipython",
    "version": 3
   },
   "file_extension": ".py",
   "mimetype": "text/x-python",
   "name": "python",
   "nbconvert_exporter": "python",
   "pygments_lexer": "ipython3",
   "version": "3.7.7-final"
  }
 },
 "nbformat": 4,
 "nbformat_minor": 2
}